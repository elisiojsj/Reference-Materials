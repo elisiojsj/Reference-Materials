{
 "cells": [
  {
   "cell_type": "code",
   "execution_count": 2,
   "metadata": {},
   "outputs": [],
   "source": [
    "import matplotlib.pyplot as plt\n",
    "import seaborn as sns"
   ]
  },
  {
   "cell_type": "markdown",
   "metadata": {},
   "source": [
    "### Normal distribution"
   ]
  },
  {
   "cell_type": "code",
   "execution_count": 6,
   "metadata": {},
   "outputs": [],
   "source": [
    "from scipy.stats import norm\n",
    "# Generate random numbers for given mean and std \n",
    "mean = 0\n",
    "std = 1\n",
    "data_normal = norm.rvs(size=10000,loc=mean,scale=std)"
   ]
  },
  {
   "cell_type": "code",
   "execution_count": 7,
   "metadata": {
    "scrolled": true
   },
   "outputs": [
    {
     "data": {
      "text/plain": [
       "[Text(0, 0.5, 'Frequency'), Text(0.5, 0, 'Normal Distribution')]"
      ]
     },
     "execution_count": 7,
     "metadata": {},
     "output_type": "execute_result"
    },
    {
     "data": {
      "image/png": "[encoded data removed]",
      "text/plain": [
       "<Figure size 432x288 with 1 Axes>"
      ]
     },
     "metadata": {
      "needs_background": "light"
     },
     "output_type": "display_data"
    }
   ],
   "source": [
    "# plot normal distribution using seaborn\n",
    "sns.distplot(data_normal, bins=100, kde=True).set(xlabel='Normal Distribution', ylabel='Frequency')"
   ]
  },
  {
   "cell_type": "code",
   "execution_count": 8,
   "metadata": {},
   "outputs": [
    {
     "data": {
      "text/plain": [
       "0.3989422804014327"
      ]
     },
     "execution_count": 8,
     "metadata": {},
     "output_type": "execute_result"
    }
   ],
   "source": [
    "# Evaluate the PDF for the same distribution at point 0\n",
    "norm(mean, std).pdf(0)"
   ]
  },
  {
   "cell_type": "markdown",
   "metadata": {},
   "source": [
    "CDF (Cumulative Distribution Function)"
   ]
  },
  {
   "cell_type": "code",
   "execution_count": 9,
   "metadata": {},
   "outputs": [
    {
     "data": {
      "text/plain": [
       "0.5"
      ]
     },
     "execution_count": 9,
     "metadata": {},
     "output_type": "execute_result"
    }
   ],
   "source": [
    "# Evaluate the CDF for the distribution at point 0\n",
    "# As the point 0 is the mean we expect to find half of\n",
    "# the values up to this point.\n",
    "norm(mean, std).cdf(0)"
   ]
  },
  {
   "cell_type": "markdown",
   "metadata": {},
   "source": [
    "![Confidence Intervals](./images/confidence_intervals.png)\n",
    "[image source](https://www.kdnuggets.com/2018/08/basic-statistics-python-probability.html)"
   ]
  },
  {
   "cell_type": "markdown",
   "metadata": {},
   "source": [
    "#### Confidence intervals\n",
    "According to the theory:\n",
    "* 68% of values are concentrated within 1 standard deviation of the mean (-1σ <= X <= 1σ)\n",
    "* 90% of values are concentrated within 1.65 standard deviations of the mean (-1.65σ <= X <= 1.65σ)\n",
    "* 95% of values are concentrated within 1.96 standard deviations of the mean (-1.96σ <= X <= 1.96σ)\n",
    "* 99% of values are concentrated within 2.58 standard deviations of the mean (-2.58σ <= X <= 2.58σ)    "
   ]
  },
  {
   "cell_type": "markdown",
   "metadata": {},
   "source": [
    "Therefore, by calculating the CDF between -1.65σ and 1.65σ we'll find the value 0.90. Meaning that 90% of the data is between this interval.\n",
    "\n",
    "Calculating the 5% and the 95% quantile, we can see they correspond to the interval where 90% of the data is concentrated."
   ]
  },
  {
   "cell_type": "code",
   "execution_count": 29,
   "metadata": {},
   "outputs": [
    {
     "name": "stdout",
     "output_type": "stream",
     "text": [
      "CDF(-1.65σ and 1.65σ): 0.90\n",
      "5% and 95% quantiles: -1.64 | 1.64\n"
     ]
    }
   ],
   "source": [
    "# CDF between 1.65 standard deviations of the mean\n",
    "cdf_90 = norm(mean, std).cdf(1.65*std) - norm(mean, std).cdf(-1.65*std)\n",
    "print(\"CDF(-1.65σ and 1.65σ): {:.2f}\".format(cdf_90))\n",
    "\n",
    "# Z-score of the 5% and 95% quantile\n",
    "q_95 = norm(mean, std).ppf(0.95)\n",
    "q_05 = norm(mean, std).ppf(0.05)\n",
    "print(\"5% and 95% quantiles: {:.2f} | {:.2f}\".format(q_05, q_95))"
   ]
  },
  {
   "cell_type": "markdown",
   "metadata": {},
   "source": [
    "The same way we do for the CDF between -1.96σ and 1.96σ, 95% of the data is between this interval.\n",
    "\n",
    "And the 2.5% and 97.5% quantiles where 95% of the data is concentrated."
   ]
  },
  {
   "cell_type": "code",
   "execution_count": 28,
   "metadata": {},
   "outputs": [
    {
     "name": "stdout",
     "output_type": "stream",
     "text": [
      "CDF(-1.96σ and 1.96σ): 0.95\n",
      "2.5% and 97.5% quantiles: -1.96 | 1.96\n"
     ]
    }
   ],
   "source": [
    "# CDF between 1.96 standard deviations of the mean\n",
    "cdf_95 = norm(mean, std).cdf(1.96*std) - norm(mean, std).cdf(-1.96*std)\n",
    "print(\"CDF(-1.96σ and 1.96σ): {:.2f}\".format(cdf_95))\n",
    "\n",
    "# Z-score of the 2.5% and 97.5% quantile\n",
    "q_975 = norm(mean, std).ppf(0.975)\n",
    "q_025 = norm(mean, std).ppf(0.025)\n",
    "print(\"2.5% and 97.5% quantiles: {:.2f} | {:.2f}\".format(q_025, q_975))"
   ]
  },
  {
   "cell_type": "markdown",
   "metadata": {},
   "source": [
    "\n",
    "---\n"
   ]
  }
 ],
 "metadata": {
  "kernelspec": {
   "display_name": "Python 3",
   "language": "python",
   "name": "python3"
  },
  "language_info": {
   "codemirror_mode": {
    "name": "ipython",
    "version": 3
   },
   "file_extension": ".py",
   "mimetype": "text/x-python",
   "name": "python",
   "nbconvert_exporter": "python",
   "pygments_lexer": "ipython3",
   "version": "3.7.4"
  }
 },
 "nbformat": 4,
 "nbformat_minor": 4
}
