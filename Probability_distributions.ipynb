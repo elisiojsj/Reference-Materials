{
 "cells": [
  {
   "cell_type": "code",
   "execution_count": 1,
   "metadata": {},
   "outputs": [],
   "source": [
    "import matplotlib.pyplot as plt\n",
    "import seaborn as sns"
   ]
  },
  {
   "cell_type": "markdown",
   "metadata": {},
   "source": [
    "PDF -> Probability Density Function<br>\n",
    "PMF -> Probability Mass Function<br>\n",
    "CDF -> Cumulative Distribution Function"
   ]
  },
  {
   "cell_type": "markdown",
   "metadata": {},
   "source": [
    "### Normal distribution"
   ]
  },
  {
   "cell_type": "code",
   "execution_count": 2,
   "metadata": {},
   "outputs": [],
   "source": [
    "from scipy.stats import norm\n",
    "# Generate random numbers for given mean and std \n",
    "mean = 0\n",
    "std = 1\n",
    "data_normal = norm.rvs(size=10000, loc=mean, scale=std)"
   ]
  },
  {
   "cell_type": "code",
   "execution_count": 3,
   "metadata": {
    "scrolled": true
   },
   "outputs": [
    {
     "data": {
      "text/plain": [
       "[Text(0, 0.5, 'Frequency'), Text(0.5, 0, 'Normal Distribution')]"
      ]
     },
     "execution_count": 3,
     "metadata": {},
     "output_type": "execute_result"
    },
    {
     "data": {
      "image/png": "[encoded data removed]",
      "text/plain": [
       "<Figure size 432x288 with 1 Axes>"
      ]
     },
     "metadata": {
      "needs_background": "light"
     },
     "output_type": "display_data"
    }
   ],
   "source": [
    "# plot normal distribution using seaborn\n",
    "sns.distplot(data_normal, bins=100, kde=True).set(xlabel='Normal Distribution', ylabel='Frequency')"
   ]
  },
  {
   "cell_type": "code",
   "execution_count": 4,
   "metadata": {},
   "outputs": [
    {
     "data": {
      "text/plain": [
       "0.3989422804014327"
      ]
     },
     "execution_count": 4,
     "metadata": {},
     "output_type": "execute_result"
    }
   ],
   "source": [
    "# Evaluate the PDF for the same distribution at point 0\n",
    "norm(mean, std).pdf(0)"
   ]
  },
  {
   "cell_type": "code",
   "execution_count": 5,
   "metadata": {},
   "outputs": [
    {
     "data": {
      "text/plain": [
       "0.5"
      ]
     },
     "execution_count": 5,
     "metadata": {},
     "output_type": "execute_result"
    }
   ],
   "source": [
    "# Evaluate the CDF for the distribution at point 0\n",
    "# As the point 0 is the mean we expect to find half of\n",
    "# the values up to this point.\n",
    "norm(mean, std).cdf(0)"
   ]
  },
  {
   "cell_type": "markdown",
   "metadata": {},
   "source": [
    "#### Empirical rule (68–95–99.7 rule)\n",
    "* 68.27% of values are concentrated within 1 standard deviation of the mean (μ-1σ <= X <= μ+1σ)\n",
    "* 95.45% of values are concentrated within 2 standard deviations of the mean (μ-2σ <= X <= μ+2σ)\n",
    "* 99.73% of values are concentrated within 3 standard deviations of the mean (μ-3σ <= X <= μ+3σ)    "
   ]
  },
  {
   "cell_type": "markdown",
   "metadata": {},
   "source": [
    "![Confidence Intervals](./images/confidence_intervals.png)\n",
    "[image source](https://www.kdnuggets.com/2018/08/basic-statistics-python-probability.html)"
   ]
  },
  {
   "cell_type": "code",
   "execution_count": 6,
   "metadata": {},
   "outputs": [
    {
     "name": "stdout",
     "output_type": "stream",
     "text": [
      "CDF(-σ | σ): 0.6827\n",
      "CDF(-2σ | 2σ): 0.9545\n",
      "CDF(-3σ | 3σ): 0.9973\n"
     ]
    }
   ],
   "source": [
    "# CDF between 1 standard deviations of the mean\n",
    "cdf_68 = norm(mean, std).cdf(1*std) - norm(mean, std).cdf(-1*std)\n",
    "print(\"CDF(-σ | σ): {:.4f}\".format(cdf_68))\n",
    "\n",
    "# CDF between 2 standard deviations of the mean\n",
    "cdf_95 = norm(mean, std).cdf(2*std) - norm(mean, std).cdf(-2*std)\n",
    "print(\"CDF(-2σ | 2σ): {:.4f}\".format(cdf_95))\n",
    "\n",
    "# CDF between 3 standard deviations of the mean\n",
    "cdf_99 = norm(mean, std).cdf(3*std) - norm(mean, std).cdf(-3*std)\n",
    "print(\"CDF(-3σ | 3σ): {:.4f}\".format(cdf_99))"
   ]
  },
  {
   "cell_type": "markdown",
   "metadata": {},
   "source": [
    "Bellow we calculate the 5% and 95% quantiles and they return how many standard deviations we're from the mean for each proportion. With the results we can calculate the difference of CDF and get 90% (95% - 5%)"
   ]
  },
  {
   "cell_type": "code",
   "execution_count": 7,
   "metadata": {},
   "outputs": [
    {
     "name": "stdout",
     "output_type": "stream",
     "text": [
      "5% and 95% quantiles: -1.64 | 1.64\n",
      "CDF(q_95 - q_05): 0.90\n"
     ]
    }
   ],
   "source": [
    "# Z-score of the 5% and 95% quantiles\n",
    "q_95 = norm(mean, std).ppf(0.95)\n",
    "q_05 = norm(mean, std).ppf(0.05)\n",
    "print(\"5% and 95% quantiles: {:.2f} | {:.2f}\".format(q_05, q_95))\n",
    "\n",
    "# CDF between 1.65 standard deviations of the mean\n",
    "cdf_x = norm(mean, std).cdf(q_95) - norm(mean, std).cdf(q_05)\n",
    "print(\"CDF(q_95 - q_05): {:.2f}\".format(cdf_x))"
   ]
  },
  {
   "cell_type": "markdown",
   "metadata": {},
   "source": [
    "\n",
    "---\n"
   ]
  },
  {
   "cell_type": "markdown",
   "metadata": {},
   "source": [
    "### Uniform distribution"
   ]
  },
  {
   "cell_type": "code",
   "execution_count": 8,
   "metadata": {},
   "outputs": [],
   "source": [
    "from scipy.stats import uniform"
   ]
  },
  {
   "cell_type": "code",
   "execution_count": 9,
   "metadata": {},
   "outputs": [],
   "source": [
    "# generate random numbers from uniform distribution\n",
    "start = 0\n",
    "width = 1\n",
    "data_uniform = uniform.rvs(size=10000, loc = start, scale=width)"
   ]
  },
  {
   "cell_type": "code",
   "execution_count": 10,
   "metadata": {
    "scrolled": true
   },
   "outputs": [
    {
     "data": {
      "text/plain": [
       "[Text(0, 0.5, 'Frequency'), Text(0.5, 0, 'Uniform Distribution')]"
      ]
     },
     "execution_count": 10,
     "metadata": {},
     "output_type": "execute_result"
    },
    {
     "data": {
      "image/png": "[encoded data removed]",
      "text/plain": [
       "<Figure size 432x288 with 1 Axes>"
      ]
     },
     "metadata": {
      "needs_background": "light"
     },
     "output_type": "display_data"
    }
   ],
   "source": [
    "# plot uniform distribution using seaborn\n",
    "sns.distplot(data_uniform, bins=100, kde=True).set(xlabel='Uniform Distribution', ylabel='Frequency')"
   ]
  },
  {
   "cell_type": "markdown",
   "metadata": {},
   "source": [
    "The uniform distribution has value 1 in a defined interval and 0 for the rest.<br>\n",
    "In this case a PDF returns 1 for any variable in the interval 0-1 and 0 for any variable out of this interval."
   ]
  },
  {
   "cell_type": "code",
   "execution_count": 11,
   "metadata": {},
   "outputs": [
    {
     "name": "stdout",
     "output_type": "stream",
     "text": [
      "PDF of uniform distribution [0,1] for:\n",
      "x=-2: 0.0\n",
      "x=0: 1.0\n",
      "x=0.5: 1.0\n",
      "x=1.1: 0.0\n"
     ]
    }
   ],
   "source": [
    "# Evaluate the PDF for the same distribution at point 0\n",
    "unif_m20 = uniform(start, width).pdf(-2)\n",
    "unif_00 = uniform(start, width).pdf(0)\n",
    "unif_05 = uniform(start, width).pdf(0.5)\n",
    "unif_11 = uniform(start, width).pdf(1.1)\n",
    "print(\"PDF of uniform distribution [0,1] for:\")\n",
    "print(\"x=-2:\", unif_m20)\n",
    "print(\"x=0:\", unif_00)\n",
    "print(\"x=0.5:\", unif_05)\n",
    "print(\"x=1.1:\", unif_11)"
   ]
  },
  {
   "cell_type": "code",
   "execution_count": 12,
   "metadata": {},
   "outputs": [
    {
     "data": {
      "text/plain": [
       "0.5"
      ]
     },
     "execution_count": 12,
     "metadata": {},
     "output_type": "execute_result"
    }
   ],
   "source": [
    "# Evaluate the CDF for the distribution at point 0.5\n",
    "# As the point 0.5 is the mean we expect to find half of\n",
    "# the values up to this point.\n",
    "uniform(start, width).cdf(0.5)"
   ]
  },
  {
   "cell_type": "markdown",
   "metadata": {},
   "source": [
    "\n",
    "---\n"
   ]
  },
  {
   "cell_type": "markdown",
   "metadata": {},
   "source": [
    "### Bernoulli distribution"
   ]
  },
  {
   "cell_type": "code",
   "execution_count": 13,
   "metadata": {},
   "outputs": [],
   "source": [
    "from scipy.stats import bernoulli"
   ]
  },
  {
   "cell_type": "code",
   "execution_count": 14,
   "metadata": {},
   "outputs": [],
   "source": [
    "# generate 10000 bernoulli trials which can be 0 or 1, \n",
    "# the only possible outcomes (e.g. coin toss), with success probability p\n",
    "p = 0.7\n",
    "data_bernoulli = bernoulli.rvs(size=10000, p=p)"
   ]
  },
  {
   "cell_type": "code",
   "execution_count": 15,
   "metadata": {},
   "outputs": [
    {
     "data": {
      "text/plain": [
       "[Text(0, 0.5, 'Frequency'), Text(0.5, 0, 'Bernoulli Distribution')]"
      ]
     },
     "execution_count": 15,
     "metadata": {},
     "output_type": "execute_result"
    },
    {
     "data": {
      "image/png": "[encoded data removed]",
      "text/plain": [
       "<Figure size 432x288 with 1 Axes>"
      ]
     },
     "metadata": {
      "needs_background": "light"
     },
     "output_type": "display_data"
    }
   ],
   "source": [
    "# plot bernoulli distribution using seaborn\n",
    "sns.distplot(data_bernoulli, bins=100, kde=True).set(xlabel='Bernoulli Distribution', ylabel='Frequency')"
   ]
  },
  {
   "cell_type": "code",
   "execution_count": 16,
   "metadata": {},
   "outputs": [
    {
     "name": "stdout",
     "output_type": "stream",
     "text": [
      "p=0.4 pmf(0): 0.6\n",
      "p=0.4 pmf(1): 0.4\n",
      "p=0.8 pmf(0): 0.19999999999999998\n",
      "p=0.8 pmf(1): 0.8\n"
     ]
    }
   ],
   "source": [
    "# Bernoulli uses PMF because it's a discrete function.\n",
    "# It's distributed over only 0 or 1 according to the prob. p\n",
    "b_04_0 = bernoulli(p=0.4).pmf(0)\n",
    "b_04_1 = bernoulli(p=0.4).pmf(1)\n",
    "b_08_0 = bernoulli(p=0.8).pmf(0)\n",
    "b_08_1 = bernoulli(p=0.8).pmf(1)\n",
    "print(\"p=0.4 pmf(0):\", b_04_0)\n",
    "print(\"p=0.4 pmf(1):\", b_04_1)\n",
    "print(\"p=0.8 pmf(0):\", b_08_0)\n",
    "print(\"p=0.8 pmf(1):\", b_08_1)"
   ]
  },
  {
   "cell_type": "code",
   "execution_count": 17,
   "metadata": {},
   "outputs": [
    {
     "data": {
      "text/plain": [
       "0.6"
      ]
     },
     "execution_count": 17,
     "metadata": {},
     "output_type": "execute_result"
    }
   ],
   "source": [
    "# Evaluate the CDF for the bernoulli distribution at point 0.5\n",
    "# As the values are concentrated only at the points 0 and 1\n",
    "# we expect the return of the prob concentrated at the point 0.\n",
    "# which is 0.6 given that 0.4 are on 1.\n",
    "bernoulli(p=0.4).cdf(0.5)"
   ]
  },
  {
   "cell_type": "markdown",
   "metadata": {},
   "source": [
    "\n",
    "---\n"
   ]
  },
  {
   "cell_type": "markdown",
   "metadata": {},
   "source": [
    "### Binomial distribution"
   ]
  },
  {
   "cell_type": "code",
   "execution_count": 18,
   "metadata": {},
   "outputs": [],
   "source": [
    "from scipy.stats import binom"
   ]
  },
  {
   "cell_type": "code",
   "execution_count": 19,
   "metadata": {},
   "outputs": [],
   "source": [
    "# generate distribution data with number of trials (n) and prob (p)\n",
    "n = 10\n",
    "p = 0.8\n",
    "data_binom = binom.rvs(n=n,p=p,size=10000)"
   ]
  },
  {
   "cell_type": "code",
   "execution_count": 20,
   "metadata": {},
   "outputs": [
    {
     "data": {
      "text/plain": [
       "[Text(0, 0.5, 'Frequency'), Text(0.5, 0, 'Binomial Distribution')]"
      ]
     },
     "execution_count": 20,
     "metadata": {},
     "output_type": "execute_result"
    },
    {
     "data": {
      "image/png": "[encoded data removed]",
      "text/plain": [
       "<Figure size 432x288 with 1 Axes>"
      ]
     },
     "metadata": {
      "needs_background": "light"
     },
     "output_type": "display_data"
    }
   ],
   "source": [
    "sns.distplot(data_binom, bins=100, kde=True).set(xlabel='Binomial Distribution', ylabel='Frequency')"
   ]
  },
  {
   "cell_type": "markdown",
   "metadata": {},
   "source": [
    "As the prob of success is greater than 0.5 the distribution is right skewed."
   ]
  },
  {
   "cell_type": "code",
   "execution_count": 21,
   "metadata": {},
   "outputs": [
    {
     "name": "stdout",
     "output_type": "stream",
     "text": [
      "p=0.8 pmf(1): 7.372799999999991e-05\n",
      "p=0.8 pmf(6): 0.08808038400000004\n",
      "p=0.8 pmf(8): 0.301989888\n",
      "p=0.8 pmf(10): 0.10737418240000005\n"
     ]
    }
   ],
   "source": [
    "# Binomial uses PMF because it's a discrete function.\n",
    "b_08_02 = binom(n=10,p=0.8).pmf(2)\n",
    "b_08_06 = binom(n=10,p=0.8).pmf(6)\n",
    "b_08_08 = binom(n=10,p=0.8).pmf(8)\n",
    "b_08_10 = binom(n=10,p=0.8).pmf(10)\n",
    "print(\"p=0.8 pmf(1):\", b_08_02)\n",
    "print(\"p=0.8 pmf(6):\", b_08_06)\n",
    "print(\"p=0.8 pmf(8):\", b_08_08)\n",
    "print(\"p=0.8 pmf(10):\", b_08_10)"
   ]
  },
  {
   "cell_type": "code",
   "execution_count": 22,
   "metadata": {},
   "outputs": [
    {
     "data": {
      "text/plain": [
       "0.8926258175999999"
      ]
     },
     "execution_count": 22,
     "metadata": {},
     "output_type": "execute_result"
    }
   ],
   "source": [
    "# Evaluate the CDF for a binomial distribution \n",
    "# (10 trials, 0.8 prob of success) at point 9\n",
    "binom(n=10, p=0.8).cdf(9)"
   ]
  }
 ],
 "metadata": {
  "kernelspec": {
   "display_name": "Python 3",
   "language": "python",
   "name": "python3"
  },
  "language_info": {
   "codemirror_mode": {
    "name": "ipython",
    "version": 3
   },
   "file_extension": ".py",
   "mimetype": "text/x-python",
   "name": "python",
   "nbconvert_exporter": "python",
   "pygments_lexer": "ipython3",
   "version": "3.7.4"
  }
 },
 "nbformat": 4,
 "nbformat_minor": 4
}
