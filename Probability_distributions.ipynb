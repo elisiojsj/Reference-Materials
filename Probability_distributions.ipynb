{
 "cells": [
  {
   "cell_type": "code",
   "execution_count": 10,
   "metadata": {},
   "outputs": [],
   "source": [
    "import matplotlib.pyplot as plt\n",
    "import seaborn as sns"
   ]
  },
  {
   "cell_type": "markdown",
   "metadata": {},
   "source": [
    "PDF -> Probability Density Function<br>\n",
    "PMF -> Probability Mass Function<br>\n",
    "CDF -> Cumulative Distribution Function"
   ]
  },
  {
   "cell_type": "markdown",
   "metadata": {},
   "source": [
    "### Normal distribution"
   ]
  },
  {
   "cell_type": "code",
   "execution_count": 11,
   "metadata": {},
   "outputs": [],
   "source": [
    "from scipy.stats import norm\n",
    "# Generate random numbers for given mean and std \n",
    "mean = 0\n",
    "std = 1\n",
    "data_normal = norm.rvs(size=10000,loc=mean,scale=std)"
   ]
  },
  {
   "cell_type": "code",
   "execution_count": 12,
   "metadata": {
    "scrolled": true
   },
   "outputs": [
    {
     "data": {
      "text/plain": [
       "[Text(0, 0.5, 'Frequency'), Text(0.5, 0, 'Normal Distribution')]"
      ]
     },
     "execution_count": 12,
     "metadata": {},
     "output_type": "execute_result"
    },
    {
     "data": {
      "image/png": "[encoded data removed]",
      "text/plain": [
       "<Figure size 432x288 with 1 Axes>"
      ]
     },
     "metadata": {
      "needs_background": "light"
     },
     "output_type": "display_data"
    }
   ],
   "source": [
    "# plot normal distribution using seaborn\n",
    "sns.distplot(data_normal, bins=100, kde=True).set(xlabel='Normal Distribution', ylabel='Frequency')"
   ]
  },
  {
   "cell_type": "code",
   "execution_count": 13,
   "metadata": {},
   "outputs": [
    {
     "data": {
      "text/plain": [
       "0.3989422804014327"
      ]
     },
     "execution_count": 13,
     "metadata": {},
     "output_type": "execute_result"
    }
   ],
   "source": [
    "# Evaluate the PDF for the same distribution at point 0\n",
    "norm(mean, std).pdf(0)"
   ]
  },
  {
   "cell_type": "code",
   "execution_count": 14,
   "metadata": {},
   "outputs": [
    {
     "data": {
      "text/plain": [
       "0.5"
      ]
     },
     "execution_count": 14,
     "metadata": {},
     "output_type": "execute_result"
    }
   ],
   "source": [
    "# Evaluate the CDF for the distribution at point 0\n",
    "# As the point 0 is the mean we expect to find half of\n",
    "# the values up to this point.\n",
    "norm(mean, std).cdf(0)"
   ]
  },
  {
   "cell_type": "markdown",
   "metadata": {},
   "source": [
    "#### Empirical rule (68–95–99.7 rule)\n",
    "* 68.27% of values are concentrated within 1 standard deviation of the mean (μ-1σ <= X <= μ+1σ)\n",
    "* 95.45% of values are concentrated within 2 standard deviations of the mean (μ-2σ <= X <= μ+2σ)\n",
    "* 99.73% of values are concentrated within 3 standard deviations of the mean (μ-3σ <= X <= μ+3σ)    "
   ]
  },
  {
   "cell_type": "markdown",
   "metadata": {},
   "source": [
    "![Confidence Intervals](./images/confidence_intervals.png)\n",
    "[image source](https://www.kdnuggets.com/2018/08/basic-statistics-python-probability.html)"
   ]
  },
  {
   "cell_type": "code",
   "execution_count": 29,
   "metadata": {},
   "outputs": [
    {
     "name": "stdout",
     "output_type": "stream",
     "text": [
      "CDF(-σ | σ): 0.6827\n",
      "CDF(-2σ | 2σ): 0.9545\n",
      "CDF(-3σ | 3σ): 0.9973\n"
     ]
    }
   ],
   "source": [
    "# CDF between 1 standard deviations of the mean\n",
    "cdf_68 = norm(mean, std).cdf(1*std) - norm(mean, std).cdf(-1*std)\n",
    "print(\"CDF(-σ | σ): {:.4f}\".format(cdf_68))\n",
    "\n",
    "# CDF between 2 standard deviations of the mean\n",
    "cdf_95 = norm(mean, std).cdf(2*std) - norm(mean, std).cdf(-2*std)\n",
    "print(\"CDF(-2σ | 2σ): {:.4f}\".format(cdf_95))\n",
    "\n",
    "# CDF between 3 standard deviations of the mean\n",
    "cdf_99 = norm(mean, std).cdf(3*std) - norm(mean, std).cdf(-3*std)\n",
    "print(\"CDF(-3σ | 3σ): {:.4f}\".format(cdf_99))"
   ]
  },
  {
   "cell_type": "markdown",
   "metadata": {},
   "source": [
    "Bellow we calculate the 5% and 95% quantiles and with the results we can calculate the difference of CDF and get 90%"
   ]
  },
  {
   "cell_type": "code",
   "execution_count": 33,
   "metadata": {},
   "outputs": [
    {
     "name": "stdout",
     "output_type": "stream",
     "text": [
      "5% and 95% quantiles: -1.64 | 1.64\n",
      "CDF(q_95 - q_05): 0.90\n"
     ]
    }
   ],
   "source": [
    "# Z-score of the 5% and 95% quantiles\n",
    "q_95 = norm(mean, std).ppf(0.95)\n",
    "q_05 = norm(mean, std).ppf(0.05)\n",
    "print(\"5% and 95% quantiles: {:.2f} | {:.2f}\".format(q_05, q_95))\n",
    "\n",
    "# CDF between 1.65 standard deviations of the mean\n",
    "cdf_x = norm(mean, std).cdf(q_95) - norm(mean, std).cdf(q_05)\n",
    "print(\"CDF(q_95 - q_05): {:.2f}\".format(cdf_x))"
   ]
  },
  {
   "cell_type": "markdown",
   "metadata": {},
   "source": [
    "\n",
    "---\n"
   ]
  }
 ],
 "metadata": {
  "kernelspec": {
   "display_name": "Python 3",
   "language": "python",
   "name": "python3"
  },
  "language_info": {
   "codemirror_mode": {
    "name": "ipython",
    "version": 3
   },
   "file_extension": ".py",
   "mimetype": "text/x-python",
   "name": "python",
   "nbconvert_exporter": "python",
   "pygments_lexer": "ipython3",
   "version": "3.7.4"
  }
 },
 "nbformat": 4,
 "nbformat_minor": 4
}
