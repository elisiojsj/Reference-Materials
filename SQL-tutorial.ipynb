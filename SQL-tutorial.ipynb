{
 "cells": [
  {
   "cell_type": "markdown",
   "metadata": {},
   "source": [
    "## Simple SQL tutorial"
   ]
  },
  {
   "cell_type": "code",
   "execution_count": 1,
   "metadata": {},
   "outputs": [
    {
     "data": {
      "text/plain": [
       "'Connected: @None'"
      ]
     },
     "execution_count": 1,
     "metadata": {},
     "output_type": "execute_result"
    }
   ],
   "source": [
    "%load_ext sql\n",
    "%sql sqlite://"
   ]
  },
  {
   "cell_type": "code",
   "execution_count": 2,
   "metadata": {},
   "outputs": [
    {
     "name": "stdout",
     "output_type": "stream",
     "text": [
      " * sqlite://\n",
      "Done.\n",
      "6 rows affected.\n"
     ]
    },
    {
     "data": {
      "text/plain": [
       "[]"
      ]
     },
     "execution_count": 2,
     "metadata": {},
     "output_type": "execute_result"
    }
   ],
   "source": [
    "%%sql\n",
    "\n",
    "CREATE TABLE person(\n",
    "    person_id INTEGER NOT NULL,\n",
    "    person_first_name VARCHAR(55) NOT NULL,\n",
    "    person_last_name VARCHAR(55) NULL,\n",
    "    person_contacted_ntimes INTEGER NOT NULL, \n",
    "    person_address VARCHAR(55) NULL, \n",
    "    person_date_added DATETIME NOT NULL\n",
    ");\n",
    "\n",
    "INSERT INTO person \n",
    "    VALUES  (1, 'Jon', 'Flanders', 5, 'London', '2022-03-19 13:47:25'),\n",
    "            (2, 'Shannon', 'Ahern', 0, 'Glasgow', '2022-04-23 13:47:25'),\n",
    "            (3, 'Fritz', 'Onion', 1, 'York', '2022-04-25 13:47:25'),\n",
    "            (4, 'Jon', 'Brown', 3, 'Cambridge', '2022-05-11 13:47:25'),\n",
    "            (5, 'Fritz', 'Owen', 2, 'Edinburgh', '2022-06-01 13:47:25'),\n",
    "            (6, 'Mary', 'Ahern', 8, NULL, '2022-06-01 13:47:25');"
   ]
  },
  {
   "cell_type": "code",
   "execution_count": 3,
   "metadata": {},
   "outputs": [
    {
     "name": "stdout",
     "output_type": "stream",
     "text": [
      " * sqlite://\n",
      "Done.\n",
      "9 rows affected.\n"
     ]
    },
    {
     "data": {
      "text/plain": [
       "[]"
      ]
     },
     "execution_count": 3,
     "metadata": {},
     "output_type": "execute_result"
    }
   ],
   "source": [
    "%%sql\n",
    "\n",
    "CREATE TABLE email_address(\t\n",
    "    email_address_id INTEGER NOT NULL,\t\n",
    "    email_address_person_id INTEGER,\t\n",
    "    email_address VARCHAR(55) NULL, \n",
    "    CONSTRAINT PK_email_address PRIMARY KEY (email_address_id )\n",
    ");\n",
    "\n",
    "INSERT INTO email_address \n",
    "    VALUES  (1, 1, 'jon.flanders@xyz.com'),\n",
    "            (2, 1, 'jonf@abc.com'),\n",
    "            (3, 2, 'shannonah@abc.co'),\n",
    "            (4, 3, 'onionfritz@zyk.com'),\n",
    "            (5, 3, 'mrofritz@abc.net'),\n",
    "            (6, 4, 'jbrown@hkc.org'),\n",
    "            (7, 6, 'marya@mail.com'),\n",
    "            (8, 6, 'msahern@mail.com'),\n",
    "            (9, 6, 'ahern.m@hij.co');"
   ]
  },
  {
   "cell_type": "code",
   "execution_count": 4,
   "metadata": {},
   "outputs": [
    {
     "name": "stdout",
     "output_type": "stream",
     "text": [
      " * sqlite://\n",
      "Done.\n"
     ]
    },
    {
     "data": {
      "text/html": [
       "<table>\n",
       "    <thead>\n",
       "        <tr>\n",
       "            <th>person_id</th>\n",
       "            <th>person_first_name</th>\n",
       "            <th>person_last_name</th>\n",
       "            <th>person_contacted_ntimes</th>\n",
       "            <th>person_address</th>\n",
       "            <th>person_date_added</th>\n",
       "        </tr>\n",
       "    </thead>\n",
       "    <tbody>\n",
       "        <tr>\n",
       "            <td>1</td>\n",
       "            <td>Jon</td>\n",
       "            <td>Flanders</td>\n",
       "            <td>5</td>\n",
       "            <td>London</td>\n",
       "            <td>2022-03-19 13:47:25</td>\n",
       "        </tr>\n",
       "        <tr>\n",
       "            <td>2</td>\n",
       "            <td>Shannon</td>\n",
       "            <td>Ahern</td>\n",
       "            <td>0</td>\n",
       "            <td>Glasgow</td>\n",
       "            <td>2022-04-23 13:47:25</td>\n",
       "        </tr>\n",
       "        <tr>\n",
       "            <td>3</td>\n",
       "            <td>Fritz</td>\n",
       "            <td>Onion</td>\n",
       "            <td>1</td>\n",
       "            <td>York</td>\n",
       "            <td>2022-04-25 13:47:25</td>\n",
       "        </tr>\n",
       "        <tr>\n",
       "            <td>4</td>\n",
       "            <td>Jon</td>\n",
       "            <td>Brown</td>\n",
       "            <td>3</td>\n",
       "            <td>Cambridge</td>\n",
       "            <td>2022-05-11 13:47:25</td>\n",
       "        </tr>\n",
       "        <tr>\n",
       "            <td>5</td>\n",
       "            <td>Fritz</td>\n",
       "            <td>Owen</td>\n",
       "            <td>2</td>\n",
       "            <td>Edinburgh</td>\n",
       "            <td>2022-06-01 13:47:25</td>\n",
       "        </tr>\n",
       "        <tr>\n",
       "            <td>6</td>\n",
       "            <td>Mary</td>\n",
       "            <td>Ahern</td>\n",
       "            <td>8</td>\n",
       "            <td>None</td>\n",
       "            <td>2022-06-01 13:47:25</td>\n",
       "        </tr>\n",
       "    </tbody>\n",
       "</table>"
      ],
      "text/plain": [
       "[(1, 'Jon', 'Flanders', 5, 'London', '2022-03-19 13:47:25'),\n",
       " (2, 'Shannon', 'Ahern', 0, 'Glasgow', '2022-04-23 13:47:25'),\n",
       " (3, 'Fritz', 'Onion', 1, 'York', '2022-04-25 13:47:25'),\n",
       " (4, 'Jon', 'Brown', 3, 'Cambridge', '2022-05-11 13:47:25'),\n",
       " (5, 'Fritz', 'Owen', 2, 'Edinburgh', '2022-06-01 13:47:25'),\n",
       " (6, 'Mary', 'Ahern', 8, None, '2022-06-01 13:47:25')]"
      ]
     },
     "execution_count": 4,
     "metadata": {},
     "output_type": "execute_result"
    }
   ],
   "source": [
    "%%sql\n",
    "SELECT * FROM person;"
   ]
  },
  {
   "cell_type": "code",
   "execution_count": 5,
   "metadata": {},
   "outputs": [
    {
     "name": "stdout",
     "output_type": "stream",
     "text": [
      " * sqlite://\n",
      "Done.\n"
     ]
    },
    {
     "data": {
      "text/html": [
       "<table>\n",
       "    <thead>\n",
       "        <tr>\n",
       "            <th>email_address_id</th>\n",
       "            <th>email_address_person_id</th>\n",
       "            <th>email_address</th>\n",
       "        </tr>\n",
       "    </thead>\n",
       "    <tbody>\n",
       "        <tr>\n",
       "            <td>1</td>\n",
       "            <td>1</td>\n",
       "            <td>jon.flanders@xyz.com</td>\n",
       "        </tr>\n",
       "        <tr>\n",
       "            <td>2</td>\n",
       "            <td>1</td>\n",
       "            <td>jonf@abc.com</td>\n",
       "        </tr>\n",
       "        <tr>\n",
       "            <td>3</td>\n",
       "            <td>2</td>\n",
       "            <td>shannonah@abc.co</td>\n",
       "        </tr>\n",
       "        <tr>\n",
       "            <td>4</td>\n",
       "            <td>3</td>\n",
       "            <td>onionfritz@zyk.com</td>\n",
       "        </tr>\n",
       "        <tr>\n",
       "            <td>5</td>\n",
       "            <td>3</td>\n",
       "            <td>mrofritz@abc.net</td>\n",
       "        </tr>\n",
       "        <tr>\n",
       "            <td>6</td>\n",
       "            <td>4</td>\n",
       "            <td>jbrown@hkc.org</td>\n",
       "        </tr>\n",
       "        <tr>\n",
       "            <td>7</td>\n",
       "            <td>6</td>\n",
       "            <td>marya@mail.com</td>\n",
       "        </tr>\n",
       "        <tr>\n",
       "            <td>8</td>\n",
       "            <td>6</td>\n",
       "            <td>msahern@mail.com</td>\n",
       "        </tr>\n",
       "        <tr>\n",
       "            <td>9</td>\n",
       "            <td>6</td>\n",
       "            <td>ahern.m@hij.co</td>\n",
       "        </tr>\n",
       "    </tbody>\n",
       "</table>"
      ],
      "text/plain": [
       "[(1, 1, 'jon.flanders@xyz.com'),\n",
       " (2, 1, 'jonf@abc.com'),\n",
       " (3, 2, 'shannonah@abc.co'),\n",
       " (4, 3, 'onionfritz@zyk.com'),\n",
       " (5, 3, 'mrofritz@abc.net'),\n",
       " (6, 4, 'jbrown@hkc.org'),\n",
       " (7, 6, 'marya@mail.com'),\n",
       " (8, 6, 'msahern@mail.com'),\n",
       " (9, 6, 'ahern.m@hij.co')]"
      ]
     },
     "execution_count": 5,
     "metadata": {},
     "output_type": "execute_result"
    }
   ],
   "source": [
    "%%sql\n",
    "SELECT * FROM email_address;"
   ]
  },
  {
   "cell_type": "code",
   "execution_count": 6,
   "metadata": {},
   "outputs": [
    {
     "name": "stdout",
     "output_type": "stream",
     "text": [
      " * sqlite://\n",
      "Done.\n"
     ]
    },
    {
     "data": {
      "text/html": [
       "<table>\n",
       "    <thead>\n",
       "        <tr>\n",
       "            <th>FirstName</th>\n",
       "            <th>LastName</th>\n",
       "        </tr>\n",
       "    </thead>\n",
       "    <tbody>\n",
       "        <tr>\n",
       "            <td>Jon</td>\n",
       "            <td>Flanders</td>\n",
       "        </tr>\n",
       "        <tr>\n",
       "            <td>Shannon</td>\n",
       "            <td>Ahern</td>\n",
       "        </tr>\n",
       "        <tr>\n",
       "            <td>Fritz</td>\n",
       "            <td>Onion</td>\n",
       "        </tr>\n",
       "        <tr>\n",
       "            <td>Jon</td>\n",
       "            <td>Brown</td>\n",
       "        </tr>\n",
       "        <tr>\n",
       "            <td>Fritz</td>\n",
       "            <td>Owen</td>\n",
       "        </tr>\n",
       "        <tr>\n",
       "            <td>Mary</td>\n",
       "            <td>Ahern</td>\n",
       "        </tr>\n",
       "    </tbody>\n",
       "</table>"
      ],
      "text/plain": [
       "[('Jon', 'Flanders'),\n",
       " ('Shannon', 'Ahern'),\n",
       " ('Fritz', 'Onion'),\n",
       " ('Jon', 'Brown'),\n",
       " ('Fritz', 'Owen'),\n",
       " ('Mary', 'Ahern')]"
      ]
     },
     "execution_count": 6,
     "metadata": {},
     "output_type": "execute_result"
    }
   ],
   "source": [
    "%%sql\n",
    "SELECT p.person_first_name as FirstName, p.person_last_name as LastName\n",
    "FROM person p"
   ]
  },
  {
   "cell_type": "markdown",
   "metadata": {},
   "source": [
    "## WHERE\n",
    "* AND, OR, BETWEEN, LIKE, IN, IS, IS NOT"
   ]
  },
  {
   "cell_type": "code",
   "execution_count": 7,
   "metadata": {},
   "outputs": [
    {
     "name": "stdout",
     "output_type": "stream",
     "text": [
      " * sqlite://\n",
      "Done.\n"
     ]
    },
    {
     "data": {
      "text/html": [
       "<table>\n",
       "    <thead>\n",
       "        <tr>\n",
       "            <th>FirstName</th>\n",
       "            <th>LastName</th>\n",
       "        </tr>\n",
       "    </thead>\n",
       "    <tbody>\n",
       "        <tr>\n",
       "            <td>Jon</td>\n",
       "            <td>Flanders</td>\n",
       "        </tr>\n",
       "    </tbody>\n",
       "</table>"
      ],
      "text/plain": [
       "[('Jon', 'Flanders')]"
      ]
     },
     "execution_count": 7,
     "metadata": {},
     "output_type": "execute_result"
    }
   ],
   "source": [
    "%%sql\n",
    "SELECT p.person_first_name as FirstName, p.person_last_name as LastName\n",
    "FROM person p\n",
    "WHERE p.person_first_name='Jon' AND p.person_contacted_ntimes > 4;"
   ]
  },
  {
   "cell_type": "code",
   "execution_count": 8,
   "metadata": {},
   "outputs": [
    {
     "name": "stdout",
     "output_type": "stream",
     "text": [
      " * sqlite://\n",
      "Done.\n"
     ]
    },
    {
     "data": {
      "text/html": [
       "<table>\n",
       "    <thead>\n",
       "        <tr>\n",
       "            <th>person_first_name</th>\n",
       "            <th>person_last_name</th>\n",
       "        </tr>\n",
       "    </thead>\n",
       "    <tbody>\n",
       "        <tr>\n",
       "            <td>Jon</td>\n",
       "            <td>Flanders</td>\n",
       "        </tr>\n",
       "        <tr>\n",
       "            <td>Jon</td>\n",
       "            <td>Brown</td>\n",
       "        </tr>\n",
       "    </tbody>\n",
       "</table>"
      ],
      "text/plain": [
       "[('Jon', 'Flanders'), ('Jon', 'Brown')]"
      ]
     },
     "execution_count": 8,
     "metadata": {},
     "output_type": "execute_result"
    }
   ],
   "source": [
    "%%sql\n",
    "SELECT p.person_first_name, p.person_last_name\n",
    "FROM person p\n",
    "WHERE p.person_first_name='Jon' OR p.person_last_name='Flanders';"
   ]
  },
  {
   "cell_type": "code",
   "execution_count": 9,
   "metadata": {},
   "outputs": [
    {
     "name": "stdout",
     "output_type": "stream",
     "text": [
      " * sqlite://\n",
      "Done.\n"
     ]
    },
    {
     "data": {
      "text/html": [
       "<table>\n",
       "    <thead>\n",
       "        <tr>\n",
       "            <th>FirstName</th>\n",
       "            <th>LastName</th>\n",
       "            <th>person_contacted_ntimes</th>\n",
       "        </tr>\n",
       "    </thead>\n",
       "    <tbody>\n",
       "        <tr>\n",
       "            <td>Fritz</td>\n",
       "            <td>Onion</td>\n",
       "            <td>1</td>\n",
       "        </tr>\n",
       "        <tr>\n",
       "            <td>Jon</td>\n",
       "            <td>Brown</td>\n",
       "            <td>3</td>\n",
       "        </tr>\n",
       "        <tr>\n",
       "            <td>Fritz</td>\n",
       "            <td>Owen</td>\n",
       "            <td>2</td>\n",
       "        </tr>\n",
       "    </tbody>\n",
       "</table>"
      ],
      "text/plain": [
       "[('Fritz', 'Onion', 1), ('Jon', 'Brown', 3), ('Fritz', 'Owen', 2)]"
      ]
     },
     "execution_count": 9,
     "metadata": {},
     "output_type": "execute_result"
    }
   ],
   "source": [
    "%%sql\n",
    "SELECT p.person_first_name as FirstName, p.person_last_name as LastName, p.person_contacted_ntimes\n",
    "FROM person p\n",
    "WHERE p.person_contacted_ntimes BETWEEN 1 AND 4;"
   ]
  },
  {
   "cell_type": "markdown",
   "metadata": {},
   "source": [
    "% is a wildcard character that represents zero or more characters."
   ]
  },
  {
   "cell_type": "code",
   "execution_count": 10,
   "metadata": {},
   "outputs": [
    {
     "name": "stdout",
     "output_type": "stream",
     "text": [
      " * sqlite://\n",
      "Done.\n"
     ]
    },
    {
     "data": {
      "text/html": [
       "<table>\n",
       "    <thead>\n",
       "        <tr>\n",
       "            <th>FirstName</th>\n",
       "            <th>LastName</th>\n",
       "        </tr>\n",
       "    </thead>\n",
       "    <tbody>\n",
       "        <tr>\n",
       "            <td>Jon</td>\n",
       "            <td>Flanders</td>\n",
       "        </tr>\n",
       "        <tr>\n",
       "            <td>Jon</td>\n",
       "            <td>Brown</td>\n",
       "        </tr>\n",
       "    </tbody>\n",
       "</table>"
      ],
      "text/plain": [
       "[('Jon', 'Flanders'), ('Jon', 'Brown')]"
      ]
     },
     "execution_count": 10,
     "metadata": {},
     "output_type": "execute_result"
    }
   ],
   "source": [
    "%%sql\n",
    "SELECT p.person_first_name as FirstName, p.person_last_name as LastName\n",
    "FROM person p\n",
    "WHERE p.person_first_name LIKE 'J%';"
   ]
  },
  {
   "cell_type": "code",
   "execution_count": 11,
   "metadata": {},
   "outputs": [
    {
     "name": "stdout",
     "output_type": "stream",
     "text": [
      " * sqlite://\n",
      "Done.\n"
     ]
    },
    {
     "data": {
      "text/html": [
       "<table>\n",
       "    <thead>\n",
       "        <tr>\n",
       "            <th>FirstName</th>\n",
       "            <th>LastName</th>\n",
       "        </tr>\n",
       "    </thead>\n",
       "    <tbody>\n",
       "        <tr>\n",
       "            <td>Jon</td>\n",
       "            <td>Flanders</td>\n",
       "        </tr>\n",
       "        <tr>\n",
       "            <td>Fritz</td>\n",
       "            <td>Onion</td>\n",
       "        </tr>\n",
       "        <tr>\n",
       "            <td>Jon</td>\n",
       "            <td>Brown</td>\n",
       "        </tr>\n",
       "        <tr>\n",
       "            <td>Fritz</td>\n",
       "            <td>Owen</td>\n",
       "        </tr>\n",
       "    </tbody>\n",
       "</table>"
      ],
      "text/plain": [
       "[('Jon', 'Flanders'), ('Fritz', 'Onion'), ('Jon', 'Brown'), ('Fritz', 'Owen')]"
      ]
     },
     "execution_count": 11,
     "metadata": {},
     "output_type": "execute_result"
    }
   ],
   "source": [
    "%%sql\n",
    "SELECT p.person_first_name as FirstName, p.person_last_name as LastName\n",
    "FROM person p\n",
    "WHERE p.person_first_name IN ('Jon', 'Fritz');"
   ]
  },
  {
   "cell_type": "code",
   "execution_count": 12,
   "metadata": {},
   "outputs": [
    {
     "name": "stdout",
     "output_type": "stream",
     "text": [
      " * sqlite://\n",
      "Done.\n"
     ]
    },
    {
     "data": {
      "text/html": [
       "<table>\n",
       "    <thead>\n",
       "        <tr>\n",
       "            <th>FirstName</th>\n",
       "            <th>LastName</th>\n",
       "            <th>Address</th>\n",
       "        </tr>\n",
       "    </thead>\n",
       "    <tbody>\n",
       "        <tr>\n",
       "            <td>Mary</td>\n",
       "            <td>Ahern</td>\n",
       "            <td>None</td>\n",
       "        </tr>\n",
       "    </tbody>\n",
       "</table>"
      ],
      "text/plain": [
       "[('Mary', 'Ahern', None)]"
      ]
     },
     "execution_count": 12,
     "metadata": {},
     "output_type": "execute_result"
    }
   ],
   "source": [
    "%%sql\n",
    "SELECT p.person_first_name as FirstName, p.person_last_name as LastName, p.person_address as Address\n",
    "FROM person p\n",
    "WHERE p.person_address IS NULL;"
   ]
  },
  {
   "cell_type": "code",
   "execution_count": 13,
   "metadata": {},
   "outputs": [
    {
     "name": "stdout",
     "output_type": "stream",
     "text": [
      " * sqlite://\n",
      "Done.\n"
     ]
    },
    {
     "data": {
      "text/html": [
       "<table>\n",
       "    <thead>\n",
       "        <tr>\n",
       "            <th>FirstName</th>\n",
       "            <th>LastName</th>\n",
       "        </tr>\n",
       "    </thead>\n",
       "    <tbody>\n",
       "        <tr>\n",
       "            <td>Jon</td>\n",
       "            <td>Flanders</td>\n",
       "        </tr>\n",
       "        <tr>\n",
       "            <td>Shannon</td>\n",
       "            <td>Ahern</td>\n",
       "        </tr>\n",
       "        <tr>\n",
       "            <td>Fritz</td>\n",
       "            <td>Onion</td>\n",
       "        </tr>\n",
       "        <tr>\n",
       "            <td>Jon</td>\n",
       "            <td>Brown</td>\n",
       "        </tr>\n",
       "        <tr>\n",
       "            <td>Fritz</td>\n",
       "            <td>Owen</td>\n",
       "        </tr>\n",
       "        <tr>\n",
       "            <td>Mary</td>\n",
       "            <td>Ahern</td>\n",
       "        </tr>\n",
       "    </tbody>\n",
       "</table>"
      ],
      "text/plain": [
       "[('Jon', 'Flanders'),\n",
       " ('Shannon', 'Ahern'),\n",
       " ('Fritz', 'Onion'),\n",
       " ('Jon', 'Brown'),\n",
       " ('Fritz', 'Owen'),\n",
       " ('Mary', 'Ahern')]"
      ]
     },
     "execution_count": 13,
     "metadata": {},
     "output_type": "execute_result"
    }
   ],
   "source": [
    "%%sql\n",
    "SELECT p.person_first_name as FirstName, p.person_last_name as LastName\n",
    "FROM person p\n",
    "WHERE p.person_last_name IS NOT NULL;"
   ]
  },
  {
   "cell_type": "markdown",
   "metadata": {},
   "source": [
    "## ORDER BY\n",
    "* After the WHERE clause (if any)\n",
    "* Can specify one or more columns\n",
    "* ASC (default) or DESC"
   ]
  },
  {
   "cell_type": "code",
   "execution_count": 14,
   "metadata": {},
   "outputs": [
    {
     "name": "stdout",
     "output_type": "stream",
     "text": [
      " * sqlite://\n",
      "Done.\n"
     ]
    },
    {
     "data": {
      "text/html": [
       "<table>\n",
       "    <thead>\n",
       "        <tr>\n",
       "            <th>FirstName</th>\n",
       "            <th>LastName</th>\n",
       "        </tr>\n",
       "    </thead>\n",
       "    <tbody>\n",
       "        <tr>\n",
       "            <td>Shannon</td>\n",
       "            <td>Ahern</td>\n",
       "        </tr>\n",
       "        <tr>\n",
       "            <td>Mary</td>\n",
       "            <td>Ahern</td>\n",
       "        </tr>\n",
       "        <tr>\n",
       "            <td>Jon</td>\n",
       "            <td>Brown</td>\n",
       "        </tr>\n",
       "        <tr>\n",
       "            <td>Jon</td>\n",
       "            <td>Flanders</td>\n",
       "        </tr>\n",
       "        <tr>\n",
       "            <td>Fritz</td>\n",
       "            <td>Onion</td>\n",
       "        </tr>\n",
       "        <tr>\n",
       "            <td>Fritz</td>\n",
       "            <td>Owen</td>\n",
       "        </tr>\n",
       "    </tbody>\n",
       "</table>"
      ],
      "text/plain": [
       "[('Shannon', 'Ahern'),\n",
       " ('Mary', 'Ahern'),\n",
       " ('Jon', 'Brown'),\n",
       " ('Jon', 'Flanders'),\n",
       " ('Fritz', 'Onion'),\n",
       " ('Fritz', 'Owen')]"
      ]
     },
     "execution_count": 14,
     "metadata": {},
     "output_type": "execute_result"
    }
   ],
   "source": [
    "%%sql\n",
    "SELECT p.person_first_name as FirstName, p.person_last_name as LastName\n",
    "FROM person p\n",
    "ORDER BY p.person_last_name;"
   ]
  },
  {
   "cell_type": "markdown",
   "metadata": {},
   "source": [
    "## Set functions + Qualifiers\n",
    "* set functions and qualifiers are often used together.\n",
    "* add the qualifier inside the function."
   ]
  },
  {
   "cell_type": "code",
   "execution_count": 15,
   "metadata": {},
   "outputs": [
    {
     "name": "stdout",
     "output_type": "stream",
     "text": [
      " * sqlite://\n",
      "Done.\n"
     ]
    },
    {
     "data": {
      "text/html": [
       "<table>\n",
       "    <thead>\n",
       "        <tr>\n",
       "            <th>COUNT(p.person_first_name)</th>\n",
       "        </tr>\n",
       "    </thead>\n",
       "    <tbody>\n",
       "        <tr>\n",
       "            <td>6</td>\n",
       "        </tr>\n",
       "    </tbody>\n",
       "</table>"
      ],
      "text/plain": [
       "[(6,)]"
      ]
     },
     "execution_count": 15,
     "metadata": {},
     "output_type": "execute_result"
    }
   ],
   "source": [
    "%%sql\n",
    "SELECT COUNT(p.person_first_name)\n",
    "FROM person p;"
   ]
  },
  {
   "cell_type": "code",
   "execution_count": 16,
   "metadata": {},
   "outputs": [
    {
     "name": "stdout",
     "output_type": "stream",
     "text": [
      " * sqlite://\n",
      "Done.\n"
     ]
    },
    {
     "data": {
      "text/html": [
       "<table>\n",
       "    <thead>\n",
       "        <tr>\n",
       "            <th>COUNT(DISTINCT p.person_first_name)</th>\n",
       "        </tr>\n",
       "    </thead>\n",
       "    <tbody>\n",
       "        <tr>\n",
       "            <td>4</td>\n",
       "        </tr>\n",
       "    </tbody>\n",
       "</table>"
      ],
      "text/plain": [
       "[(4,)]"
      ]
     },
     "execution_count": 16,
     "metadata": {},
     "output_type": "execute_result"
    }
   ],
   "source": [
    "%%sql\n",
    "SELECT COUNT(DISTINCT p.person_first_name)\n",
    "FROM person p;"
   ]
  },
  {
   "cell_type": "markdown",
   "metadata": {},
   "source": [
    "## GROUP BY\n",
    "* Breaks result set into subsets\n",
    "* Subset is created by column in GROUP BY\n",
    "* The column must appear in the SELECT"
   ]
  },
  {
   "cell_type": "code",
   "execution_count": 17,
   "metadata": {},
   "outputs": [
    {
     "name": "stdout",
     "output_type": "stream",
     "text": [
      " * sqlite://\n",
      "Done.\n"
     ]
    },
    {
     "data": {
      "text/html": [
       "<table>\n",
       "    <thead>\n",
       "        <tr>\n",
       "            <th>COUNT(p.person_first_name)</th>\n",
       "            <th>person_first_name</th>\n",
       "        </tr>\n",
       "    </thead>\n",
       "    <tbody>\n",
       "        <tr>\n",
       "            <td>2</td>\n",
       "            <td>Fritz</td>\n",
       "        </tr>\n",
       "        <tr>\n",
       "            <td>2</td>\n",
       "            <td>Jon</td>\n",
       "        </tr>\n",
       "        <tr>\n",
       "            <td>1</td>\n",
       "            <td>Mary</td>\n",
       "        </tr>\n",
       "        <tr>\n",
       "            <td>1</td>\n",
       "            <td>Shannon</td>\n",
       "        </tr>\n",
       "    </tbody>\n",
       "</table>"
      ],
      "text/plain": [
       "[(2, 'Fritz'), (2, 'Jon'), (1, 'Mary'), (1, 'Shannon')]"
      ]
     },
     "execution_count": 17,
     "metadata": {},
     "output_type": "execute_result"
    }
   ],
   "source": [
    "%%sql\n",
    "SELECT COUNT(p.person_first_name), p.person_first_name\n",
    "FROM person p\n",
    "GROUP BY p.person_first_name;"
   ]
  },
  {
   "cell_type": "markdown",
   "metadata": {},
   "source": [
    "## HAVING\n",
    "* It works like WHERE works against SELECT in a query with a GROUP BY clause."
   ]
  },
  {
   "cell_type": "code",
   "execution_count": 18,
   "metadata": {},
   "outputs": [
    {
     "name": "stdout",
     "output_type": "stream",
     "text": [
      " * sqlite://\n",
      "Done.\n"
     ]
    },
    {
     "data": {
      "text/html": [
       "<table>\n",
       "    <thead>\n",
       "        <tr>\n",
       "            <th>COUNT(p.person_first_name)</th>\n",
       "            <th>person_first_name</th>\n",
       "        </tr>\n",
       "    </thead>\n",
       "    <tbody>\n",
       "        <tr>\n",
       "            <td>2</td>\n",
       "            <td>Fritz</td>\n",
       "        </tr>\n",
       "        <tr>\n",
       "            <td>2</td>\n",
       "            <td>Jon</td>\n",
       "        </tr>\n",
       "    </tbody>\n",
       "</table>"
      ],
      "text/plain": [
       "[(2, 'Fritz'), (2, 'Jon')]"
      ]
     },
     "execution_count": 18,
     "metadata": {},
     "output_type": "execute_result"
    }
   ],
   "source": [
    "%%sql\n",
    "SELECT COUNT(p.person_first_name), p.person_first_name\n",
    "FROM person p\n",
    "GROUP BY p.person_first_name\n",
    "HAVING COUNT(p.person_first_name) >= 2;"
   ]
  },
  {
   "cell_type": "markdown",
   "metadata": {},
   "source": [
    "Using aliasing to obtain the same results as above:"
   ]
  },
  {
   "cell_type": "code",
   "execution_count": 19,
   "metadata": {},
   "outputs": [
    {
     "name": "stdout",
     "output_type": "stream",
     "text": [
      " * sqlite://\n",
      "Done.\n"
     ]
    },
    {
     "data": {
      "text/html": [
       "<table>\n",
       "    <thead>\n",
       "        <tr>\n",
       "            <th>FirstNameCount</th>\n",
       "            <th>person_first_name</th>\n",
       "        </tr>\n",
       "    </thead>\n",
       "    <tbody>\n",
       "        <tr>\n",
       "            <td>2</td>\n",
       "            <td>Fritz</td>\n",
       "        </tr>\n",
       "        <tr>\n",
       "            <td>2</td>\n",
       "            <td>Jon</td>\n",
       "        </tr>\n",
       "    </tbody>\n",
       "</table>"
      ],
      "text/plain": [
       "[(2, 'Fritz'), (2, 'Jon')]"
      ]
     },
     "execution_count": 19,
     "metadata": {},
     "output_type": "execute_result"
    }
   ],
   "source": [
    "%%sql\n",
    "SELECT COUNT(p.person_first_name) as FirstNameCount, p.person_first_name\n",
    "FROM person p\n",
    "GROUP BY p.person_first_name\n",
    "HAVING FirstNameCount >= 2;"
   ]
  },
  {
   "cell_type": "code",
   "execution_count": 20,
   "metadata": {},
   "outputs": [
    {
     "name": "stdout",
     "output_type": "stream",
     "text": [
      " * sqlite://\n",
      "Done.\n"
     ]
    },
    {
     "data": {
      "text/html": [
       "<table>\n",
       "    <thead>\n",
       "        <tr>\n",
       "            <th>COUNT(p.person_first_name)</th>\n",
       "            <th>person_first_name</th>\n",
       "        </tr>\n",
       "    </thead>\n",
       "    <tbody>\n",
       "        <tr>\n",
       "            <td>2</td>\n",
       "            <td>Jon</td>\n",
       "        </tr>\n",
       "    </tbody>\n",
       "</table>"
      ],
      "text/plain": [
       "[(2, 'Jon')]"
      ]
     },
     "execution_count": 20,
     "metadata": {},
     "output_type": "execute_result"
    }
   ],
   "source": [
    "%%sql\n",
    "SELECT COUNT(p.person_first_name), p.person_first_name\n",
    "FROM person p\n",
    "GROUP BY p.person_first_name\n",
    "HAVING p.person_first_name='Jon';"
   ]
  },
  {
   "cell_type": "markdown",
   "metadata": {},
   "source": [
    "## JOIN"
   ]
  },
  {
   "cell_type": "markdown",
   "metadata": {},
   "source": [
    "### CROSS JOIN\n",
    "* Simplest JOIN\n",
    "* Inefficient\n",
    "* Least useful\n",
    "* No WHERE clause"
   ]
  },
  {
   "cell_type": "markdown",
   "metadata": {},
   "source": [
    "\n",
    "Don't do the below, FROM clause with multiple tables and no WHERE clause."
   ]
  },
  {
   "cell_type": "code",
   "execution_count": 21,
   "metadata": {},
   "outputs": [
    {
     "name": "stdout",
     "output_type": "stream",
     "text": [
      " * sqlite://\n",
      "Done.\n"
     ]
    },
    {
     "data": {
      "text/html": [
       "<table>\n",
       "    <thead>\n",
       "        <tr>\n",
       "            <th>person_first_name</th>\n",
       "            <th>person_last_name</th>\n",
       "            <th>email_address</th>\n",
       "        </tr>\n",
       "    </thead>\n",
       "    <tbody>\n",
       "        <tr>\n",
       "            <td>Jon</td>\n",
       "            <td>Flanders</td>\n",
       "            <td>jon.flanders@xyz.com</td>\n",
       "        </tr>\n",
       "        <tr>\n",
       "            <td>Jon</td>\n",
       "            <td>Flanders</td>\n",
       "            <td>jonf@abc.com</td>\n",
       "        </tr>\n",
       "        <tr>\n",
       "            <td>Jon</td>\n",
       "            <td>Flanders</td>\n",
       "            <td>shannonah@abc.co</td>\n",
       "        </tr>\n",
       "        <tr>\n",
       "            <td>Jon</td>\n",
       "            <td>Flanders</td>\n",
       "            <td>onionfritz@zyk.com</td>\n",
       "        </tr>\n",
       "        <tr>\n",
       "            <td>Jon</td>\n",
       "            <td>Flanders</td>\n",
       "            <td>mrofritz@abc.net</td>\n",
       "        </tr>\n",
       "        <tr>\n",
       "            <td>Jon</td>\n",
       "            <td>Flanders</td>\n",
       "            <td>jbrown@hkc.org</td>\n",
       "        </tr>\n",
       "        <tr>\n",
       "            <td>Jon</td>\n",
       "            <td>Flanders</td>\n",
       "            <td>marya@mail.com</td>\n",
       "        </tr>\n",
       "        <tr>\n",
       "            <td>Jon</td>\n",
       "            <td>Flanders</td>\n",
       "            <td>msahern@mail.com</td>\n",
       "        </tr>\n",
       "        <tr>\n",
       "            <td>Jon</td>\n",
       "            <td>Flanders</td>\n",
       "            <td>ahern.m@hij.co</td>\n",
       "        </tr>\n",
       "        <tr>\n",
       "            <td>Shannon</td>\n",
       "            <td>Ahern</td>\n",
       "            <td>jon.flanders@xyz.com</td>\n",
       "        </tr>\n",
       "        <tr>\n",
       "            <td>Shannon</td>\n",
       "            <td>Ahern</td>\n",
       "            <td>jonf@abc.com</td>\n",
       "        </tr>\n",
       "        <tr>\n",
       "            <td>Shannon</td>\n",
       "            <td>Ahern</td>\n",
       "            <td>shannonah@abc.co</td>\n",
       "        </tr>\n",
       "        <tr>\n",
       "            <td>Shannon</td>\n",
       "            <td>Ahern</td>\n",
       "            <td>onionfritz@zyk.com</td>\n",
       "        </tr>\n",
       "        <tr>\n",
       "            <td>Shannon</td>\n",
       "            <td>Ahern</td>\n",
       "            <td>mrofritz@abc.net</td>\n",
       "        </tr>\n",
       "        <tr>\n",
       "            <td>Shannon</td>\n",
       "            <td>Ahern</td>\n",
       "            <td>jbrown@hkc.org</td>\n",
       "        </tr>\n",
       "        <tr>\n",
       "            <td>Shannon</td>\n",
       "            <td>Ahern</td>\n",
       "            <td>marya@mail.com</td>\n",
       "        </tr>\n",
       "        <tr>\n",
       "            <td>Shannon</td>\n",
       "            <td>Ahern</td>\n",
       "            <td>msahern@mail.com</td>\n",
       "        </tr>\n",
       "        <tr>\n",
       "            <td>Shannon</td>\n",
       "            <td>Ahern</td>\n",
       "            <td>ahern.m@hij.co</td>\n",
       "        </tr>\n",
       "        <tr>\n",
       "            <td>Fritz</td>\n",
       "            <td>Onion</td>\n",
       "            <td>jon.flanders@xyz.com</td>\n",
       "        </tr>\n",
       "        <tr>\n",
       "            <td>Fritz</td>\n",
       "            <td>Onion</td>\n",
       "            <td>jonf@abc.com</td>\n",
       "        </tr>\n",
       "        <tr>\n",
       "            <td>Fritz</td>\n",
       "            <td>Onion</td>\n",
       "            <td>shannonah@abc.co</td>\n",
       "        </tr>\n",
       "        <tr>\n",
       "            <td>Fritz</td>\n",
       "            <td>Onion</td>\n",
       "            <td>onionfritz@zyk.com</td>\n",
       "        </tr>\n",
       "        <tr>\n",
       "            <td>Fritz</td>\n",
       "            <td>Onion</td>\n",
       "            <td>mrofritz@abc.net</td>\n",
       "        </tr>\n",
       "        <tr>\n",
       "            <td>Fritz</td>\n",
       "            <td>Onion</td>\n",
       "            <td>jbrown@hkc.org</td>\n",
       "        </tr>\n",
       "        <tr>\n",
       "            <td>Fritz</td>\n",
       "            <td>Onion</td>\n",
       "            <td>marya@mail.com</td>\n",
       "        </tr>\n",
       "        <tr>\n",
       "            <td>Fritz</td>\n",
       "            <td>Onion</td>\n",
       "            <td>msahern@mail.com</td>\n",
       "        </tr>\n",
       "        <tr>\n",
       "            <td>Fritz</td>\n",
       "            <td>Onion</td>\n",
       "            <td>ahern.m@hij.co</td>\n",
       "        </tr>\n",
       "        <tr>\n",
       "            <td>Jon</td>\n",
       "            <td>Brown</td>\n",
       "            <td>jon.flanders@xyz.com</td>\n",
       "        </tr>\n",
       "        <tr>\n",
       "            <td>Jon</td>\n",
       "            <td>Brown</td>\n",
       "            <td>jonf@abc.com</td>\n",
       "        </tr>\n",
       "        <tr>\n",
       "            <td>Jon</td>\n",
       "            <td>Brown</td>\n",
       "            <td>shannonah@abc.co</td>\n",
       "        </tr>\n",
       "        <tr>\n",
       "            <td>Jon</td>\n",
       "            <td>Brown</td>\n",
       "            <td>onionfritz@zyk.com</td>\n",
       "        </tr>\n",
       "        <tr>\n",
       "            <td>Jon</td>\n",
       "            <td>Brown</td>\n",
       "            <td>mrofritz@abc.net</td>\n",
       "        </tr>\n",
       "        <tr>\n",
       "            <td>Jon</td>\n",
       "            <td>Brown</td>\n",
       "            <td>jbrown@hkc.org</td>\n",
       "        </tr>\n",
       "        <tr>\n",
       "            <td>Jon</td>\n",
       "            <td>Brown</td>\n",
       "            <td>marya@mail.com</td>\n",
       "        </tr>\n",
       "        <tr>\n",
       "            <td>Jon</td>\n",
       "            <td>Brown</td>\n",
       "            <td>msahern@mail.com</td>\n",
       "        </tr>\n",
       "        <tr>\n",
       "            <td>Jon</td>\n",
       "            <td>Brown</td>\n",
       "            <td>ahern.m@hij.co</td>\n",
       "        </tr>\n",
       "        <tr>\n",
       "            <td>Fritz</td>\n",
       "            <td>Owen</td>\n",
       "            <td>jon.flanders@xyz.com</td>\n",
       "        </tr>\n",
       "        <tr>\n",
       "            <td>Fritz</td>\n",
       "            <td>Owen</td>\n",
       "            <td>jonf@abc.com</td>\n",
       "        </tr>\n",
       "        <tr>\n",
       "            <td>Fritz</td>\n",
       "            <td>Owen</td>\n",
       "            <td>shannonah@abc.co</td>\n",
       "        </tr>\n",
       "        <tr>\n",
       "            <td>Fritz</td>\n",
       "            <td>Owen</td>\n",
       "            <td>onionfritz@zyk.com</td>\n",
       "        </tr>\n",
       "        <tr>\n",
       "            <td>Fritz</td>\n",
       "            <td>Owen</td>\n",
       "            <td>mrofritz@abc.net</td>\n",
       "        </tr>\n",
       "        <tr>\n",
       "            <td>Fritz</td>\n",
       "            <td>Owen</td>\n",
       "            <td>jbrown@hkc.org</td>\n",
       "        </tr>\n",
       "        <tr>\n",
       "            <td>Fritz</td>\n",
       "            <td>Owen</td>\n",
       "            <td>marya@mail.com</td>\n",
       "        </tr>\n",
       "        <tr>\n",
       "            <td>Fritz</td>\n",
       "            <td>Owen</td>\n",
       "            <td>msahern@mail.com</td>\n",
       "        </tr>\n",
       "        <tr>\n",
       "            <td>Fritz</td>\n",
       "            <td>Owen</td>\n",
       "            <td>ahern.m@hij.co</td>\n",
       "        </tr>\n",
       "        <tr>\n",
       "            <td>Mary</td>\n",
       "            <td>Ahern</td>\n",
       "            <td>jon.flanders@xyz.com</td>\n",
       "        </tr>\n",
       "        <tr>\n",
       "            <td>Mary</td>\n",
       "            <td>Ahern</td>\n",
       "            <td>jonf@abc.com</td>\n",
       "        </tr>\n",
       "        <tr>\n",
       "            <td>Mary</td>\n",
       "            <td>Ahern</td>\n",
       "            <td>shannonah@abc.co</td>\n",
       "        </tr>\n",
       "        <tr>\n",
       "            <td>Mary</td>\n",
       "            <td>Ahern</td>\n",
       "            <td>onionfritz@zyk.com</td>\n",
       "        </tr>\n",
       "        <tr>\n",
       "            <td>Mary</td>\n",
       "            <td>Ahern</td>\n",
       "            <td>mrofritz@abc.net</td>\n",
       "        </tr>\n",
       "        <tr>\n",
       "            <td>Mary</td>\n",
       "            <td>Ahern</td>\n",
       "            <td>jbrown@hkc.org</td>\n",
       "        </tr>\n",
       "        <tr>\n",
       "            <td>Mary</td>\n",
       "            <td>Ahern</td>\n",
       "            <td>marya@mail.com</td>\n",
       "        </tr>\n",
       "        <tr>\n",
       "            <td>Mary</td>\n",
       "            <td>Ahern</td>\n",
       "            <td>msahern@mail.com</td>\n",
       "        </tr>\n",
       "        <tr>\n",
       "            <td>Mary</td>\n",
       "            <td>Ahern</td>\n",
       "            <td>ahern.m@hij.co</td>\n",
       "        </tr>\n",
       "    </tbody>\n",
       "</table>"
      ],
      "text/plain": [
       "[('Jon', 'Flanders', 'jon.flanders@xyz.com'),\n",
       " ('Jon', 'Flanders', 'jonf@abc.com'),\n",
       " ('Jon', 'Flanders', 'shannonah@abc.co'),\n",
       " ('Jon', 'Flanders', 'onionfritz@zyk.com'),\n",
       " ('Jon', 'Flanders', 'mrofritz@abc.net'),\n",
       " ('Jon', 'Flanders', 'jbrown@hkc.org'),\n",
       " ('Jon', 'Flanders', 'marya@mail.com'),\n",
       " ('Jon', 'Flanders', 'msahern@mail.com'),\n",
       " ('Jon', 'Flanders', 'ahern.m@hij.co'),\n",
       " ('Shannon', 'Ahern', 'jon.flanders@xyz.com'),\n",
       " ('Shannon', 'Ahern', 'jonf@abc.com'),\n",
       " ('Shannon', 'Ahern', 'shannonah@abc.co'),\n",
       " ('Shannon', 'Ahern', 'onionfritz@zyk.com'),\n",
       " ('Shannon', 'Ahern', 'mrofritz@abc.net'),\n",
       " ('Shannon', 'Ahern', 'jbrown@hkc.org'),\n",
       " ('Shannon', 'Ahern', 'marya@mail.com'),\n",
       " ('Shannon', 'Ahern', 'msahern@mail.com'),\n",
       " ('Shannon', 'Ahern', 'ahern.m@hij.co'),\n",
       " ('Fritz', 'Onion', 'jon.flanders@xyz.com'),\n",
       " ('Fritz', 'Onion', 'jonf@abc.com'),\n",
       " ('Fritz', 'Onion', 'shannonah@abc.co'),\n",
       " ('Fritz', 'Onion', 'onionfritz@zyk.com'),\n",
       " ('Fritz', 'Onion', 'mrofritz@abc.net'),\n",
       " ('Fritz', 'Onion', 'jbrown@hkc.org'),\n",
       " ('Fritz', 'Onion', 'marya@mail.com'),\n",
       " ('Fritz', 'Onion', 'msahern@mail.com'),\n",
       " ('Fritz', 'Onion', 'ahern.m@hij.co'),\n",
       " ('Jon', 'Brown', 'jon.flanders@xyz.com'),\n",
       " ('Jon', 'Brown', 'jonf@abc.com'),\n",
       " ('Jon', 'Brown', 'shannonah@abc.co'),\n",
       " ('Jon', 'Brown', 'onionfritz@zyk.com'),\n",
       " ('Jon', 'Brown', 'mrofritz@abc.net'),\n",
       " ('Jon', 'Brown', 'jbrown@hkc.org'),\n",
       " ('Jon', 'Brown', 'marya@mail.com'),\n",
       " ('Jon', 'Brown', 'msahern@mail.com'),\n",
       " ('Jon', 'Brown', 'ahern.m@hij.co'),\n",
       " ('Fritz', 'Owen', 'jon.flanders@xyz.com'),\n",
       " ('Fritz', 'Owen', 'jonf@abc.com'),\n",
       " ('Fritz', 'Owen', 'shannonah@abc.co'),\n",
       " ('Fritz', 'Owen', 'onionfritz@zyk.com'),\n",
       " ('Fritz', 'Owen', 'mrofritz@abc.net'),\n",
       " ('Fritz', 'Owen', 'jbrown@hkc.org'),\n",
       " ('Fritz', 'Owen', 'marya@mail.com'),\n",
       " ('Fritz', 'Owen', 'msahern@mail.com'),\n",
       " ('Fritz', 'Owen', 'ahern.m@hij.co'),\n",
       " ('Mary', 'Ahern', 'jon.flanders@xyz.com'),\n",
       " ('Mary', 'Ahern', 'jonf@abc.com'),\n",
       " ('Mary', 'Ahern', 'shannonah@abc.co'),\n",
       " ('Mary', 'Ahern', 'onionfritz@zyk.com'),\n",
       " ('Mary', 'Ahern', 'mrofritz@abc.net'),\n",
       " ('Mary', 'Ahern', 'jbrown@hkc.org'),\n",
       " ('Mary', 'Ahern', 'marya@mail.com'),\n",
       " ('Mary', 'Ahern', 'msahern@mail.com'),\n",
       " ('Mary', 'Ahern', 'ahern.m@hij.co')]"
      ]
     },
     "execution_count": 21,
     "metadata": {},
     "output_type": "execute_result"
    }
   ],
   "source": [
    "%%sql\n",
    "SELECT p.person_first_name, p.person_last_name, e.email_address\n",
    "FROM person p, email_address e"
   ]
  },
  {
   "cell_type": "markdown",
   "metadata": {},
   "source": [
    "### INNER JOIN\n",
    "* Matches column in one of the tables to column in another table."
   ]
  },
  {
   "cell_type": "code",
   "execution_count": 22,
   "metadata": {},
   "outputs": [
    {
     "name": "stdout",
     "output_type": "stream",
     "text": [
      " * sqlite://\n",
      "Done.\n"
     ]
    },
    {
     "data": {
      "text/html": [
       "<table>\n",
       "    <thead>\n",
       "        <tr>\n",
       "            <th>person_first_name</th>\n",
       "            <th>person_last_name</th>\n",
       "            <th>email_address</th>\n",
       "        </tr>\n",
       "    </thead>\n",
       "    <tbody>\n",
       "        <tr>\n",
       "            <td>Jon</td>\n",
       "            <td>Flanders</td>\n",
       "            <td>jon.flanders@xyz.com</td>\n",
       "        </tr>\n",
       "        <tr>\n",
       "            <td>Jon</td>\n",
       "            <td>Flanders</td>\n",
       "            <td>jonf@abc.com</td>\n",
       "        </tr>\n",
       "        <tr>\n",
       "            <td>Shannon</td>\n",
       "            <td>Ahern</td>\n",
       "            <td>shannonah@abc.co</td>\n",
       "        </tr>\n",
       "        <tr>\n",
       "            <td>Fritz</td>\n",
       "            <td>Onion</td>\n",
       "            <td>mrofritz@abc.net</td>\n",
       "        </tr>\n",
       "        <tr>\n",
       "            <td>Fritz</td>\n",
       "            <td>Onion</td>\n",
       "            <td>onionfritz@zyk.com</td>\n",
       "        </tr>\n",
       "        <tr>\n",
       "            <td>Jon</td>\n",
       "            <td>Brown</td>\n",
       "            <td>jbrown@hkc.org</td>\n",
       "        </tr>\n",
       "        <tr>\n",
       "            <td>Mary</td>\n",
       "            <td>Ahern</td>\n",
       "            <td>ahern.m@hij.co</td>\n",
       "        </tr>\n",
       "        <tr>\n",
       "            <td>Mary</td>\n",
       "            <td>Ahern</td>\n",
       "            <td>marya@mail.com</td>\n",
       "        </tr>\n",
       "        <tr>\n",
       "            <td>Mary</td>\n",
       "            <td>Ahern</td>\n",
       "            <td>msahern@mail.com</td>\n",
       "        </tr>\n",
       "    </tbody>\n",
       "</table>"
      ],
      "text/plain": [
       "[('Jon', 'Flanders', 'jon.flanders@xyz.com'),\n",
       " ('Jon', 'Flanders', 'jonf@abc.com'),\n",
       " ('Shannon', 'Ahern', 'shannonah@abc.co'),\n",
       " ('Fritz', 'Onion', 'mrofritz@abc.net'),\n",
       " ('Fritz', 'Onion', 'onionfritz@zyk.com'),\n",
       " ('Jon', 'Brown', 'jbrown@hkc.org'),\n",
       " ('Mary', 'Ahern', 'ahern.m@hij.co'),\n",
       " ('Mary', 'Ahern', 'marya@mail.com'),\n",
       " ('Mary', 'Ahern', 'msahern@mail.com')]"
      ]
     },
     "execution_count": 22,
     "metadata": {},
     "output_type": "execute_result"
    }
   ],
   "source": [
    "%%sql\n",
    "SELECT p.person_first_name, p.person_last_name, e.email_address\n",
    "FROM person p\n",
    "INNER JOIN email_address e\n",
    "ON p.person_id = e.email_address_person_id;"
   ]
  },
  {
   "cell_type": "markdown",
   "metadata": {},
   "source": [
    "### OUTER JOIN\n",
    "* INNER JOIN does not deal with NULL values\n",
    "* OUTER JOIN works even when there's no match in the second table."
   ]
  },
  {
   "cell_type": "markdown",
   "metadata": {},
   "source": [
    "#### LEFT OUTER JOIN\n",
    "* All rows from the left side will be returned.\n",
    "* NULL for non-matching right side table."
   ]
  },
  {
   "cell_type": "code",
   "execution_count": 23,
   "metadata": {},
   "outputs": [
    {
     "name": "stdout",
     "output_type": "stream",
     "text": [
      " * sqlite://\n",
      "Done.\n"
     ]
    },
    {
     "data": {
      "text/html": [
       "<table>\n",
       "    <thead>\n",
       "        <tr>\n",
       "            <th>person_first_name</th>\n",
       "            <th>person_last_name</th>\n",
       "            <th>email_address</th>\n",
       "        </tr>\n",
       "    </thead>\n",
       "    <tbody>\n",
       "        <tr>\n",
       "            <td>Jon</td>\n",
       "            <td>Flanders</td>\n",
       "            <td>jon.flanders@xyz.com</td>\n",
       "        </tr>\n",
       "        <tr>\n",
       "            <td>Jon</td>\n",
       "            <td>Flanders</td>\n",
       "            <td>jonf@abc.com</td>\n",
       "        </tr>\n",
       "        <tr>\n",
       "            <td>Shannon</td>\n",
       "            <td>Ahern</td>\n",
       "            <td>shannonah@abc.co</td>\n",
       "        </tr>\n",
       "        <tr>\n",
       "            <td>Fritz</td>\n",
       "            <td>Onion</td>\n",
       "            <td>mrofritz@abc.net</td>\n",
       "        </tr>\n",
       "        <tr>\n",
       "            <td>Fritz</td>\n",
       "            <td>Onion</td>\n",
       "            <td>onionfritz@zyk.com</td>\n",
       "        </tr>\n",
       "        <tr>\n",
       "            <td>Jon</td>\n",
       "            <td>Brown</td>\n",
       "            <td>jbrown@hkc.org</td>\n",
       "        </tr>\n",
       "        <tr>\n",
       "            <td>Fritz</td>\n",
       "            <td>Owen</td>\n",
       "            <td>None</td>\n",
       "        </tr>\n",
       "        <tr>\n",
       "            <td>Mary</td>\n",
       "            <td>Ahern</td>\n",
       "            <td>ahern.m@hij.co</td>\n",
       "        </tr>\n",
       "        <tr>\n",
       "            <td>Mary</td>\n",
       "            <td>Ahern</td>\n",
       "            <td>marya@mail.com</td>\n",
       "        </tr>\n",
       "        <tr>\n",
       "            <td>Mary</td>\n",
       "            <td>Ahern</td>\n",
       "            <td>msahern@mail.com</td>\n",
       "        </tr>\n",
       "    </tbody>\n",
       "</table>"
      ],
      "text/plain": [
       "[('Jon', 'Flanders', 'jon.flanders@xyz.com'),\n",
       " ('Jon', 'Flanders', 'jonf@abc.com'),\n",
       " ('Shannon', 'Ahern', 'shannonah@abc.co'),\n",
       " ('Fritz', 'Onion', 'mrofritz@abc.net'),\n",
       " ('Fritz', 'Onion', 'onionfritz@zyk.com'),\n",
       " ('Jon', 'Brown', 'jbrown@hkc.org'),\n",
       " ('Fritz', 'Owen', None),\n",
       " ('Mary', 'Ahern', 'ahern.m@hij.co'),\n",
       " ('Mary', 'Ahern', 'marya@mail.com'),\n",
       " ('Mary', 'Ahern', 'msahern@mail.com')]"
      ]
     },
     "execution_count": 23,
     "metadata": {},
     "output_type": "execute_result"
    }
   ],
   "source": [
    "%%sql\n",
    "SELECT p.person_first_name, p.person_last_name, e.email_address\n",
    "FROM person p\n",
    "LEFT OUTER JOIN email_address e\n",
    "ON p.person_id = e.email_address_person_id;"
   ]
  },
  {
   "cell_type": "markdown",
   "metadata": {},
   "source": [
    "#### RIGHT OUTER JOIN\n",
    "* Opposite of LEFT OUTER JOIN\n",
    "* All rows from the right side will be returned.\n",
    "* NULL for non-matching left side table.\n",
    "\n",
    "Obs: unfortunately this is not currently supported by sqlite3"
   ]
  },
  {
   "cell_type": "code",
   "execution_count": 24,
   "metadata": {},
   "outputs": [
    {
     "name": "stdout",
     "output_type": "stream",
     "text": [
      " * sqlite://\n",
      "(sqlite3.OperationalError) RIGHT and FULL OUTER JOINs are not currently supported\n",
      "[SQL: SELECT p.person_first_name, p.person_last_name, e.email_address\n",
      "FROM person p\n",
      "RIGHT OUTER JOIN email_address e\n",
      "ON p.person_id = e.email_address_person_id;]\n",
      "(Background on this error at: https://sqlalche.me/e/14/e3q8)\n"
     ]
    }
   ],
   "source": [
    "%%sql\n",
    "SELECT p.person_first_name, p.person_last_name, e.email_address\n",
    "FROM person p\n",
    "RIGHT OUTER JOIN email_address e\n",
    "ON p.person_id = e.email_address_person_id;"
   ]
  },
  {
   "cell_type": "markdown",
   "metadata": {},
   "source": [
    "#### FULL OUTER JOIN\n",
    "* LEFT OUTER JOIN + RIGHT OUTER JOIN\n",
    "* NULL for non-matching left and right sides table.\n",
    "\n",
    "Obs: unfortunately this is not currently supported by sqlite3"
   ]
  },
  {
   "cell_type": "code",
   "execution_count": 25,
   "metadata": {},
   "outputs": [
    {
     "name": "stdout",
     "output_type": "stream",
     "text": [
      " * sqlite://\n",
      "(sqlite3.OperationalError) RIGHT and FULL OUTER JOINs are not currently supported\n",
      "[SQL: SELECT p.person_first_name, p.person_last_name, e.email_address\n",
      "FROM person p\n",
      "FULL OUTER JOIN email_address e\n",
      "ON p.person_id = e.email_address_person_id;]\n",
      "(Background on this error at: https://sqlalche.me/e/14/e3q8)\n"
     ]
    }
   ],
   "source": [
    "%%sql\n",
    "SELECT p.person_first_name, p.person_last_name, e.email_address\n",
    "FROM person p\n",
    "FULL OUTER JOIN email_address e\n",
    "ON p.person_id = e.email_address_person_id;"
   ]
  },
  {
   "cell_type": "markdown",
   "metadata": {},
   "source": [
    "## INSERT"
   ]
  },
  {
   "cell_type": "code",
   "execution_count": 26,
   "metadata": {},
   "outputs": [
    {
     "name": "stdout",
     "output_type": "stream",
     "text": [
      " * sqlite://\n",
      "2 rows affected.\n"
     ]
    },
    {
     "data": {
      "text/plain": [
       "[]"
      ]
     },
     "execution_count": 26,
     "metadata": {},
     "output_type": "execute_result"
    }
   ],
   "source": [
    "%%sql\n",
    "INSERT INTO person\n",
    "(\n",
    "    person_id,\n",
    "    person_first_name,\n",
    "    person_last_name,\n",
    "    person_contacted_ntimes, \n",
    "    person_address, \n",
    "    person_date_added\n",
    ")\n",
    "VALUES\n",
    "(7, 'Jane', 'Howard', 6, 'Newcastle upon Tyne', '2022-06-09 13:47:25'),\n",
    "(8, 'Matthew', 'Lewis', 2, 'Manchester', '2022-07-09 13:47:25');"
   ]
  },
  {
   "cell_type": "code",
   "execution_count": 27,
   "metadata": {},
   "outputs": [
    {
     "name": "stdout",
     "output_type": "stream",
     "text": [
      " * sqlite://\n",
      "Done.\n"
     ]
    },
    {
     "data": {
      "text/html": [
       "<table>\n",
       "    <thead>\n",
       "        <tr>\n",
       "            <th>person_id</th>\n",
       "            <th>person_first_name</th>\n",
       "            <th>person_last_name</th>\n",
       "            <th>person_contacted_ntimes</th>\n",
       "            <th>person_address</th>\n",
       "            <th>person_date_added</th>\n",
       "        </tr>\n",
       "    </thead>\n",
       "    <tbody>\n",
       "        <tr>\n",
       "            <td>1</td>\n",
       "            <td>Jon</td>\n",
       "            <td>Flanders</td>\n",
       "            <td>5</td>\n",
       "            <td>London</td>\n",
       "            <td>2022-03-19 13:47:25</td>\n",
       "        </tr>\n",
       "        <tr>\n",
       "            <td>2</td>\n",
       "            <td>Shannon</td>\n",
       "            <td>Ahern</td>\n",
       "            <td>0</td>\n",
       "            <td>Glasgow</td>\n",
       "            <td>2022-04-23 13:47:25</td>\n",
       "        </tr>\n",
       "        <tr>\n",
       "            <td>3</td>\n",
       "            <td>Fritz</td>\n",
       "            <td>Onion</td>\n",
       "            <td>1</td>\n",
       "            <td>York</td>\n",
       "            <td>2022-04-25 13:47:25</td>\n",
       "        </tr>\n",
       "        <tr>\n",
       "            <td>4</td>\n",
       "            <td>Jon</td>\n",
       "            <td>Brown</td>\n",
       "            <td>3</td>\n",
       "            <td>Cambridge</td>\n",
       "            <td>2022-05-11 13:47:25</td>\n",
       "        </tr>\n",
       "        <tr>\n",
       "            <td>5</td>\n",
       "            <td>Fritz</td>\n",
       "            <td>Owen</td>\n",
       "            <td>2</td>\n",
       "            <td>Edinburgh</td>\n",
       "            <td>2022-06-01 13:47:25</td>\n",
       "        </tr>\n",
       "        <tr>\n",
       "            <td>6</td>\n",
       "            <td>Mary</td>\n",
       "            <td>Ahern</td>\n",
       "            <td>8</td>\n",
       "            <td>None</td>\n",
       "            <td>2022-06-01 13:47:25</td>\n",
       "        </tr>\n",
       "        <tr>\n",
       "            <td>7</td>\n",
       "            <td>Jane</td>\n",
       "            <td>Howard</td>\n",
       "            <td>6</td>\n",
       "            <td>Newcastle upon Tyne</td>\n",
       "            <td>2022-06-09 13:47:25</td>\n",
       "        </tr>\n",
       "        <tr>\n",
       "            <td>8</td>\n",
       "            <td>Matthew</td>\n",
       "            <td>Lewis</td>\n",
       "            <td>2</td>\n",
       "            <td>Manchester</td>\n",
       "            <td>2022-07-09 13:47:25</td>\n",
       "        </tr>\n",
       "    </tbody>\n",
       "</table>"
      ],
      "text/plain": [
       "[(1, 'Jon', 'Flanders', 5, 'London', '2022-03-19 13:47:25'),\n",
       " (2, 'Shannon', 'Ahern', 0, 'Glasgow', '2022-04-23 13:47:25'),\n",
       " (3, 'Fritz', 'Onion', 1, 'York', '2022-04-25 13:47:25'),\n",
       " (4, 'Jon', 'Brown', 3, 'Cambridge', '2022-05-11 13:47:25'),\n",
       " (5, 'Fritz', 'Owen', 2, 'Edinburgh', '2022-06-01 13:47:25'),\n",
       " (6, 'Mary', 'Ahern', 8, None, '2022-06-01 13:47:25'),\n",
       " (7, 'Jane', 'Howard', 6, 'Newcastle upon Tyne', '2022-06-09 13:47:25'),\n",
       " (8, 'Matthew', 'Lewis', 2, 'Manchester', '2022-07-09 13:47:25')]"
      ]
     },
     "execution_count": 27,
     "metadata": {},
     "output_type": "execute_result"
    }
   ],
   "source": [
    "%%sql\n",
    "SELECT * FROM person"
   ]
  },
  {
   "cell_type": "markdown",
   "metadata": {},
   "source": [
    "## UPDATE"
   ]
  },
  {
   "cell_type": "code",
   "execution_count": 28,
   "metadata": {},
   "outputs": [
    {
     "name": "stdout",
     "output_type": "stream",
     "text": [
      " * sqlite://\n",
      "1 rows affected.\n"
     ]
    },
    {
     "data": {
      "text/plain": [
       "[]"
      ]
     },
     "execution_count": 28,
     "metadata": {},
     "output_type": "execute_result"
    }
   ],
   "source": [
    "%%sql\n",
    "UPDATE person\n",
    "SET person_first_name='Bob', person_last_name='Wilson'\n",
    "WHERE person_id=1;"
   ]
  },
  {
   "cell_type": "code",
   "execution_count": 29,
   "metadata": {},
   "outputs": [
    {
     "name": "stdout",
     "output_type": "stream",
     "text": [
      " * sqlite://\n",
      "Done.\n"
     ]
    },
    {
     "data": {
      "text/html": [
       "<table>\n",
       "    <thead>\n",
       "        <tr>\n",
       "            <th>person_id</th>\n",
       "            <th>person_first_name</th>\n",
       "            <th>person_last_name</th>\n",
       "            <th>person_contacted_ntimes</th>\n",
       "            <th>person_address</th>\n",
       "            <th>person_date_added</th>\n",
       "        </tr>\n",
       "    </thead>\n",
       "    <tbody>\n",
       "        <tr>\n",
       "            <td>1</td>\n",
       "            <td>Bob</td>\n",
       "            <td>Wilson</td>\n",
       "            <td>5</td>\n",
       "            <td>London</td>\n",
       "            <td>2022-03-19 13:47:25</td>\n",
       "        </tr>\n",
       "        <tr>\n",
       "            <td>2</td>\n",
       "            <td>Shannon</td>\n",
       "            <td>Ahern</td>\n",
       "            <td>0</td>\n",
       "            <td>Glasgow</td>\n",
       "            <td>2022-04-23 13:47:25</td>\n",
       "        </tr>\n",
       "        <tr>\n",
       "            <td>3</td>\n",
       "            <td>Fritz</td>\n",
       "            <td>Onion</td>\n",
       "            <td>1</td>\n",
       "            <td>York</td>\n",
       "            <td>2022-04-25 13:47:25</td>\n",
       "        </tr>\n",
       "        <tr>\n",
       "            <td>4</td>\n",
       "            <td>Jon</td>\n",
       "            <td>Brown</td>\n",
       "            <td>3</td>\n",
       "            <td>Cambridge</td>\n",
       "            <td>2022-05-11 13:47:25</td>\n",
       "        </tr>\n",
       "        <tr>\n",
       "            <td>5</td>\n",
       "            <td>Fritz</td>\n",
       "            <td>Owen</td>\n",
       "            <td>2</td>\n",
       "            <td>Edinburgh</td>\n",
       "            <td>2022-06-01 13:47:25</td>\n",
       "        </tr>\n",
       "        <tr>\n",
       "            <td>6</td>\n",
       "            <td>Mary</td>\n",
       "            <td>Ahern</td>\n",
       "            <td>8</td>\n",
       "            <td>None</td>\n",
       "            <td>2022-06-01 13:47:25</td>\n",
       "        </tr>\n",
       "        <tr>\n",
       "            <td>7</td>\n",
       "            <td>Jane</td>\n",
       "            <td>Howard</td>\n",
       "            <td>6</td>\n",
       "            <td>Newcastle upon Tyne</td>\n",
       "            <td>2022-06-09 13:47:25</td>\n",
       "        </tr>\n",
       "        <tr>\n",
       "            <td>8</td>\n",
       "            <td>Matthew</td>\n",
       "            <td>Lewis</td>\n",
       "            <td>2</td>\n",
       "            <td>Manchester</td>\n",
       "            <td>2022-07-09 13:47:25</td>\n",
       "        </tr>\n",
       "    </tbody>\n",
       "</table>"
      ],
      "text/plain": [
       "[(1, 'Bob', 'Wilson', 5, 'London', '2022-03-19 13:47:25'),\n",
       " (2, 'Shannon', 'Ahern', 0, 'Glasgow', '2022-04-23 13:47:25'),\n",
       " (3, 'Fritz', 'Onion', 1, 'York', '2022-04-25 13:47:25'),\n",
       " (4, 'Jon', 'Brown', 3, 'Cambridge', '2022-05-11 13:47:25'),\n",
       " (5, 'Fritz', 'Owen', 2, 'Edinburgh', '2022-06-01 13:47:25'),\n",
       " (6, 'Mary', 'Ahern', 8, None, '2022-06-01 13:47:25'),\n",
       " (7, 'Jane', 'Howard', 6, 'Newcastle upon Tyne', '2022-06-09 13:47:25'),\n",
       " (8, 'Matthew', 'Lewis', 2, 'Manchester', '2022-07-09 13:47:25')]"
      ]
     },
     "execution_count": 29,
     "metadata": {},
     "output_type": "execute_result"
    }
   ],
   "source": [
    "%%sql\n",
    "SELECT * FROM person"
   ]
  },
  {
   "cell_type": "markdown",
   "metadata": {},
   "source": [
    "## DELETE\n",
    "* It's permanent.\n",
    "* WHERE clause is critical."
   ]
  },
  {
   "cell_type": "code",
   "execution_count": 30,
   "metadata": {},
   "outputs": [
    {
     "name": "stdout",
     "output_type": "stream",
     "text": [
      " * sqlite://\n",
      "1 rows affected.\n"
     ]
    },
    {
     "data": {
      "text/plain": [
       "[]"
      ]
     },
     "execution_count": 30,
     "metadata": {},
     "output_type": "execute_result"
    }
   ],
   "source": [
    "%%sql\n",
    "DELETE FROM person\n",
    "WHERE person_id=8;"
   ]
  },
  {
   "cell_type": "code",
   "execution_count": 31,
   "metadata": {},
   "outputs": [
    {
     "name": "stdout",
     "output_type": "stream",
     "text": [
      " * sqlite://\n",
      "Done.\n"
     ]
    },
    {
     "data": {
      "text/html": [
       "<table>\n",
       "    <thead>\n",
       "        <tr>\n",
       "            <th>person_id</th>\n",
       "            <th>person_first_name</th>\n",
       "            <th>person_last_name</th>\n",
       "            <th>person_contacted_ntimes</th>\n",
       "            <th>person_address</th>\n",
       "            <th>person_date_added</th>\n",
       "        </tr>\n",
       "    </thead>\n",
       "    <tbody>\n",
       "        <tr>\n",
       "            <td>1</td>\n",
       "            <td>Bob</td>\n",
       "            <td>Wilson</td>\n",
       "            <td>5</td>\n",
       "            <td>London</td>\n",
       "            <td>2022-03-19 13:47:25</td>\n",
       "        </tr>\n",
       "        <tr>\n",
       "            <td>2</td>\n",
       "            <td>Shannon</td>\n",
       "            <td>Ahern</td>\n",
       "            <td>0</td>\n",
       "            <td>Glasgow</td>\n",
       "            <td>2022-04-23 13:47:25</td>\n",
       "        </tr>\n",
       "        <tr>\n",
       "            <td>3</td>\n",
       "            <td>Fritz</td>\n",
       "            <td>Onion</td>\n",
       "            <td>1</td>\n",
       "            <td>York</td>\n",
       "            <td>2022-04-25 13:47:25</td>\n",
       "        </tr>\n",
       "        <tr>\n",
       "            <td>4</td>\n",
       "            <td>Jon</td>\n",
       "            <td>Brown</td>\n",
       "            <td>3</td>\n",
       "            <td>Cambridge</td>\n",
       "            <td>2022-05-11 13:47:25</td>\n",
       "        </tr>\n",
       "        <tr>\n",
       "            <td>5</td>\n",
       "            <td>Fritz</td>\n",
       "            <td>Owen</td>\n",
       "            <td>2</td>\n",
       "            <td>Edinburgh</td>\n",
       "            <td>2022-06-01 13:47:25</td>\n",
       "        </tr>\n",
       "        <tr>\n",
       "            <td>6</td>\n",
       "            <td>Mary</td>\n",
       "            <td>Ahern</td>\n",
       "            <td>8</td>\n",
       "            <td>None</td>\n",
       "            <td>2022-06-01 13:47:25</td>\n",
       "        </tr>\n",
       "        <tr>\n",
       "            <td>7</td>\n",
       "            <td>Jane</td>\n",
       "            <td>Howard</td>\n",
       "            <td>6</td>\n",
       "            <td>Newcastle upon Tyne</td>\n",
       "            <td>2022-06-09 13:47:25</td>\n",
       "        </tr>\n",
       "    </tbody>\n",
       "</table>"
      ],
      "text/plain": [
       "[(1, 'Bob', 'Wilson', 5, 'London', '2022-03-19 13:47:25'),\n",
       " (2, 'Shannon', 'Ahern', 0, 'Glasgow', '2022-04-23 13:47:25'),\n",
       " (3, 'Fritz', 'Onion', 1, 'York', '2022-04-25 13:47:25'),\n",
       " (4, 'Jon', 'Brown', 3, 'Cambridge', '2022-05-11 13:47:25'),\n",
       " (5, 'Fritz', 'Owen', 2, 'Edinburgh', '2022-06-01 13:47:25'),\n",
       " (6, 'Mary', 'Ahern', 8, None, '2022-06-01 13:47:25'),\n",
       " (7, 'Jane', 'Howard', 6, 'Newcastle upon Tyne', '2022-06-09 13:47:25')]"
      ]
     },
     "execution_count": 31,
     "metadata": {},
     "output_type": "execute_result"
    }
   ],
   "source": [
    "%%sql\n",
    "SELECT * FROM person"
   ]
  }
 ],
 "metadata": {
  "kernelspec": {
   "display_name": "Python 3.9.12 ('pyspark')",
   "language": "python",
   "name": "python3"
  },
  "language_info": {
   "codemirror_mode": {
    "name": "ipython",
    "version": 3
   },
   "file_extension": ".py",
   "mimetype": "text/x-python",
   "name": "python",
   "nbconvert_exporter": "python",
   "pygments_lexer": "ipython3",
   "version": "3.9.12"
  },
  "orig_nbformat": 4,
  "vscode": {
   "interpreter": {
    "hash": "c87542ed0204dc6ec77f1cc8aa37234572e368d958af6651226a3b19c2069256"
   }
  }
 },
 "nbformat": 4,
 "nbformat_minor": 2
}
