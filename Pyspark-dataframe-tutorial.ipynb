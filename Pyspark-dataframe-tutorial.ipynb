{
 "cells": [
  {
   "cell_type": "markdown",
   "metadata": {},
   "source": [
    "## Pyspark tutorial\n",
    "Pyspark docs [link](https://spark.apache.org/docs/latest/api/python/getting_started/index.html)\n",
    "<br>\n",
    "Good intro to spark [link](https://www.youtube.com/watch?v=9U4ED7KQwlE&)\n",
    "<br>"
   ]
  },
  {
   "cell_type": "code",
   "execution_count": 1,
   "metadata": {},
   "outputs": [],
   "source": [
    "from pyspark.sql import SparkSession\n",
    "spark=SparkSession.builder.appName('Dataframe').getOrCreate()"
   ]
  },
  {
   "cell_type": "code",
   "execution_count": 2,
   "metadata": {},
   "outputs": [],
   "source": [
    "# load CSV file into a Dataframe. inferSchema identify the correct data types\n",
    "df_pyspark=spark.read.csv('contacts2.csv', header=True, inferSchema=True)"
   ]
  },
  {
   "cell_type": "code",
   "execution_count": 3,
   "metadata": {},
   "outputs": [
    {
     "name": "stdout",
     "output_type": "stream",
     "text": [
      "+--------------+---------+---------+----+----------+--------------+--------------------+------+\n",
      "|          name|     city|    phone| age|experience|    speciality|              e-mail|salary|\n",
      "+--------------+---------+---------+----+----------+--------------+--------------------+------+\n",
      "|  Susan Calvin|   London| 56152358|  28|        10|   engineering|SusanCalvin@email...| 15000|\n",
      "| Bently Powell|Kathmandu| 96523995|  42|        22|    operations|   BentlyP@email.com| 90000|\n",
      "|Gregory Powell|     null|895712365|  66|        35|   engineering|   GregP14@email.com| 50000|\n",
      "|  Mike Donovan|Bangalore|886549702|  67|        34|administration|  MDonovan@email.com| 80000|\n",
      "|          null|Sao Paulo|     null|  30|      null|   engineering|                null|  null|\n",
      "|          null|    Tokyo| 98028909|null|      null|    operations|                null|  null|\n",
      "+--------------+---------+---------+----+----------+--------------+--------------------+------+\n",
      "\n"
     ]
    }
   ],
   "source": [
    "# display dataframe\n",
    "df_pyspark.show()"
   ]
  },
  {
   "cell_type": "code",
   "execution_count": 4,
   "metadata": {},
   "outputs": [
    {
     "name": "stdout",
     "output_type": "stream",
     "text": [
      "root\n",
      " |-- name: string (nullable = true)\n",
      " |-- city: string (nullable = true)\n",
      " |-- phone: integer (nullable = true)\n",
      " |-- age: integer (nullable = true)\n",
      " |-- experience: integer (nullable = true)\n",
      " |-- speciality: string (nullable = true)\n",
      " |-- e-mail: string (nullable = true)\n",
      " |-- salary: integer (nullable = true)\n",
      "\n"
     ]
    }
   ],
   "source": [
    "# show schema\n",
    "df_pyspark.printSchema()"
   ]
  },
  {
   "cell_type": "code",
   "execution_count": 5,
   "metadata": {},
   "outputs": [
    {
     "data": {
      "text/plain": [
       "[('name', 'string'),\n",
       " ('city', 'string'),\n",
       " ('phone', 'int'),\n",
       " ('age', 'int'),\n",
       " ('experience', 'int'),\n",
       " ('speciality', 'string'),\n",
       " ('e-mail', 'string'),\n",
       " ('salary', 'int')]"
      ]
     },
     "execution_count": 5,
     "metadata": {},
     "output_type": "execute_result"
    }
   ],
   "source": [
    "# show datatypes\n",
    "df_pyspark.dtypes"
   ]
  },
  {
   "cell_type": "code",
   "execution_count": 6,
   "metadata": {},
   "outputs": [
    {
     "data": {
      "text/plain": [
       "6"
      ]
     },
     "execution_count": 6,
     "metadata": {},
     "output_type": "execute_result"
    }
   ],
   "source": [
    "# number of lines\n",
    "df_pyspark.count()"
   ]
  },
  {
   "cell_type": "markdown",
   "metadata": {},
   "source": [
    "### Working with columns and rows"
   ]
  },
  {
   "cell_type": "code",
   "execution_count": 7,
   "metadata": {},
   "outputs": [
    {
     "data": {
      "text/plain": [
       "['name',\n",
       " 'city',\n",
       " 'phone',\n",
       " 'age',\n",
       " 'experience',\n",
       " 'speciality',\n",
       " 'e-mail',\n",
       " 'salary']"
      ]
     },
     "execution_count": 7,
     "metadata": {},
     "output_type": "execute_result"
    }
   ],
   "source": [
    "df_pyspark.columns"
   ]
  },
  {
   "cell_type": "code",
   "execution_count": 8,
   "metadata": {},
   "outputs": [
    {
     "name": "stdout",
     "output_type": "stream",
     "text": [
      "+--------------+\n",
      "|          name|\n",
      "+--------------+\n",
      "|  Susan Calvin|\n",
      "| Bently Powell|\n",
      "|Gregory Powell|\n",
      "|  Mike Donovan|\n",
      "|          null|\n",
      "|          null|\n",
      "+--------------+\n",
      "\n"
     ]
    }
   ],
   "source": [
    "# select a column by name\n",
    "df_pyspark.select('name').show()"
   ]
  },
  {
   "cell_type": "code",
   "execution_count": 9,
   "metadata": {},
   "outputs": [
    {
     "name": "stdout",
     "output_type": "stream",
     "text": [
      "+--------------+--------------------+\n",
      "|          name|              e-mail|\n",
      "+--------------+--------------------+\n",
      "|  Susan Calvin|SusanCalvin@email...|\n",
      "| Bently Powell|   BentlyP@email.com|\n",
      "|Gregory Powell|   GregP14@email.com|\n",
      "|  Mike Donovan|  MDonovan@email.com|\n",
      "|          null|                null|\n",
      "|          null|                null|\n",
      "+--------------+--------------------+\n",
      "\n"
     ]
    }
   ],
   "source": [
    "# select 2 or more columns by name\n",
    "df_pyspark.select('name', 'e-mail').show()"
   ]
  },
  {
   "cell_type": "code",
   "execution_count": 10,
   "metadata": {},
   "outputs": [
    {
     "name": "stdout",
     "output_type": "stream",
     "text": [
      "+-------+-----------------+------------------+------------------+\n",
      "|summary|              age|        experience|            salary|\n",
      "+-------+-----------------+------------------+------------------+\n",
      "|  count|                5|                 4|                 4|\n",
      "|   mean|             46.6|             25.25|           58750.0|\n",
      "| stddev|18.94201678808252|11.757976016304847|33757.715167548486|\n",
      "|    min|               28|                10|             15000|\n",
      "|    max|               67|                35|             90000|\n",
      "+-------+-----------------+------------------+------------------+\n",
      "\n"
     ]
    }
   ],
   "source": [
    "# show description\n",
    "df_pyspark.select('age', 'experience', 'salary').describe().show()"
   ]
  },
  {
   "cell_type": "code",
   "execution_count": 11,
   "metadata": {},
   "outputs": [
    {
     "name": "stdout",
     "output_type": "stream",
     "text": [
      "+---------+---------+\n",
      "|     city|    phone|\n",
      "+---------+---------+\n",
      "|   London| 56152358|\n",
      "|Kathmandu| 96523995|\n",
      "|     null|895712365|\n",
      "|Bangalore|886549702|\n",
      "|Sao Paulo|     null|\n",
      "|    Tokyo| 98028909|\n",
      "+---------+---------+\n",
      "\n"
     ]
    }
   ],
   "source": [
    "# select columns by index\n",
    "df_pyspark.select(df_pyspark.columns[1:3]).show()"
   ]
  },
  {
   "cell_type": "code",
   "execution_count": 12,
   "metadata": {},
   "outputs": [
    {
     "data": {
      "text/plain": [
       "[Row(name='Susan Calvin', city='London', phone=56152358, age=28, experience=10, speciality='engineering', e-mail='SusanCalvin@email.com', salary=15000),\n",
       " Row(name='Bently Powell', city='Kathmandu', phone=96523995, age=42, experience=22, speciality='operations', e-mail='BentlyP@email.com', salary=90000),\n",
       " Row(name='Gregory Powell', city=None, phone=895712365, age=66, experience=35, speciality='engineering', e-mail='GregP14@email.com', salary=50000),\n",
       " Row(name='Mike Donovan', city='Bangalore', phone=886549702, age=67, experience=34, speciality='administration', e-mail='MDonovan@email.com', salary=80000),\n",
       " Row(name=None, city='Sao Paulo', phone=None, age=30, experience=None, speciality='engineering', e-mail=None, salary=None),\n",
       " Row(name=None, city='Tokyo', phone=98028909, age=None, experience=None, speciality='operations', e-mail=None, salary=None)]"
      ]
     },
     "execution_count": 12,
     "metadata": {},
     "output_type": "execute_result"
    }
   ],
   "source": [
    "# retrieving data\n",
    "df_pyspark.collect()"
   ]
  },
  {
   "cell_type": "code",
   "execution_count": 13,
   "metadata": {},
   "outputs": [
    {
     "data": {
      "text/plain": [
       "Row(name='Gregory Powell', city=None, phone=895712365, age=66, experience=35, speciality='engineering', e-mail='GregP14@email.com', salary=50000)"
      ]
     },
     "execution_count": 13,
     "metadata": {},
     "output_type": "execute_result"
    }
   ],
   "source": [
    "# select 3rd row\n",
    "df_pyspark.collect()[2]"
   ]
  },
  {
   "cell_type": "code",
   "execution_count": 14,
   "metadata": {},
   "outputs": [
    {
     "data": {
      "text/plain": [
       "Row(name=None, city='Tokyo', phone=98028909, age=None, experience=None, speciality='operations', e-mail=None, salary=None)"
      ]
     },
     "execution_count": 14,
     "metadata": {},
     "output_type": "execute_result"
    }
   ],
   "source": [
    "# select last row\n",
    "df_pyspark.collect()[-1]"
   ]
  },
  {
   "cell_type": "code",
   "execution_count": 15,
   "metadata": {},
   "outputs": [
    {
     "name": "stdout",
     "output_type": "stream",
     "text": [
      "+-------------+---------+--------+---+----------+-----------+--------------------+------+\n",
      "|         name|     city|   phone|age|experience| speciality|              e-mail|salary|\n",
      "+-------------+---------+--------+---+----------+-----------+--------------------+------+\n",
      "| Susan Calvin|   London|56152358| 28|        10|engineering|SusanCalvin@email...| 15000|\n",
      "|Bently Powell|Kathmandu|96523995| 42|        22| operations|   BentlyP@email.com| 90000|\n",
      "+-------------+---------+--------+---+----------+-----------+--------------------+------+\n",
      "only showing top 2 rows\n",
      "\n"
     ]
    }
   ],
   "source": [
    "# two top rows\n",
    "df_pyspark.show(2)"
   ]
  },
  {
   "cell_type": "code",
   "execution_count": 16,
   "metadata": {},
   "outputs": [
    {
     "data": {
      "text/plain": [
       "[Row(name='Susan Calvin', city='London', phone=56152358, age=28, experience=10, speciality='engineering', e-mail='SusanCalvin@email.com', salary=15000),\n",
       " Row(name='Bently Powell', city='Kathmandu', phone=96523995, age=42, experience=22, speciality='operations', e-mail='BentlyP@email.com', salary=90000)]"
      ]
     },
     "execution_count": 16,
     "metadata": {},
     "output_type": "execute_result"
    }
   ],
   "source": [
    "df_pyspark.head(2)"
   ]
  },
  {
   "cell_type": "code",
   "execution_count": 17,
   "metadata": {},
   "outputs": [
    {
     "data": {
      "text/plain": [
       "[Row(name=None, city='Sao Paulo', phone=None, age=30, experience=None, speciality='engineering', e-mail=None, salary=None),\n",
       " Row(name=None, city='Tokyo', phone=98028909, age=None, experience=None, speciality='operations', e-mail=None, salary=None)]"
      ]
     },
     "execution_count": 17,
     "metadata": {},
     "output_type": "execute_result"
    }
   ],
   "source": [
    "df_pyspark.tail(2)"
   ]
  },
  {
   "cell_type": "code",
   "execution_count": 18,
   "metadata": {},
   "outputs": [
    {
     "data": {
      "text/plain": [
       "'London'"
      ]
     },
     "execution_count": 18,
     "metadata": {},
     "output_type": "execute_result"
    }
   ],
   "source": [
    "# select an entry [row][column]\n",
    "df_pyspark.collect()[0][1]"
   ]
  },
  {
   "cell_type": "markdown",
   "metadata": {},
   "source": [
    "### Renaming columns"
   ]
  },
  {
   "cell_type": "code",
   "execution_count": 19,
   "metadata": {},
   "outputs": [
    {
     "name": "stdout",
     "output_type": "stream",
     "text": [
      "+--------------+---------+---------+----+----------+--------------+--------------------+------+\n",
      "|      new_name|     city|    phone| age|experience|    speciality|              e-mail|salary|\n",
      "+--------------+---------+---------+----+----------+--------------+--------------------+------+\n",
      "|  Susan Calvin|   London| 56152358|  28|        10|   engineering|SusanCalvin@email...| 15000|\n",
      "| Bently Powell|Kathmandu| 96523995|  42|        22|    operations|   BentlyP@email.com| 90000|\n",
      "|Gregory Powell|     null|895712365|  66|        35|   engineering|   GregP14@email.com| 50000|\n",
      "|  Mike Donovan|Bangalore|886549702|  67|        34|administration|  MDonovan@email.com| 80000|\n",
      "|          null|Sao Paulo|     null|  30|      null|   engineering|                null|  null|\n",
      "|          null|    Tokyo| 98028909|null|      null|    operations|                null|  null|\n",
      "+--------------+---------+---------+----+----------+--------------+--------------------+------+\n",
      "\n"
     ]
    }
   ],
   "source": [
    "# rename columns\n",
    "df_pyspark.withColumnRenamed('name', 'new_name').show()"
   ]
  },
  {
   "cell_type": "markdown",
   "metadata": {},
   "source": [
    "### Adding/removing Columns and rows"
   ]
  },
  {
   "cell_type": "code",
   "execution_count": 20,
   "metadata": {},
   "outputs": [
    {
     "name": "stdout",
     "output_type": "stream",
     "text": [
      "+--------------+---------+---------+----+----------+--------------+--------------------+------+-----------------+\n",
      "|          name|     city|    phone| age|experience|    speciality|              e-mail|salary|exp_after_5_years|\n",
      "+--------------+---------+---------+----+----------+--------------+--------------------+------+-----------------+\n",
      "|  Susan Calvin|   London| 56152358|  28|        10|   engineering|SusanCalvin@email...| 15000|               15|\n",
      "| Bently Powell|Kathmandu| 96523995|  42|        22|    operations|   BentlyP@email.com| 90000|               27|\n",
      "|Gregory Powell|     null|895712365|  66|        35|   engineering|   GregP14@email.com| 50000|               40|\n",
      "|  Mike Donovan|Bangalore|886549702|  67|        34|administration|  MDonovan@email.com| 80000|               39|\n",
      "|          null|Sao Paulo|     null|  30|      null|   engineering|                null|  null|             null|\n",
      "|          null|    Tokyo| 98028909|null|      null|    operations|                null|  null|             null|\n",
      "+--------------+---------+---------+----+----------+--------------+--------------------+------+-----------------+\n",
      "\n"
     ]
    }
   ],
   "source": [
    "# add column\n",
    "df_pyspark.withColumn('exp_after_5_years',df_pyspark['experience']+5).show()"
   ]
  },
  {
   "cell_type": "code",
   "execution_count": 21,
   "metadata": {},
   "outputs": [
    {
     "name": "stdout",
     "output_type": "stream",
     "text": [
      "+--------------+---------+---------+----+----------+--------------+------+\n",
      "|          name|     city|    phone| age|experience|    speciality|salary|\n",
      "+--------------+---------+---------+----+----------+--------------+------+\n",
      "|  Susan Calvin|   London| 56152358|  28|        10|   engineering| 15000|\n",
      "| Bently Powell|Kathmandu| 96523995|  42|        22|    operations| 90000|\n",
      "|Gregory Powell|     null|895712365|  66|        35|   engineering| 50000|\n",
      "|  Mike Donovan|Bangalore|886549702|  67|        34|administration| 80000|\n",
      "|          null|Sao Paulo|     null|  30|      null|   engineering|  null|\n",
      "|          null|    Tokyo| 98028909|null|      null|    operations|  null|\n",
      "+--------------+---------+---------+----+----------+--------------+------+\n",
      "\n"
     ]
    }
   ],
   "source": [
    "# drop columns\n",
    "df_pyspark.drop('e-mail').show()"
   ]
  },
  {
   "cell_type": "markdown",
   "metadata": {},
   "source": [
    "### Missing values"
   ]
  },
  {
   "cell_type": "code",
   "execution_count": 22,
   "metadata": {},
   "outputs": [
    {
     "name": "stdout",
     "output_type": "stream",
     "text": [
      "+-------------+---------+---------+---+----------+--------------+--------------------+------+\n",
      "|         name|     city|    phone|age|experience|    speciality|              e-mail|salary|\n",
      "+-------------+---------+---------+---+----------+--------------+--------------------+------+\n",
      "| Susan Calvin|   London| 56152358| 28|        10|   engineering|SusanCalvin@email...| 15000|\n",
      "|Bently Powell|Kathmandu| 96523995| 42|        22|    operations|   BentlyP@email.com| 90000|\n",
      "| Mike Donovan|Bangalore|886549702| 67|        34|administration|  MDonovan@email.com| 80000|\n",
      "+-------------+---------+---------+---+----------+--------------+--------------------+------+\n",
      "\n"
     ]
    }
   ],
   "source": [
    "# drop na\n",
    "df_pyspark.na.drop().show()"
   ]
  },
  {
   "cell_type": "code",
   "execution_count": 23,
   "metadata": {},
   "outputs": [
    {
     "name": "stdout",
     "output_type": "stream",
     "text": [
      "+--------------+---------+---------+----+----------+--------------+--------------------+------+\n",
      "|          name|     city|    phone| age|experience|    speciality|              e-mail|salary|\n",
      "+--------------+---------+---------+----+----------+--------------+--------------------+------+\n",
      "|  Susan Calvin|   London| 56152358|  28|        10|   engineering|SusanCalvin@email...| 15000|\n",
      "| Bently Powell|Kathmandu| 96523995|  42|        22|    operations|   BentlyP@email.com| 90000|\n",
      "|Gregory Powell|     null|895712365|  66|        35|   engineering|   GregP14@email.com| 50000|\n",
      "|  Mike Donovan|Bangalore|886549702|  67|        34|administration|  MDonovan@email.com| 80000|\n",
      "|          null|Sao Paulo|     null|  30|      null|   engineering|                null|  null|\n",
      "|          null|    Tokyo| 98028909|null|      null|    operations|                null|  null|\n",
      "+--------------+---------+---------+----+----------+--------------+--------------------+------+\n",
      "\n"
     ]
    }
   ],
   "source": [
    "# https://spark.apache.org/docs/latest/api/python/reference/api/pyspark.sql.DataFrame.dropna.html\n",
    "# how: ‘any’ or ‘all’. If ‘any’, drop a row if it contains any nulls. If ‘all’, drop a row only if all its values are null.\n",
    "df_pyspark.na.drop(how='all').show()"
   ]
  },
  {
   "cell_type": "code",
   "execution_count": 24,
   "metadata": {},
   "outputs": [
    {
     "name": "stdout",
     "output_type": "stream",
     "text": [
      "+--------------+---------+---------+----+----------+--------------+--------------------+------+\n",
      "|          name|     city|    phone| age|experience|    speciality|              e-mail|salary|\n",
      "+--------------+---------+---------+----+----------+--------------+--------------------+------+\n",
      "|  Susan Calvin|   London| 56152358|  28|        10|   engineering|SusanCalvin@email...| 15000|\n",
      "| Bently Powell|Kathmandu| 96523995|  42|        22|    operations|   BentlyP@email.com| 90000|\n",
      "|Gregory Powell|     null|895712365|  66|        35|   engineering|   GregP14@email.com| 50000|\n",
      "|  Mike Donovan|Bangalore|886549702|  67|        34|administration|  MDonovan@email.com| 80000|\n",
      "|          null|Sao Paulo|     null|  30|      null|   engineering|                null|  null|\n",
      "|          null|    Tokyo| 98028909|null|      null|    operations|                null|  null|\n",
      "+--------------+---------+---------+----+----------+--------------+--------------------+------+\n",
      "\n"
     ]
    }
   ],
   "source": [
    "# https://spark.apache.org/docs/latest/api/python/reference/api/pyspark.sql.DataFrame.dropna.html\n",
    "# thresh: default None If specified, drop rows that have less than thresh non-null values. This overwrites the how parameter.\n",
    "df_pyspark.na.drop(thresh=3).show()"
   ]
  },
  {
   "cell_type": "code",
   "execution_count": 25,
   "metadata": {},
   "outputs": [
    {
     "name": "stdout",
     "output_type": "stream",
     "text": [
      "+-------------+---------+---------+----+----------+--------------+--------------------+------+\n",
      "|         name|     city|    phone| age|experience|    speciality|              e-mail|salary|\n",
      "+-------------+---------+---------+----+----------+--------------+--------------------+------+\n",
      "| Susan Calvin|   London| 56152358|  28|        10|   engineering|SusanCalvin@email...| 15000|\n",
      "|Bently Powell|Kathmandu| 96523995|  42|        22|    operations|   BentlyP@email.com| 90000|\n",
      "| Mike Donovan|Bangalore|886549702|  67|        34|administration|  MDonovan@email.com| 80000|\n",
      "|         null|Sao Paulo|     null|  30|      null|   engineering|                null|  null|\n",
      "|         null|    Tokyo| 98028909|null|      null|    operations|                null|  null|\n",
      "+-------------+---------+---------+----+----------+--------------+--------------------+------+\n",
      "\n"
     ]
    }
   ],
   "source": [
    "# https://spark.apache.org/docs/latest/api/python/reference/api/pyspark.sql.DataFrame.dropna.html\n",
    "# subset: optional list of column names to consider.\n",
    "df_pyspark.na.drop(subset=['city']).show()"
   ]
  },
  {
   "cell_type": "code",
   "execution_count": 26,
   "metadata": {},
   "outputs": [
    {
     "name": "stdout",
     "output_type": "stream",
     "text": [
      "+--------------+--------------+---------+----+----------+--------------+--------------------+------+\n",
      "|          name|          city|    phone| age|experience|    speciality|              e-mail|salary|\n",
      "+--------------+--------------+---------+----+----------+--------------+--------------------+------+\n",
      "|  Susan Calvin|        London| 56152358|  28|        10|   engineering|SusanCalvin@email...| 15000|\n",
      "| Bently Powell|     Kathmandu| 96523995|  42|        22|    operations|   BentlyP@email.com| 90000|\n",
      "|Gregory Powell|Missing values|895712365|  66|        35|   engineering|   GregP14@email.com| 50000|\n",
      "|  Mike Donovan|     Bangalore|886549702|  67|        34|administration|  MDonovan@email.com| 80000|\n",
      "|Missing values|     Sao Paulo|     null|  30|      null|   engineering|      Missing values|  null|\n",
      "|Missing values|         Tokyo| 98028909|null|      null|    operations|      Missing values|  null|\n",
      "+--------------+--------------+---------+----+----------+--------------+--------------------+------+\n",
      "\n"
     ]
    }
   ],
   "source": [
    "## filling missing values - only strings\n",
    "df_pyspark.na.fill('Missing values').show()"
   ]
  },
  {
   "cell_type": "code",
   "execution_count": 27,
   "metadata": {},
   "outputs": [
    {
     "name": "stdout",
     "output_type": "stream",
     "text": [
      "+--------------+---------+---------+---+----------+--------------+--------------------+------+\n",
      "|          name|     city|    phone|age|experience|    speciality|              e-mail|salary|\n",
      "+--------------+---------+---------+---+----------+--------------+--------------------+------+\n",
      "|  Susan Calvin|   London| 56152358| 28|        10|   engineering|SusanCalvin@email...| 15000|\n",
      "| Bently Powell|Kathmandu| 96523995| 42|        22|    operations|   BentlyP@email.com| 90000|\n",
      "|Gregory Powell|     null|895712365| 66|        35|   engineering|   GregP14@email.com| 50000|\n",
      "|  Mike Donovan|Bangalore|886549702| 67|        34|administration|  MDonovan@email.com| 80000|\n",
      "|          null|Sao Paulo|      999| 30|       999|   engineering|                null|   999|\n",
      "|          null|    Tokyo| 98028909|999|       999|    operations|                null|   999|\n",
      "+--------------+---------+---------+---+----------+--------------+--------------------+------+\n",
      "\n"
     ]
    }
   ],
   "source": [
    "## filling missing values - only integers\n",
    "df_pyspark.na.fill(999).show()"
   ]
  },
  {
   "cell_type": "code",
   "execution_count": 28,
   "metadata": {},
   "outputs": [
    {
     "name": "stdout",
     "output_type": "stream",
     "text": [
      "+--------------+--------------+---------+----+----------+--------------+--------------------+------+\n",
      "|          name|          city|    phone| age|experience|    speciality|              e-mail|salary|\n",
      "+--------------+--------------+---------+----+----------+--------------+--------------------+------+\n",
      "|  Susan Calvin|        London| 56152358|  28|        10|   engineering|SusanCalvin@email...| 15000|\n",
      "| Bently Powell|     Kathmandu| 96523995|  42|        22|    operations|   BentlyP@email.com| 90000|\n",
      "|Gregory Powell|Missing values|895712365|  66|        35|   engineering|   GregP14@email.com| 50000|\n",
      "|  Mike Donovan|     Bangalore|886549702|  67|        34|administration|  MDonovan@email.com| 80000|\n",
      "|          null|     Sao Paulo|     null|  30|      null|   engineering|      Missing values|  null|\n",
      "|          null|         Tokyo| 98028909|null|      null|    operations|      Missing values|  null|\n",
      "+--------------+--------------+---------+----+----------+--------------+--------------------+------+\n",
      "\n"
     ]
    }
   ],
   "source": [
    "## filling missing values on selected columns\n",
    "df_pyspark.na.fill('Missing values', ['city','e-mail']).show()"
   ]
  },
  {
   "cell_type": "markdown",
   "metadata": {},
   "source": [
    "### Filtering\n",
    "* and: &\n",
    "* or: |\n",
    "* equal: ==\n",
    "* not: ~"
   ]
  },
  {
   "cell_type": "code",
   "execution_count": 29,
   "metadata": {},
   "outputs": [
    {
     "name": "stdout",
     "output_type": "stream",
     "text": [
      "+--------------+------+---------+---+----------+-----------+--------------------+------+\n",
      "|          name|  city|    phone|age|experience| speciality|              e-mail|salary|\n",
      "+--------------+------+---------+---+----------+-----------+--------------------+------+\n",
      "|  Susan Calvin|London| 56152358| 28|        10|engineering|SusanCalvin@email...| 15000|\n",
      "|Gregory Powell|  null|895712365| 66|        35|engineering|   GregP14@email.com| 50000|\n",
      "+--------------+------+---------+---+----------+-----------+--------------------+------+\n",
      "\n"
     ]
    }
   ],
   "source": [
    "# Filtering\n",
    "df_pyspark.filter(\"salary<=50000\").show()"
   ]
  },
  {
   "cell_type": "code",
   "execution_count": 30,
   "metadata": {},
   "outputs": [
    {
     "name": "stdout",
     "output_type": "stream",
     "text": [
      "+--------------+------+---------+---+----------+-----------+--------------------+------+\n",
      "|          name|  city|    phone|age|experience| speciality|              e-mail|salary|\n",
      "+--------------+------+---------+---+----------+-----------+--------------------+------+\n",
      "|  Susan Calvin|London| 56152358| 28|        10|engineering|SusanCalvin@email...| 15000|\n",
      "|Gregory Powell|  null|895712365| 66|        35|engineering|   GregP14@email.com| 50000|\n",
      "+--------------+------+---------+---+----------+-----------+--------------------+------+\n",
      "\n"
     ]
    }
   ],
   "source": [
    "#same result different syntax\n",
    "df_pyspark.filter(df_pyspark['salary']<=50000).show()"
   ]
  },
  {
   "cell_type": "code",
   "execution_count": 31,
   "metadata": {},
   "outputs": [
    {
     "name": "stdout",
     "output_type": "stream",
     "text": [
      "+-------------+---------+---------+---+----------+--------------+------------------+------+\n",
      "|         name|     city|    phone|age|experience|    speciality|            e-mail|salary|\n",
      "+-------------+---------+---------+---+----------+--------------+------------------+------+\n",
      "|Bently Powell|Kathmandu| 96523995| 42|        22|    operations| BentlyP@email.com| 90000|\n",
      "| Mike Donovan|Bangalore|886549702| 67|        34|administration|MDonovan@email.com| 80000|\n",
      "+-------------+---------+---------+---+----------+--------------+------------------+------+\n",
      "\n"
     ]
    }
   ],
   "source": [
    "# invert selection with a ~\n",
    "df_pyspark.filter(~(df_pyspark['salary']<=50000)).show()"
   ]
  },
  {
   "cell_type": "code",
   "execution_count": 32,
   "metadata": {},
   "outputs": [
    {
     "name": "stdout",
     "output_type": "stream",
     "text": [
      "+--------------+----------+\n",
      "|          name|experience|\n",
      "+--------------+----------+\n",
      "|  Susan Calvin|        10|\n",
      "|Gregory Powell|        35|\n",
      "+--------------+----------+\n",
      "\n"
     ]
    }
   ],
   "source": [
    "df_pyspark.filter(\"salary<=50000\").select(['name','experience']).show()"
   ]
  },
  {
   "cell_type": "code",
   "execution_count": 33,
   "metadata": {},
   "outputs": [
    {
     "name": "stdout",
     "output_type": "stream",
     "text": [
      "+--------------+---------+---------+---+----------+--------------+------------------+------+\n",
      "|          name|     city|    phone|age|experience|    speciality|            e-mail|salary|\n",
      "+--------------+---------+---------+---+----------+--------------+------------------+------+\n",
      "|Gregory Powell|     null|895712365| 66|        35|   engineering| GregP14@email.com| 50000|\n",
      "|  Mike Donovan|Bangalore|886549702| 67|        34|administration|MDonovan@email.com| 80000|\n",
      "+--------------+---------+---------+---+----------+--------------+------------------+------+\n",
      "\n"
     ]
    }
   ],
   "source": [
    "df_pyspark.filter((df_pyspark['salary']<=80000) & \n",
    "                (df_pyspark['salary']>=20000)).show()"
   ]
  },
  {
   "cell_type": "code",
   "execution_count": 34,
   "metadata": {},
   "outputs": [
    {
     "name": "stdout",
     "output_type": "stream",
     "text": [
      "+------------+------+--------+---+----------+-----------+--------------------+------+\n",
      "|        name|  city|   phone|age|experience| speciality|              e-mail|salary|\n",
      "+------------+------+--------+---+----------+-----------+--------------------+------+\n",
      "|Susan Calvin|London|56152358| 28|        10|engineering|SusanCalvin@email...| 15000|\n",
      "+------------+------+--------+---+----------+-----------+--------------------+------+\n",
      "\n"
     ]
    }
   ],
   "source": [
    "# selecting a subset of rows\n",
    "df_pyspark.filter(df_pyspark.age==28).show()"
   ]
  },
  {
   "cell_type": "markdown",
   "metadata": {},
   "source": [
    "### Groupby "
   ]
  },
  {
   "cell_type": "code",
   "execution_count": 35,
   "metadata": {},
   "outputs": [
    {
     "name": "stdout",
     "output_type": "stream",
     "text": [
      "+--------------+----------+--------+---------------+-----------+\n",
      "|    speciality|sum(phone)|sum(age)|sum(experience)|sum(salary)|\n",
      "+--------------+----------+--------+---------------+-----------+\n",
      "|administration| 886549702|      67|             34|      80000|\n",
      "|    operations| 194552904|      42|             22|      90000|\n",
      "|   engineering| 951864723|     124|             45|      65000|\n",
      "+--------------+----------+--------+---------------+-----------+\n",
      "\n"
     ]
    }
   ],
   "source": [
    "# group by speciality and applying sum()\n",
    "df_pyspark.groupBy('speciality').sum().show()"
   ]
  },
  {
   "cell_type": "code",
   "execution_count": 36,
   "metadata": {},
   "outputs": [
    {
     "name": "stdout",
     "output_type": "stream",
     "text": [
      "+--------------+-----+\n",
      "|    speciality|count|\n",
      "+--------------+-----+\n",
      "|administration|    1|\n",
      "|    operations|    2|\n",
      "|   engineering|    3|\n",
      "+--------------+-----+\n",
      "\n"
     ]
    }
   ],
   "source": [
    "# group by speciality and counting\n",
    "df_pyspark.groupBy('speciality').count().show()"
   ]
  },
  {
   "cell_type": "code",
   "execution_count": 37,
   "metadata": {},
   "outputs": [
    {
     "name": "stdout",
     "output_type": "stream",
     "text": [
      "+--------------+----------+--------+---------------+-----------+\n",
      "|    speciality|max(phone)|max(age)|max(experience)|max(salary)|\n",
      "+--------------+----------+--------+---------------+-----------+\n",
      "|administration| 886549702|      67|             34|      80000|\n",
      "|    operations|  98028909|      42|             22|      90000|\n",
      "|   engineering| 895712365|      66|             35|      50000|\n",
      "+--------------+----------+--------+---------------+-----------+\n",
      "\n"
     ]
    }
   ],
   "source": [
    "# group by speciality and getting max()\n",
    "df_pyspark.groupBy('speciality').max().show()"
   ]
  },
  {
   "cell_type": "code",
   "execution_count": 38,
   "metadata": {},
   "outputs": [
    {
     "name": "stdout",
     "output_type": "stream",
     "text": [
      "+--------------+-------------+------------------+---------------+-----------+\n",
      "|    speciality|   avg(phone)|          avg(age)|avg(experience)|avg(salary)|\n",
      "+--------------+-------------+------------------+---------------+-----------+\n",
      "|administration| 8.86549702E8|              67.0|           34.0|    80000.0|\n",
      "|    operations|  9.7276452E7|              42.0|           22.0|    90000.0|\n",
      "|   engineering|4.759323615E8|41.333333333333336|           22.5|    32500.0|\n",
      "+--------------+-------------+------------------+---------------+-----------+\n",
      "\n"
     ]
    }
   ],
   "source": [
    "# group by speciality and applying avg()\n",
    "df_pyspark.groupBy('speciality').avg().show()"
   ]
  },
  {
   "cell_type": "markdown",
   "metadata": {},
   "source": [
    "### Aggregate"
   ]
  },
  {
   "cell_type": "code",
   "execution_count": 39,
   "metadata": {},
   "outputs": [
    {
     "name": "stdout",
     "output_type": "stream",
     "text": [
      "+-----------+\n",
      "|sum(salary)|\n",
      "+-----------+\n",
      "|     235000|\n",
      "+-----------+\n",
      "\n"
     ]
    }
   ],
   "source": [
    "df_pyspark.agg({'salary':'sum'}).show()"
   ]
  },
  {
   "cell_type": "markdown",
   "metadata": {},
   "source": [
    "### Misc"
   ]
  },
  {
   "cell_type": "code",
   "execution_count": 40,
   "metadata": {},
   "outputs": [
    {
     "data": {
      "text/html": [
       "<div>\n",
       "<style scoped>\n",
       "    .dataframe tbody tr th:only-of-type {\n",
       "        vertical-align: middle;\n",
       "    }\n",
       "\n",
       "    .dataframe tbody tr th {\n",
       "        vertical-align: top;\n",
       "    }\n",
       "\n",
       "    .dataframe thead th {\n",
       "        text-align: right;\n",
       "    }\n",
       "</style>\n",
       "<table border=\"1\" class=\"dataframe\">\n",
       "  <thead>\n",
       "    <tr style=\"text-align: right;\">\n",
       "      <th></th>\n",
       "      <th>name</th>\n",
       "      <th>city</th>\n",
       "      <th>phone</th>\n",
       "      <th>age</th>\n",
       "      <th>experience</th>\n",
       "      <th>speciality</th>\n",
       "      <th>e-mail</th>\n",
       "      <th>salary</th>\n",
       "    </tr>\n",
       "  </thead>\n",
       "  <tbody>\n",
       "    <tr>\n",
       "      <th>0</th>\n",
       "      <td>Susan Calvin</td>\n",
       "      <td>London</td>\n",
       "      <td>56152358.0</td>\n",
       "      <td>28.0</td>\n",
       "      <td>10.0</td>\n",
       "      <td>engineering</td>\n",
       "      <td>SusanCalvin@email.com</td>\n",
       "      <td>15000.0</td>\n",
       "    </tr>\n",
       "    <tr>\n",
       "      <th>1</th>\n",
       "      <td>Bently Powell</td>\n",
       "      <td>Kathmandu</td>\n",
       "      <td>96523995.0</td>\n",
       "      <td>42.0</td>\n",
       "      <td>22.0</td>\n",
       "      <td>operations</td>\n",
       "      <td>BentlyP@email.com</td>\n",
       "      <td>90000.0</td>\n",
       "    </tr>\n",
       "    <tr>\n",
       "      <th>2</th>\n",
       "      <td>Gregory Powell</td>\n",
       "      <td>None</td>\n",
       "      <td>895712365.0</td>\n",
       "      <td>66.0</td>\n",
       "      <td>35.0</td>\n",
       "      <td>engineering</td>\n",
       "      <td>GregP14@email.com</td>\n",
       "      <td>50000.0</td>\n",
       "    </tr>\n",
       "    <tr>\n",
       "      <th>3</th>\n",
       "      <td>Mike Donovan</td>\n",
       "      <td>Bangalore</td>\n",
       "      <td>886549702.0</td>\n",
       "      <td>67.0</td>\n",
       "      <td>34.0</td>\n",
       "      <td>administration</td>\n",
       "      <td>MDonovan@email.com</td>\n",
       "      <td>80000.0</td>\n",
       "    </tr>\n",
       "    <tr>\n",
       "      <th>4</th>\n",
       "      <td>None</td>\n",
       "      <td>Sao Paulo</td>\n",
       "      <td>NaN</td>\n",
       "      <td>30.0</td>\n",
       "      <td>NaN</td>\n",
       "      <td>engineering</td>\n",
       "      <td>None</td>\n",
       "      <td>NaN</td>\n",
       "    </tr>\n",
       "    <tr>\n",
       "      <th>5</th>\n",
       "      <td>None</td>\n",
       "      <td>Tokyo</td>\n",
       "      <td>98028909.0</td>\n",
       "      <td>NaN</td>\n",
       "      <td>NaN</td>\n",
       "      <td>operations</td>\n",
       "      <td>None</td>\n",
       "      <td>NaN</td>\n",
       "    </tr>\n",
       "  </tbody>\n",
       "</table>\n",
       "</div>"
      ],
      "text/plain": [
       "             name       city        phone   age  experience      speciality  \\\n",
       "0    Susan Calvin     London   56152358.0  28.0        10.0     engineering   \n",
       "1   Bently Powell  Kathmandu   96523995.0  42.0        22.0      operations   \n",
       "2  Gregory Powell       None  895712365.0  66.0        35.0     engineering   \n",
       "3    Mike Donovan  Bangalore  886549702.0  67.0        34.0  administration   \n",
       "4            None  Sao Paulo          NaN  30.0         NaN     engineering   \n",
       "5            None      Tokyo   98028909.0   NaN         NaN      operations   \n",
       "\n",
       "                  e-mail   salary  \n",
       "0  SusanCalvin@email.com  15000.0  \n",
       "1      BentlyP@email.com  90000.0  \n",
       "2      GregP14@email.com  50000.0  \n",
       "3     MDonovan@email.com  80000.0  \n",
       "4                   None      NaN  \n",
       "5                   None      NaN  "
      ]
     },
     "execution_count": 40,
     "metadata": {},
     "output_type": "execute_result"
    }
   ],
   "source": [
    "# converts to pandas DataFrame\n",
    "df_pyspark.toPandas()"
   ]
  },
  {
   "cell_type": "code",
   "execution_count": 41,
   "metadata": {},
   "outputs": [
    {
     "name": "stdout",
     "output_type": "stream",
     "text": [
      "+--------------+---------+---------+----+----------+--------------+--------------------+------+\n",
      "|          name|     city|    phone| age|experience|    speciality|              e-mail|salary|\n",
      "+--------------+---------+---------+----+----------+--------------+--------------------+------+\n",
      "|          null|    Tokyo| 98028909|null|      null|    operations|                null|  null|\n",
      "|  Susan Calvin|   London| 56152358|  28|        10|   engineering|SusanCalvin@email...| 15000|\n",
      "|          null|Sao Paulo|     null|  30|      null|   engineering|                null|  null|\n",
      "| Bently Powell|Kathmandu| 96523995|  42|        22|    operations|   BentlyP@email.com| 90000|\n",
      "|Gregory Powell|     null|895712365|  66|        35|   engineering|   GregP14@email.com| 50000|\n",
      "|  Mike Donovan|Bangalore|886549702|  67|        34|administration|  MDonovan@email.com| 80000|\n",
      "+--------------+---------+---------+----+----------+--------------+--------------------+------+\n",
      "\n"
     ]
    }
   ],
   "source": [
    "# sorting\n",
    "df_pyspark.sort(df_pyspark[\"age\"]).show()"
   ]
  },
  {
   "cell_type": "code",
   "execution_count": 42,
   "metadata": {},
   "outputs": [
    {
     "name": "stdout",
     "output_type": "stream",
     "text": [
      "+--------------+---------+---------+----+----------+--------------+--------------------+------+\n",
      "|          name|     city|    phone| age|experience|    speciality|              e-mail|salary|\n",
      "+--------------+---------+---------+----+----------+--------------+--------------------+------+\n",
      "|          null|    Tokyo| 98028909|null|      null|    operations|                null|  null|\n",
      "|  Susan Calvin|   London| 56152358|  28|        10|   engineering|SusanCalvin@email...| 15000|\n",
      "|          null|Sao Paulo|     null|  30|      null|   engineering|                null|  null|\n",
      "| Bently Powell|Kathmandu| 96523995|  42|        22|    operations|   BentlyP@email.com| 90000|\n",
      "|Gregory Powell|     null|895712365|  66|        35|   engineering|   GregP14@email.com| 50000|\n",
      "|  Mike Donovan|Bangalore|886549702|  67|        34|administration|  MDonovan@email.com| 80000|\n",
      "+--------------+---------+---------+----+----------+--------------+--------------------+------+\n",
      "\n"
     ]
    }
   ],
   "source": [
    "# sorting\n",
    "df_pyspark.sort(df_pyspark[\"age\"]).show()"
   ]
  },
  {
   "cell_type": "code",
   "execution_count": 43,
   "metadata": {},
   "outputs": [
    {
     "name": "stdout",
     "output_type": "stream",
     "text": [
      "+--------------+---------+---------+---+----------+-----------+--------------------+------+\n",
      "|          name|     city|    phone|age|experience| speciality|              e-mail|salary|\n",
      "+--------------+---------+---------+---+----------+-----------+--------------------+------+\n",
      "|  Susan Calvin|   London| 56152358| 28|        10|engineering|SusanCalvin@email...| 15000|\n",
      "|          null|Sao Paulo|     null| 30|      null|engineering|                null|  null|\n",
      "|Gregory Powell|     null|895712365| 66|        35|engineering|   GregP14@email.com| 50000|\n",
      "+--------------+---------+---------+---+----------+-----------+--------------------+------+\n",
      "\n"
     ]
    }
   ],
   "source": [
    "# filtering + sorting\n",
    "(df_pyspark\n",
    "    .filter(df_pyspark[\"speciality\"]=='engineering')\n",
    "    .sort(df_pyspark[\"age\"])\n",
    "    .show())"
   ]
  }
 ],
 "metadata": {
  "interpreter": {
   "hash": "c87542ed0204dc6ec77f1cc8aa37234572e368d958af6651226a3b19c2069256"
  },
  "kernelspec": {
   "display_name": "Python 3.9.12 ('pyspark')",
   "language": "python",
   "name": "python3"
  },
  "language_info": {
   "codemirror_mode": {
    "name": "ipython",
    "version": 3
   },
   "file_extension": ".py",
   "mimetype": "text/x-python",
   "name": "python",
   "nbconvert_exporter": "python",
   "pygments_lexer": "ipython3",
   "version": "3.9.12"
  },
  "orig_nbformat": 4
 },
 "nbformat": 4,
 "nbformat_minor": 2
}
