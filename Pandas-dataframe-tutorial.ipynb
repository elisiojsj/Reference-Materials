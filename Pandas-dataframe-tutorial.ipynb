{
 "cells": [
  {
   "cell_type": "markdown",
   "metadata": {},
   "source": [
    "# Pandas simple tutorial\n",
    "This is a simple tutorial I created for consultation.<br>\n",
    "\n",
    "[Pandas API reference](https://pandas.pydata.org/pandas-docs/stable/reference/index.html)"
   ]
  },
  {
   "cell_type": "markdown",
   "metadata": {},
   "source": [
    "## Important concepts:\n",
    "* [Series](https://pandas.pydata.org/pandas-docs/stable/getting_started/dsintro.html#series) is a one-dimensional labeled array capable of holding any data type (integers, strings, floating point numbers, Python objects, etc.). \n",
    "* [Dataframe](https://pandas.pydata.org/pandas-docs/stable/getting_started/dsintro.html#dataframe) is a 2-dimensional labeled data structure with columns of potentially different types. You can think of it like a spreadsheet or SQL table, or a dict of Series objects. "
   ]
  },
  {
   "cell_type": "code",
   "execution_count": 1,
   "metadata": {},
   "outputs": [],
   "source": [
    "import pandas as pd\n",
    "import numpy as np"
   ]
  },
  {
   "cell_type": "code",
   "execution_count": 2,
   "metadata": {},
   "outputs": [],
   "source": [
    "contacts = {\n",
    "            'name': ['Susan Calvin', 'Bently Powell', 'Gregory Powell', 'Mike Donovan'],\n",
    "            'city': ['London', 'Kathmandu', 'Moskow', 'Bangalore'],\n",
    "            'phone': ['056152358', '096523995', '895712365', '886549702'],\n",
    "            'age' : ['28', '42', '66', '67'],\n",
    "            'e-mail': ['SusanCalvin@email.com', 'BentlyP@email.com', 'GregP14@email.com', 'MDonovan@email.com']\n",
    "            }"
   ]
  },
  {
   "cell_type": "code",
   "execution_count": 3,
   "metadata": {},
   "outputs": [],
   "source": [
    "# create a dataframe that can be worked with pandas\n",
    "df = pd.DataFrame(contacts)"
   ]
  },
  {
   "cell_type": "code",
   "execution_count": 4,
   "metadata": {},
   "outputs": [
    {
     "data": {
      "text/html": [
       "<div>\n",
       "<style scoped>\n",
       "    .dataframe tbody tr th:only-of-type {\n",
       "        vertical-align: middle;\n",
       "    }\n",
       "\n",
       "    .dataframe tbody tr th {\n",
       "        vertical-align: top;\n",
       "    }\n",
       "\n",
       "    .dataframe thead th {\n",
       "        text-align: right;\n",
       "    }\n",
       "</style>\n",
       "<table border=\"1\" class=\"dataframe\">\n",
       "  <thead>\n",
       "    <tr style=\"text-align: right;\">\n",
       "      <th></th>\n",
       "      <th>name</th>\n",
       "      <th>city</th>\n",
       "      <th>phone</th>\n",
       "      <th>age</th>\n",
       "      <th>e-mail</th>\n",
       "    </tr>\n",
       "  </thead>\n",
       "  <tbody>\n",
       "    <tr>\n",
       "      <th>0</th>\n",
       "      <td>Susan Calvin</td>\n",
       "      <td>London</td>\n",
       "      <td>056152358</td>\n",
       "      <td>28</td>\n",
       "      <td>SusanCalvin@email.com</td>\n",
       "    </tr>\n",
       "    <tr>\n",
       "      <th>1</th>\n",
       "      <td>Bently Powell</td>\n",
       "      <td>Kathmandu</td>\n",
       "      <td>096523995</td>\n",
       "      <td>42</td>\n",
       "      <td>BentlyP@email.com</td>\n",
       "    </tr>\n",
       "    <tr>\n",
       "      <th>2</th>\n",
       "      <td>Gregory Powell</td>\n",
       "      <td>Moskow</td>\n",
       "      <td>895712365</td>\n",
       "      <td>66</td>\n",
       "      <td>GregP14@email.com</td>\n",
       "    </tr>\n",
       "    <tr>\n",
       "      <th>3</th>\n",
       "      <td>Mike Donovan</td>\n",
       "      <td>Bangalore</td>\n",
       "      <td>886549702</td>\n",
       "      <td>67</td>\n",
       "      <td>MDonovan@email.com</td>\n",
       "    </tr>\n",
       "  </tbody>\n",
       "</table>\n",
       "</div>"
      ],
      "text/plain": [
       "             name       city      phone age                 e-mail\n",
       "0    Susan Calvin     London  056152358  28  SusanCalvin@email.com\n",
       "1   Bently Powell  Kathmandu  096523995  42      BentlyP@email.com\n",
       "2  Gregory Powell     Moskow  895712365  66      GregP14@email.com\n",
       "3    Mike Donovan  Bangalore  886549702  67     MDonovan@email.com"
      ]
     },
     "execution_count": 4,
     "metadata": {},
     "output_type": "execute_result"
    }
   ],
   "source": [
    "# print the dataframe, that's the best way to do so.\n",
    "df"
   ]
  },
  {
   "cell_type": "code",
   "execution_count": 5,
   "metadata": {},
   "outputs": [
    {
     "data": {
      "text/plain": [
       "(4, 5)"
      ]
     },
     "execution_count": 5,
     "metadata": {},
     "output_type": "execute_result"
    }
   ],
   "source": [
    "# shape of the df (rows, columns)\n",
    "df.shape"
   ]
  },
  {
   "cell_type": "code",
   "execution_count": 6,
   "metadata": {},
   "outputs": [
    {
     "data": {
      "text/plain": [
       "Index(['name', 'city', 'phone', 'age', 'e-mail'], dtype='object')"
      ]
     },
     "execution_count": 6,
     "metadata": {},
     "output_type": "execute_result"
    }
   ],
   "source": [
    "df.columns"
   ]
  },
  {
   "cell_type": "markdown",
   "metadata": {},
   "source": [
    "### Working with columns"
   ]
  },
  {
   "cell_type": "code",
   "execution_count": 7,
   "metadata": {},
   "outputs": [
    {
     "data": {
      "text/plain": [
       "0      Susan Calvin\n",
       "1     Bently Powell\n",
       "2    Gregory Powell\n",
       "3      Mike Donovan\n",
       "Name: name, dtype: object"
      ]
     },
     "execution_count": 7,
     "metadata": {},
     "output_type": "execute_result"
    }
   ],
   "source": [
    "# select a column\n",
    "df['name']"
   ]
  },
  {
   "cell_type": "code",
   "execution_count": 8,
   "metadata": {},
   "outputs": [
    {
     "data": {
      "text/html": [
       "<div>\n",
       "<style scoped>\n",
       "    .dataframe tbody tr th:only-of-type {\n",
       "        vertical-align: middle;\n",
       "    }\n",
       "\n",
       "    .dataframe tbody tr th {\n",
       "        vertical-align: top;\n",
       "    }\n",
       "\n",
       "    .dataframe thead th {\n",
       "        text-align: right;\n",
       "    }\n",
       "</style>\n",
       "<table border=\"1\" class=\"dataframe\">\n",
       "  <thead>\n",
       "    <tr style=\"text-align: right;\">\n",
       "      <th></th>\n",
       "      <th>name</th>\n",
       "      <th>city</th>\n",
       "    </tr>\n",
       "  </thead>\n",
       "  <tbody>\n",
       "    <tr>\n",
       "      <th>0</th>\n",
       "      <td>Susan Calvin</td>\n",
       "      <td>London</td>\n",
       "    </tr>\n",
       "    <tr>\n",
       "      <th>1</th>\n",
       "      <td>Bently Powell</td>\n",
       "      <td>Kathmandu</td>\n",
       "    </tr>\n",
       "    <tr>\n",
       "      <th>2</th>\n",
       "      <td>Gregory Powell</td>\n",
       "      <td>Moskow</td>\n",
       "    </tr>\n",
       "    <tr>\n",
       "      <th>3</th>\n",
       "      <td>Mike Donovan</td>\n",
       "      <td>Bangalore</td>\n",
       "    </tr>\n",
       "  </tbody>\n",
       "</table>\n",
       "</div>"
      ],
      "text/plain": [
       "             name       city\n",
       "0    Susan Calvin     London\n",
       "1   Bently Powell  Kathmandu\n",
       "2  Gregory Powell     Moskow\n",
       "3    Mike Donovan  Bangalore"
      ]
     },
     "execution_count": 8,
     "metadata": {},
     "output_type": "execute_result"
    }
   ],
   "source": [
    "# selecting 2 or more columns, notice the extra braket\n",
    "df[['name', 'city']]"
   ]
  },
  {
   "cell_type": "code",
   "execution_count": 9,
   "metadata": {},
   "outputs": [
    {
     "data": {
      "text/plain": [
       "'BentlyP@email.com'"
      ]
     },
     "execution_count": 9,
     "metadata": {},
     "output_type": "execute_result"
    }
   ],
   "source": [
    "# select an entry on a given column\n",
    "df['e-mail'][1]"
   ]
  },
  {
   "cell_type": "markdown",
   "metadata": {},
   "source": [
    "### Renaming columns"
   ]
  },
  {
   "cell_type": "code",
   "execution_count": 10,
   "metadata": {},
   "outputs": [
    {
     "data": {
      "text/plain": [
       "Index(['name', 'city', 'phone', 'age', 'e-mail'], dtype='object')"
      ]
     },
     "execution_count": 10,
     "metadata": {},
     "output_type": "execute_result"
    }
   ],
   "source": [
    "# observe that it's a list\n",
    "df.columns"
   ]
  },
  {
   "cell_type": "code",
   "execution_count": 11,
   "metadata": {},
   "outputs": [
    {
     "data": {
      "text/html": [
       "<div>\n",
       "<style scoped>\n",
       "    .dataframe tbody tr th:only-of-type {\n",
       "        vertical-align: middle;\n",
       "    }\n",
       "\n",
       "    .dataframe tbody tr th {\n",
       "        vertical-align: top;\n",
       "    }\n",
       "\n",
       "    .dataframe thead th {\n",
       "        text-align: right;\n",
       "    }\n",
       "</style>\n",
       "<table border=\"1\" class=\"dataframe\">\n",
       "  <thead>\n",
       "    <tr style=\"text-align: right;\">\n",
       "      <th></th>\n",
       "      <th>NAME</th>\n",
       "      <th>CITY</th>\n",
       "      <th>PHONE</th>\n",
       "      <th>AGE</th>\n",
       "      <th>E-MAIL</th>\n",
       "    </tr>\n",
       "  </thead>\n",
       "  <tbody>\n",
       "    <tr>\n",
       "      <th>0</th>\n",
       "      <td>Susan Calvin</td>\n",
       "      <td>London</td>\n",
       "      <td>056152358</td>\n",
       "      <td>28</td>\n",
       "      <td>SusanCalvin@email.com</td>\n",
       "    </tr>\n",
       "    <tr>\n",
       "      <th>1</th>\n",
       "      <td>Bently Powell</td>\n",
       "      <td>Kathmandu</td>\n",
       "      <td>096523995</td>\n",
       "      <td>42</td>\n",
       "      <td>BentlyP@email.com</td>\n",
       "    </tr>\n",
       "    <tr>\n",
       "      <th>2</th>\n",
       "      <td>Gregory Powell</td>\n",
       "      <td>Moskow</td>\n",
       "      <td>895712365</td>\n",
       "      <td>66</td>\n",
       "      <td>GregP14@email.com</td>\n",
       "    </tr>\n",
       "    <tr>\n",
       "      <th>3</th>\n",
       "      <td>Mike Donovan</td>\n",
       "      <td>Bangalore</td>\n",
       "      <td>886549702</td>\n",
       "      <td>67</td>\n",
       "      <td>MDonovan@email.com</td>\n",
       "    </tr>\n",
       "  </tbody>\n",
       "</table>\n",
       "</div>"
      ],
      "text/plain": [
       "             NAME       CITY      PHONE AGE                 E-MAIL\n",
       "0    Susan Calvin     London  056152358  28  SusanCalvin@email.com\n",
       "1   Bently Powell  Kathmandu  096523995  42      BentlyP@email.com\n",
       "2  Gregory Powell     Moskow  895712365  66      GregP14@email.com\n",
       "3    Mike Donovan  Bangalore  886549702  67     MDonovan@email.com"
      ]
     },
     "execution_count": 11,
     "metadata": {},
     "output_type": "execute_result"
    }
   ],
   "source": [
    "# renaming all at once\n",
    "df.columns = ['NAME', 'CITY', 'PHONE', 'AGE', 'E-MAIL']\n",
    "df"
   ]
  },
  {
   "cell_type": "code",
   "execution_count": 12,
   "metadata": {},
   "outputs": [
    {
     "data": {
      "text/html": [
       "<div>\n",
       "<style scoped>\n",
       "    .dataframe tbody tr th:only-of-type {\n",
       "        vertical-align: middle;\n",
       "    }\n",
       "\n",
       "    .dataframe tbody tr th {\n",
       "        vertical-align: top;\n",
       "    }\n",
       "\n",
       "    .dataframe thead th {\n",
       "        text-align: right;\n",
       "    }\n",
       "</style>\n",
       "<table border=\"1\" class=\"dataframe\">\n",
       "  <thead>\n",
       "    <tr style=\"text-align: right;\">\n",
       "      <th></th>\n",
       "      <th>name</th>\n",
       "      <th>city</th>\n",
       "      <th>phone</th>\n",
       "      <th>age</th>\n",
       "      <th>e-mail</th>\n",
       "    </tr>\n",
       "  </thead>\n",
       "  <tbody>\n",
       "    <tr>\n",
       "      <th>0</th>\n",
       "      <td>Susan Calvin</td>\n",
       "      <td>London</td>\n",
       "      <td>056152358</td>\n",
       "      <td>28</td>\n",
       "      <td>SusanCalvin@email.com</td>\n",
       "    </tr>\n",
       "    <tr>\n",
       "      <th>1</th>\n",
       "      <td>Bently Powell</td>\n",
       "      <td>Kathmandu</td>\n",
       "      <td>096523995</td>\n",
       "      <td>42</td>\n",
       "      <td>BentlyP@email.com</td>\n",
       "    </tr>\n",
       "    <tr>\n",
       "      <th>2</th>\n",
       "      <td>Gregory Powell</td>\n",
       "      <td>Moskow</td>\n",
       "      <td>895712365</td>\n",
       "      <td>66</td>\n",
       "      <td>GregP14@email.com</td>\n",
       "    </tr>\n",
       "    <tr>\n",
       "      <th>3</th>\n",
       "      <td>Mike Donovan</td>\n",
       "      <td>Bangalore</td>\n",
       "      <td>886549702</td>\n",
       "      <td>67</td>\n",
       "      <td>MDonovan@email.com</td>\n",
       "    </tr>\n",
       "  </tbody>\n",
       "</table>\n",
       "</div>"
      ],
      "text/plain": [
       "             name       city      phone age                 e-mail\n",
       "0    Susan Calvin     London  056152358  28  SusanCalvin@email.com\n",
       "1   Bently Powell  Kathmandu  096523995  42      BentlyP@email.com\n",
       "2  Gregory Powell     Moskow  895712365  66      GregP14@email.com\n",
       "3    Mike Donovan  Bangalore  886549702  67     MDonovan@email.com"
      ]
     },
     "execution_count": 12,
     "metadata": {},
     "output_type": "execute_result"
    }
   ],
   "source": [
    "# using list comprehension\n",
    "df.columns = [x.lower() for x in df.columns]\n",
    "df"
   ]
  },
  {
   "cell_type": "code",
   "execution_count": 13,
   "metadata": {},
   "outputs": [
    {
     "data": {
      "text/html": [
       "<div>\n",
       "<style scoped>\n",
       "    .dataframe tbody tr th:only-of-type {\n",
       "        vertical-align: middle;\n",
       "    }\n",
       "\n",
       "    .dataframe tbody tr th {\n",
       "        vertical-align: top;\n",
       "    }\n",
       "\n",
       "    .dataframe thead th {\n",
       "        text-align: right;\n",
       "    }\n",
       "</style>\n",
       "<table border=\"1\" class=\"dataframe\">\n",
       "  <thead>\n",
       "    <tr style=\"text-align: right;\">\n",
       "      <th></th>\n",
       "      <th>full_name</th>\n",
       "      <th>city</th>\n",
       "      <th>phone</th>\n",
       "      <th>age</th>\n",
       "      <th>email</th>\n",
       "    </tr>\n",
       "  </thead>\n",
       "  <tbody>\n",
       "    <tr>\n",
       "      <th>0</th>\n",
       "      <td>Susan Calvin</td>\n",
       "      <td>London</td>\n",
       "      <td>056152358</td>\n",
       "      <td>28</td>\n",
       "      <td>SusanCalvin@email.com</td>\n",
       "    </tr>\n",
       "    <tr>\n",
       "      <th>1</th>\n",
       "      <td>Bently Powell</td>\n",
       "      <td>Kathmandu</td>\n",
       "      <td>096523995</td>\n",
       "      <td>42</td>\n",
       "      <td>BentlyP@email.com</td>\n",
       "    </tr>\n",
       "    <tr>\n",
       "      <th>2</th>\n",
       "      <td>Gregory Powell</td>\n",
       "      <td>Moskow</td>\n",
       "      <td>895712365</td>\n",
       "      <td>66</td>\n",
       "      <td>GregP14@email.com</td>\n",
       "    </tr>\n",
       "    <tr>\n",
       "      <th>3</th>\n",
       "      <td>Mike Donovan</td>\n",
       "      <td>Bangalore</td>\n",
       "      <td>886549702</td>\n",
       "      <td>67</td>\n",
       "      <td>MDonovan@email.com</td>\n",
       "    </tr>\n",
       "  </tbody>\n",
       "</table>\n",
       "</div>"
      ],
      "text/plain": [
       "        full_name       city      phone age                  email\n",
       "0    Susan Calvin     London  056152358  28  SusanCalvin@email.com\n",
       "1   Bently Powell  Kathmandu  096523995  42      BentlyP@email.com\n",
       "2  Gregory Powell     Moskow  895712365  66      GregP14@email.com\n",
       "3    Mike Donovan  Bangalore  886549702  67     MDonovan@email.com"
      ]
     },
     "execution_count": 13,
     "metadata": {},
     "output_type": "execute_result"
    }
   ],
   "source": [
    "# item by item\n",
    "df.rename(columns = {'name': 'full_name', 'e-mail': 'email'}, inplace=True)\n",
    "df"
   ]
  },
  {
   "cell_type": "markdown",
   "metadata": {},
   "source": [
    "### Working with rows\n",
    "The most common way to access rows are from 2 comands **iloc** and **loc**.\n",
    "* iloc uses numbered index to access items.\n",
    "* loc can use column labels to access items and it gives more options."
   ]
  },
  {
   "cell_type": "code",
   "execution_count": 14,
   "metadata": {},
   "outputs": [
    {
     "data": {
      "text/plain": [
       "full_name          Mike Donovan\n",
       "city                  Bangalore\n",
       "phone                 886549702\n",
       "age                          67\n",
       "email        MDonovan@email.com\n",
       "Name: 3, dtype: object"
      ]
     },
     "execution_count": 14,
     "metadata": {},
     "output_type": "execute_result"
    }
   ],
   "source": [
    "df.iloc[3]"
   ]
  },
  {
   "cell_type": "code",
   "execution_count": 15,
   "metadata": {},
   "outputs": [
    {
     "data": {
      "text/html": [
       "<div>\n",
       "<style scoped>\n",
       "    .dataframe tbody tr th:only-of-type {\n",
       "        vertical-align: middle;\n",
       "    }\n",
       "\n",
       "    .dataframe tbody tr th {\n",
       "        vertical-align: top;\n",
       "    }\n",
       "\n",
       "    .dataframe thead th {\n",
       "        text-align: right;\n",
       "    }\n",
       "</style>\n",
       "<table border=\"1\" class=\"dataframe\">\n",
       "  <thead>\n",
       "    <tr style=\"text-align: right;\">\n",
       "      <th></th>\n",
       "      <th>full_name</th>\n",
       "      <th>email</th>\n",
       "    </tr>\n",
       "  </thead>\n",
       "  <tbody>\n",
       "    <tr>\n",
       "      <th>1</th>\n",
       "      <td>Bently Powell</td>\n",
       "      <td>BentlyP@email.com</td>\n",
       "    </tr>\n",
       "    <tr>\n",
       "      <th>3</th>\n",
       "      <td>Mike Donovan</td>\n",
       "      <td>MDonovan@email.com</td>\n",
       "    </tr>\n",
       "    <tr>\n",
       "      <th>0</th>\n",
       "      <td>Susan Calvin</td>\n",
       "      <td>SusanCalvin@email.com</td>\n",
       "    </tr>\n",
       "  </tbody>\n",
       "</table>\n",
       "</div>"
      ],
      "text/plain": [
       "       full_name                  email\n",
       "1  Bently Powell      BentlyP@email.com\n",
       "3   Mike Donovan     MDonovan@email.com\n",
       "0   Susan Calvin  SusanCalvin@email.com"
      ]
     },
     "execution_count": 15,
     "metadata": {},
     "output_type": "execute_result"
    }
   ],
   "source": [
    "# to access more than one column or row use the brakets\n",
    "df.loc[[1,3,0], ['full_name', 'email']]"
   ]
  },
  {
   "cell_type": "code",
   "execution_count": 16,
   "metadata": {
    "scrolled": false
   },
   "outputs": [
    {
     "data": {
      "text/html": [
       "<div>\n",
       "<style scoped>\n",
       "    .dataframe tbody tr th:only-of-type {\n",
       "        vertical-align: middle;\n",
       "    }\n",
       "\n",
       "    .dataframe tbody tr th {\n",
       "        vertical-align: top;\n",
       "    }\n",
       "\n",
       "    .dataframe thead th {\n",
       "        text-align: right;\n",
       "    }\n",
       "</style>\n",
       "<table border=\"1\" class=\"dataframe\">\n",
       "  <thead>\n",
       "    <tr style=\"text-align: right;\">\n",
       "      <th></th>\n",
       "      <th>full_name</th>\n",
       "      <th>city</th>\n",
       "      <th>phone</th>\n",
       "    </tr>\n",
       "  </thead>\n",
       "  <tbody>\n",
       "    <tr>\n",
       "      <th>1</th>\n",
       "      <td>Bently Powell</td>\n",
       "      <td>Kathmandu</td>\n",
       "      <td>096523995</td>\n",
       "    </tr>\n",
       "    <tr>\n",
       "      <th>2</th>\n",
       "      <td>Gregory Powell</td>\n",
       "      <td>Moskow</td>\n",
       "      <td>895712365</td>\n",
       "    </tr>\n",
       "    <tr>\n",
       "      <th>3</th>\n",
       "      <td>Mike Donovan</td>\n",
       "      <td>Bangalore</td>\n",
       "      <td>886549702</td>\n",
       "    </tr>\n",
       "  </tbody>\n",
       "</table>\n",
       "</div>"
      ],
      "text/plain": [
       "        full_name       city      phone\n",
       "1   Bently Powell  Kathmandu  096523995\n",
       "2  Gregory Powell     Moskow  895712365\n",
       "3    Mike Donovan  Bangalore  886549702"
      ]
     },
     "execution_count": 16,
     "metadata": {},
     "output_type": "execute_result"
    }
   ],
   "source": [
    "# no brakets needed to slicing, differently to the python standard the stop index is inclusive\n",
    "# [row, column]\n",
    "df.loc[1:3, 'full_name':'phone']"
   ]
  },
  {
   "cell_type": "markdown",
   "metadata": {},
   "source": [
    "### Indexing"
   ]
  },
  {
   "cell_type": "code",
   "execution_count": 17,
   "metadata": {},
   "outputs": [
    {
     "data": {
      "text/html": [
       "<div>\n",
       "<style scoped>\n",
       "    .dataframe tbody tr th:only-of-type {\n",
       "        vertical-align: middle;\n",
       "    }\n",
       "\n",
       "    .dataframe tbody tr th {\n",
       "        vertical-align: top;\n",
       "    }\n",
       "\n",
       "    .dataframe thead th {\n",
       "        text-align: right;\n",
       "    }\n",
       "</style>\n",
       "<table border=\"1\" class=\"dataframe\">\n",
       "  <thead>\n",
       "    <tr style=\"text-align: right;\">\n",
       "      <th></th>\n",
       "      <th>full_name</th>\n",
       "      <th>city</th>\n",
       "      <th>phone</th>\n",
       "      <th>age</th>\n",
       "    </tr>\n",
       "    <tr>\n",
       "      <th>email</th>\n",
       "      <th></th>\n",
       "      <th></th>\n",
       "      <th></th>\n",
       "      <th></th>\n",
       "    </tr>\n",
       "  </thead>\n",
       "  <tbody>\n",
       "    <tr>\n",
       "      <th>SusanCalvin@email.com</th>\n",
       "      <td>Susan Calvin</td>\n",
       "      <td>London</td>\n",
       "      <td>056152358</td>\n",
       "      <td>28</td>\n",
       "    </tr>\n",
       "    <tr>\n",
       "      <th>BentlyP@email.com</th>\n",
       "      <td>Bently Powell</td>\n",
       "      <td>Kathmandu</td>\n",
       "      <td>096523995</td>\n",
       "      <td>42</td>\n",
       "    </tr>\n",
       "    <tr>\n",
       "      <th>GregP14@email.com</th>\n",
       "      <td>Gregory Powell</td>\n",
       "      <td>Moskow</td>\n",
       "      <td>895712365</td>\n",
       "      <td>66</td>\n",
       "    </tr>\n",
       "    <tr>\n",
       "      <th>MDonovan@email.com</th>\n",
       "      <td>Mike Donovan</td>\n",
       "      <td>Bangalore</td>\n",
       "      <td>886549702</td>\n",
       "      <td>67</td>\n",
       "    </tr>\n",
       "  </tbody>\n",
       "</table>\n",
       "</div>"
      ],
      "text/plain": [
       "                            full_name       city      phone age\n",
       "email                                                          \n",
       "SusanCalvin@email.com    Susan Calvin     London  056152358  28\n",
       "BentlyP@email.com       Bently Powell  Kathmandu  096523995  42\n",
       "GregP14@email.com      Gregory Powell     Moskow  895712365  66\n",
       "MDonovan@email.com       Mike Donovan  Bangalore  886549702  67"
      ]
     },
     "execution_count": 17,
     "metadata": {},
     "output_type": "execute_result"
    }
   ],
   "source": [
    "# set email column as index. To apply the change inplace must be True.\n",
    "df.set_index('email', inplace=True)\n",
    "df"
   ]
  },
  {
   "cell_type": "code",
   "execution_count": 18,
   "metadata": {},
   "outputs": [
    {
     "data": {
      "text/plain": [
       "full_name    Gregory Powell\n",
       "city                 Moskow\n",
       "phone             895712365\n",
       "age                      66\n",
       "Name: GregP14@email.com, dtype: object"
      ]
     },
     "execution_count": 18,
     "metadata": {},
     "output_type": "execute_result"
    }
   ],
   "source": [
    "# now the email is used as the index and loc cannot use the index numbers anymore \n",
    "df.loc['GregP14@email.com']"
   ]
  },
  {
   "cell_type": "code",
   "execution_count": 19,
   "metadata": {},
   "outputs": [
    {
     "data": {
      "text/plain": [
       "full_name    Mike Donovan\n",
       "phone           886549702\n",
       "Name: MDonovan@email.com, dtype: object"
      ]
     },
     "execution_count": 19,
     "metadata": {},
     "output_type": "execute_result"
    }
   ],
   "source": [
    "df.loc['MDonovan@email.com', ['full_name', 'phone']]"
   ]
  },
  {
   "cell_type": "code",
   "execution_count": 20,
   "metadata": {},
   "outputs": [
    {
     "data": {
      "text/plain": [
       "full_name    Bently Powell\n",
       "city             Kathmandu\n",
       "phone            096523995\n",
       "age                     42\n",
       "Name: BentlyP@email.com, dtype: object"
      ]
     },
     "execution_count": 20,
     "metadata": {},
     "output_type": "execute_result"
    }
   ],
   "source": [
    "# iloc can still be used with the index number\n",
    "df.iloc[1]"
   ]
  },
  {
   "cell_type": "code",
   "execution_count": 21,
   "metadata": {},
   "outputs": [
    {
     "data": {
      "text/html": [
       "<div>\n",
       "<style scoped>\n",
       "    .dataframe tbody tr th:only-of-type {\n",
       "        vertical-align: middle;\n",
       "    }\n",
       "\n",
       "    .dataframe tbody tr th {\n",
       "        vertical-align: top;\n",
       "    }\n",
       "\n",
       "    .dataframe thead th {\n",
       "        text-align: right;\n",
       "    }\n",
       "</style>\n",
       "<table border=\"1\" class=\"dataframe\">\n",
       "  <thead>\n",
       "    <tr style=\"text-align: right;\">\n",
       "      <th></th>\n",
       "      <th>full_name</th>\n",
       "      <th>city</th>\n",
       "      <th>phone</th>\n",
       "      <th>age</th>\n",
       "    </tr>\n",
       "    <tr>\n",
       "      <th>email</th>\n",
       "      <th></th>\n",
       "      <th></th>\n",
       "      <th></th>\n",
       "      <th></th>\n",
       "    </tr>\n",
       "  </thead>\n",
       "  <tbody>\n",
       "    <tr>\n",
       "      <th>BentlyP@email.com</th>\n",
       "      <td>Bently Powell</td>\n",
       "      <td>Kathmandu</td>\n",
       "      <td>096523995</td>\n",
       "      <td>42</td>\n",
       "    </tr>\n",
       "    <tr>\n",
       "      <th>GregP14@email.com</th>\n",
       "      <td>Gregory Powell</td>\n",
       "      <td>Moskow</td>\n",
       "      <td>895712365</td>\n",
       "      <td>66</td>\n",
       "    </tr>\n",
       "    <tr>\n",
       "      <th>MDonovan@email.com</th>\n",
       "      <td>Mike Donovan</td>\n",
       "      <td>Bangalore</td>\n",
       "      <td>886549702</td>\n",
       "      <td>67</td>\n",
       "    </tr>\n",
       "    <tr>\n",
       "      <th>SusanCalvin@email.com</th>\n",
       "      <td>Susan Calvin</td>\n",
       "      <td>London</td>\n",
       "      <td>056152358</td>\n",
       "      <td>28</td>\n",
       "    </tr>\n",
       "  </tbody>\n",
       "</table>\n",
       "</div>"
      ],
      "text/plain": [
       "                            full_name       city      phone age\n",
       "email                                                          \n",
       "BentlyP@email.com       Bently Powell  Kathmandu  096523995  42\n",
       "GregP14@email.com      Gregory Powell     Moskow  895712365  66\n",
       "MDonovan@email.com       Mike Donovan  Bangalore  886549702  67\n",
       "SusanCalvin@email.com    Susan Calvin     London  056152358  28"
      ]
     },
     "execution_count": 21,
     "metadata": {},
     "output_type": "execute_result"
    }
   ],
   "source": [
    "# sorting the index, ascending order is the default\n",
    "df.sort_index(inplace=True)\n",
    "df"
   ]
  },
  {
   "cell_type": "code",
   "execution_count": 22,
   "metadata": {},
   "outputs": [
    {
     "data": {
      "text/html": [
       "<div>\n",
       "<style scoped>\n",
       "    .dataframe tbody tr th:only-of-type {\n",
       "        vertical-align: middle;\n",
       "    }\n",
       "\n",
       "    .dataframe tbody tr th {\n",
       "        vertical-align: top;\n",
       "    }\n",
       "\n",
       "    .dataframe thead th {\n",
       "        text-align: right;\n",
       "    }\n",
       "</style>\n",
       "<table border=\"1\" class=\"dataframe\">\n",
       "  <thead>\n",
       "    <tr style=\"text-align: right;\">\n",
       "      <th></th>\n",
       "      <th>full_name</th>\n",
       "      <th>city</th>\n",
       "      <th>phone</th>\n",
       "      <th>age</th>\n",
       "    </tr>\n",
       "    <tr>\n",
       "      <th>email</th>\n",
       "      <th></th>\n",
       "      <th></th>\n",
       "      <th></th>\n",
       "      <th></th>\n",
       "    </tr>\n",
       "  </thead>\n",
       "  <tbody>\n",
       "    <tr>\n",
       "      <th>SusanCalvin@email.com</th>\n",
       "      <td>Susan Calvin</td>\n",
       "      <td>London</td>\n",
       "      <td>056152358</td>\n",
       "      <td>28</td>\n",
       "    </tr>\n",
       "    <tr>\n",
       "      <th>MDonovan@email.com</th>\n",
       "      <td>Mike Donovan</td>\n",
       "      <td>Bangalore</td>\n",
       "      <td>886549702</td>\n",
       "      <td>67</td>\n",
       "    </tr>\n",
       "    <tr>\n",
       "      <th>GregP14@email.com</th>\n",
       "      <td>Gregory Powell</td>\n",
       "      <td>Moskow</td>\n",
       "      <td>895712365</td>\n",
       "      <td>66</td>\n",
       "    </tr>\n",
       "    <tr>\n",
       "      <th>BentlyP@email.com</th>\n",
       "      <td>Bently Powell</td>\n",
       "      <td>Kathmandu</td>\n",
       "      <td>096523995</td>\n",
       "      <td>42</td>\n",
       "    </tr>\n",
       "  </tbody>\n",
       "</table>\n",
       "</div>"
      ],
      "text/plain": [
       "                            full_name       city      phone age\n",
       "email                                                          \n",
       "SusanCalvin@email.com    Susan Calvin     London  056152358  28\n",
       "MDonovan@email.com       Mike Donovan  Bangalore  886549702  67\n",
       "GregP14@email.com      Gregory Powell     Moskow  895712365  66\n",
       "BentlyP@email.com       Bently Powell  Kathmandu  096523995  42"
      ]
     },
     "execution_count": 22,
     "metadata": {},
     "output_type": "execute_result"
    }
   ],
   "source": [
    "# sorting the index in the descent order \n",
    "df.sort_index(ascending=False, inplace=True)\n",
    "df"
   ]
  },
  {
   "cell_type": "code",
   "execution_count": 23,
   "metadata": {},
   "outputs": [
    {
     "data": {
      "text/html": [
       "<div>\n",
       "<style scoped>\n",
       "    .dataframe tbody tr th:only-of-type {\n",
       "        vertical-align: middle;\n",
       "    }\n",
       "\n",
       "    .dataframe tbody tr th {\n",
       "        vertical-align: top;\n",
       "    }\n",
       "\n",
       "    .dataframe thead th {\n",
       "        text-align: right;\n",
       "    }\n",
       "</style>\n",
       "<table border=\"1\" class=\"dataframe\">\n",
       "  <thead>\n",
       "    <tr style=\"text-align: right;\">\n",
       "      <th></th>\n",
       "      <th>email</th>\n",
       "      <th>full_name</th>\n",
       "      <th>city</th>\n",
       "      <th>phone</th>\n",
       "      <th>age</th>\n",
       "    </tr>\n",
       "  </thead>\n",
       "  <tbody>\n",
       "    <tr>\n",
       "      <th>0</th>\n",
       "      <td>SusanCalvin@email.com</td>\n",
       "      <td>Susan Calvin</td>\n",
       "      <td>London</td>\n",
       "      <td>056152358</td>\n",
       "      <td>28</td>\n",
       "    </tr>\n",
       "    <tr>\n",
       "      <th>1</th>\n",
       "      <td>MDonovan@email.com</td>\n",
       "      <td>Mike Donovan</td>\n",
       "      <td>Bangalore</td>\n",
       "      <td>886549702</td>\n",
       "      <td>67</td>\n",
       "    </tr>\n",
       "    <tr>\n",
       "      <th>2</th>\n",
       "      <td>GregP14@email.com</td>\n",
       "      <td>Gregory Powell</td>\n",
       "      <td>Moskow</td>\n",
       "      <td>895712365</td>\n",
       "      <td>66</td>\n",
       "    </tr>\n",
       "    <tr>\n",
       "      <th>3</th>\n",
       "      <td>BentlyP@email.com</td>\n",
       "      <td>Bently Powell</td>\n",
       "      <td>Kathmandu</td>\n",
       "      <td>096523995</td>\n",
       "      <td>42</td>\n",
       "    </tr>\n",
       "  </tbody>\n",
       "</table>\n",
       "</div>"
      ],
      "text/plain": [
       "                   email       full_name       city      phone age\n",
       "0  SusanCalvin@email.com    Susan Calvin     London  056152358  28\n",
       "1     MDonovan@email.com    Mike Donovan  Bangalore  886549702  67\n",
       "2      GregP14@email.com  Gregory Powell     Moskow  895712365  66\n",
       "3      BentlyP@email.com   Bently Powell  Kathmandu  096523995  42"
      ]
     },
     "execution_count": 23,
     "metadata": {},
     "output_type": "execute_result"
    }
   ],
   "source": [
    "# to reset the index\n",
    "df.reset_index(inplace=True)\n",
    "df"
   ]
  },
  {
   "cell_type": "markdown",
   "metadata": {},
   "source": [
    "### Updating rows"
   ]
  },
  {
   "cell_type": "code",
   "execution_count": 24,
   "metadata": {
    "scrolled": true
   },
   "outputs": [
    {
     "data": {
      "text/plain": [
       "email        MDonovan@email.com\n",
       "full_name          Mike Donovan\n",
       "city                  Bangalore\n",
       "phone                 886549702\n",
       "age                          67\n",
       "Name: 1, dtype: object"
      ]
     },
     "execution_count": 24,
     "metadata": {},
     "output_type": "execute_result"
    }
   ],
   "source": [
    "df.loc[1]"
   ]
  },
  {
   "cell_type": "code",
   "execution_count": 25,
   "metadata": {
    "scrolled": false
   },
   "outputs": [
    {
     "data": {
      "text/html": [
       "<div>\n",
       "<style scoped>\n",
       "    .dataframe tbody tr th:only-of-type {\n",
       "        vertical-align: middle;\n",
       "    }\n",
       "\n",
       "    .dataframe tbody tr th {\n",
       "        vertical-align: top;\n",
       "    }\n",
       "\n",
       "    .dataframe thead th {\n",
       "        text-align: right;\n",
       "    }\n",
       "</style>\n",
       "<table border=\"1\" class=\"dataframe\">\n",
       "  <thead>\n",
       "    <tr style=\"text-align: right;\">\n",
       "      <th></th>\n",
       "      <th>email</th>\n",
       "      <th>full_name</th>\n",
       "      <th>city</th>\n",
       "      <th>phone</th>\n",
       "      <th>age</th>\n",
       "    </tr>\n",
       "  </thead>\n",
       "  <tbody>\n",
       "    <tr>\n",
       "      <th>0</th>\n",
       "      <td>SusanCalvin@email.com</td>\n",
       "      <td>Susan Calvin</td>\n",
       "      <td>London</td>\n",
       "      <td>056152358</td>\n",
       "      <td>28</td>\n",
       "    </tr>\n",
       "    <tr>\n",
       "      <th>1</th>\n",
       "      <td>MHoward@email.com</td>\n",
       "      <td>Mike Howard</td>\n",
       "      <td>New Delhi</td>\n",
       "      <td>225896337</td>\n",
       "      <td>68</td>\n",
       "    </tr>\n",
       "    <tr>\n",
       "      <th>2</th>\n",
       "      <td>GregP14@email.com</td>\n",
       "      <td>Gregory Powell</td>\n",
       "      <td>Moskow</td>\n",
       "      <td>895712365</td>\n",
       "      <td>66</td>\n",
       "    </tr>\n",
       "    <tr>\n",
       "      <th>3</th>\n",
       "      <td>BentlyP@email.com</td>\n",
       "      <td>Bently Powell</td>\n",
       "      <td>Kathmandu</td>\n",
       "      <td>096523995</td>\n",
       "      <td>42</td>\n",
       "    </tr>\n",
       "  </tbody>\n",
       "</table>\n",
       "</div>"
      ],
      "text/plain": [
       "                   email       full_name       city      phone age\n",
       "0  SusanCalvin@email.com    Susan Calvin     London  056152358  28\n",
       "1      MHoward@email.com     Mike Howard  New Delhi  225896337  68\n",
       "2      GregP14@email.com  Gregory Powell     Moskow  895712365  66\n",
       "3      BentlyP@email.com   Bently Powell  Kathmandu  096523995  42"
      ]
     },
     "execution_count": 25,
     "metadata": {},
     "output_type": "execute_result"
    }
   ],
   "source": [
    "# updating all items\n",
    "df.loc[1] = ['MHoward@email.com', 'Mike Howard', 'New Delhi', '225896337', '68']\n",
    "df"
   ]
  },
  {
   "cell_type": "code",
   "execution_count": 26,
   "metadata": {},
   "outputs": [
    {
     "data": {
      "text/html": [
       "<div>\n",
       "<style scoped>\n",
       "    .dataframe tbody tr th:only-of-type {\n",
       "        vertical-align: middle;\n",
       "    }\n",
       "\n",
       "    .dataframe tbody tr th {\n",
       "        vertical-align: top;\n",
       "    }\n",
       "\n",
       "    .dataframe thead th {\n",
       "        text-align: right;\n",
       "    }\n",
       "</style>\n",
       "<table border=\"1\" class=\"dataframe\">\n",
       "  <thead>\n",
       "    <tr style=\"text-align: right;\">\n",
       "      <th></th>\n",
       "      <th>email</th>\n",
       "      <th>full_name</th>\n",
       "      <th>city</th>\n",
       "      <th>phone</th>\n",
       "      <th>age</th>\n",
       "    </tr>\n",
       "  </thead>\n",
       "  <tbody>\n",
       "    <tr>\n",
       "      <th>0</th>\n",
       "      <td>SusanCalvin@email.com</td>\n",
       "      <td>Susan Calvin</td>\n",
       "      <td>London</td>\n",
       "      <td>056152358</td>\n",
       "      <td>28</td>\n",
       "    </tr>\n",
       "    <tr>\n",
       "      <th>1</th>\n",
       "      <td>MDonovan@email.com</td>\n",
       "      <td>Mike Donovan</td>\n",
       "      <td>New Delhi</td>\n",
       "      <td>225896337</td>\n",
       "      <td>68</td>\n",
       "    </tr>\n",
       "    <tr>\n",
       "      <th>2</th>\n",
       "      <td>GregP14@email.com</td>\n",
       "      <td>Gregory Powell</td>\n",
       "      <td>Moskow</td>\n",
       "      <td>895712365</td>\n",
       "      <td>66</td>\n",
       "    </tr>\n",
       "    <tr>\n",
       "      <th>3</th>\n",
       "      <td>BentlyP@email.com</td>\n",
       "      <td>Bently Powell</td>\n",
       "      <td>Kathmandu</td>\n",
       "      <td>096523995</td>\n",
       "      <td>42</td>\n",
       "    </tr>\n",
       "  </tbody>\n",
       "</table>\n",
       "</div>"
      ],
      "text/plain": [
       "                   email       full_name       city      phone age\n",
       "0  SusanCalvin@email.com    Susan Calvin     London  056152358  28\n",
       "1     MDonovan@email.com    Mike Donovan  New Delhi  225896337  68\n",
       "2      GregP14@email.com  Gregory Powell     Moskow  895712365  66\n",
       "3      BentlyP@email.com   Bently Powell  Kathmandu  096523995  42"
      ]
     },
     "execution_count": 26,
     "metadata": {},
     "output_type": "execute_result"
    }
   ],
   "source": [
    "# updating selected items\n",
    "df.loc[1, ['full_name', 'email']] = ['Mike Donovan', 'MDonovan@email.com']\n",
    "df"
   ]
  },
  {
   "cell_type": "markdown",
   "metadata": {},
   "source": [
    "### Adding/removing Columns and rows"
   ]
  },
  {
   "cell_type": "code",
   "execution_count": 27,
   "metadata": {
    "scrolled": true
   },
   "outputs": [
    {
     "data": {
      "text/html": [
       "<div>\n",
       "<style scoped>\n",
       "    .dataframe tbody tr th:only-of-type {\n",
       "        vertical-align: middle;\n",
       "    }\n",
       "\n",
       "    .dataframe tbody tr th {\n",
       "        vertical-align: top;\n",
       "    }\n",
       "\n",
       "    .dataframe thead th {\n",
       "        text-align: right;\n",
       "    }\n",
       "</style>\n",
       "<table border=\"1\" class=\"dataframe\">\n",
       "  <thead>\n",
       "    <tr style=\"text-align: right;\">\n",
       "      <th></th>\n",
       "      <th>email</th>\n",
       "      <th>full_name</th>\n",
       "      <th>city</th>\n",
       "      <th>phone</th>\n",
       "      <th>age</th>\n",
       "      <th>first</th>\n",
       "      <th>last</th>\n",
       "    </tr>\n",
       "  </thead>\n",
       "  <tbody>\n",
       "    <tr>\n",
       "      <th>0</th>\n",
       "      <td>SusanCalvin@email.com</td>\n",
       "      <td>Susan Calvin</td>\n",
       "      <td>London</td>\n",
       "      <td>056152358</td>\n",
       "      <td>28</td>\n",
       "      <td>Susan</td>\n",
       "      <td>Calvin</td>\n",
       "    </tr>\n",
       "    <tr>\n",
       "      <th>1</th>\n",
       "      <td>MDonovan@email.com</td>\n",
       "      <td>Mike Donovan</td>\n",
       "      <td>New Delhi</td>\n",
       "      <td>225896337</td>\n",
       "      <td>68</td>\n",
       "      <td>Mike</td>\n",
       "      <td>Donovan</td>\n",
       "    </tr>\n",
       "    <tr>\n",
       "      <th>2</th>\n",
       "      <td>GregP14@email.com</td>\n",
       "      <td>Gregory Powell</td>\n",
       "      <td>Moskow</td>\n",
       "      <td>895712365</td>\n",
       "      <td>66</td>\n",
       "      <td>Gregory</td>\n",
       "      <td>Powell</td>\n",
       "    </tr>\n",
       "    <tr>\n",
       "      <th>3</th>\n",
       "      <td>BentlyP@email.com</td>\n",
       "      <td>Bently Powell</td>\n",
       "      <td>Kathmandu</td>\n",
       "      <td>096523995</td>\n",
       "      <td>42</td>\n",
       "      <td>Bently</td>\n",
       "      <td>Powell</td>\n",
       "    </tr>\n",
       "  </tbody>\n",
       "</table>\n",
       "</div>"
      ],
      "text/plain": [
       "                   email       full_name       city      phone age    first  \\\n",
       "0  SusanCalvin@email.com    Susan Calvin     London  056152358  28    Susan   \n",
       "1     MDonovan@email.com    Mike Donovan  New Delhi  225896337  68     Mike   \n",
       "2      GregP14@email.com  Gregory Powell     Moskow  895712365  66  Gregory   \n",
       "3      BentlyP@email.com   Bently Powell  Kathmandu  096523995  42   Bently   \n",
       "\n",
       "      last  \n",
       "0   Calvin  \n",
       "1  Donovan  \n",
       "2   Powell  \n",
       "3   Powell  "
      ]
     },
     "execution_count": 27,
     "metadata": {},
     "output_type": "execute_result"
    }
   ],
   "source": [
    "# splitting column full_name into 2 new columns: first and last\n",
    "# expand: Boolean value, returns a data frame with different value in different columns if True. Else it returns a series with list of strings.\n",
    "# https://www.geeksforgeeks.org/python-pandas-split-strings-into-two-list-columns-using-str-split/\n",
    "\n",
    "df[['first', 'last']] = df['full_name'].str.split(' ', expand=True)\n",
    "df"
   ]
  },
  {
   "cell_type": "code",
   "execution_count": 28,
   "metadata": {},
   "outputs": [
    {
     "data": {
      "text/html": [
       "<div>\n",
       "<style scoped>\n",
       "    .dataframe tbody tr th:only-of-type {\n",
       "        vertical-align: middle;\n",
       "    }\n",
       "\n",
       "    .dataframe tbody tr th {\n",
       "        vertical-align: top;\n",
       "    }\n",
       "\n",
       "    .dataframe thead th {\n",
       "        text-align: right;\n",
       "    }\n",
       "</style>\n",
       "<table border=\"1\" class=\"dataframe\">\n",
       "  <thead>\n",
       "    <tr style=\"text-align: right;\">\n",
       "      <th></th>\n",
       "      <th>email</th>\n",
       "      <th>full_name</th>\n",
       "      <th>city</th>\n",
       "      <th>phone</th>\n",
       "      <th>age</th>\n",
       "      <th>first</th>\n",
       "      <th>last</th>\n",
       "      <th>full_name_2</th>\n",
       "    </tr>\n",
       "  </thead>\n",
       "  <tbody>\n",
       "    <tr>\n",
       "      <th>0</th>\n",
       "      <td>SusanCalvin@email.com</td>\n",
       "      <td>Susan Calvin</td>\n",
       "      <td>London</td>\n",
       "      <td>056152358</td>\n",
       "      <td>28</td>\n",
       "      <td>Susan</td>\n",
       "      <td>Calvin</td>\n",
       "      <td>Susan Calvin</td>\n",
       "    </tr>\n",
       "    <tr>\n",
       "      <th>1</th>\n",
       "      <td>MDonovan@email.com</td>\n",
       "      <td>Mike Donovan</td>\n",
       "      <td>New Delhi</td>\n",
       "      <td>225896337</td>\n",
       "      <td>68</td>\n",
       "      <td>Mike</td>\n",
       "      <td>Donovan</td>\n",
       "      <td>Mike Donovan</td>\n",
       "    </tr>\n",
       "    <tr>\n",
       "      <th>2</th>\n",
       "      <td>GregP14@email.com</td>\n",
       "      <td>Gregory Powell</td>\n",
       "      <td>Moskow</td>\n",
       "      <td>895712365</td>\n",
       "      <td>66</td>\n",
       "      <td>Gregory</td>\n",
       "      <td>Powell</td>\n",
       "      <td>Gregory Powell</td>\n",
       "    </tr>\n",
       "    <tr>\n",
       "      <th>3</th>\n",
       "      <td>BentlyP@email.com</td>\n",
       "      <td>Bently Powell</td>\n",
       "      <td>Kathmandu</td>\n",
       "      <td>096523995</td>\n",
       "      <td>42</td>\n",
       "      <td>Bently</td>\n",
       "      <td>Powell</td>\n",
       "      <td>Bently Powell</td>\n",
       "    </tr>\n",
       "  </tbody>\n",
       "</table>\n",
       "</div>"
      ],
      "text/plain": [
       "                   email       full_name       city      phone age    first  \\\n",
       "0  SusanCalvin@email.com    Susan Calvin     London  056152358  28    Susan   \n",
       "1     MDonovan@email.com    Mike Donovan  New Delhi  225896337  68     Mike   \n",
       "2      GregP14@email.com  Gregory Powell     Moskow  895712365  66  Gregory   \n",
       "3      BentlyP@email.com   Bently Powell  Kathmandu  096523995  42   Bently   \n",
       "\n",
       "      last     full_name_2  \n",
       "0   Calvin    Susan Calvin  \n",
       "1  Donovan    Mike Donovan  \n",
       "2   Powell  Gregory Powell  \n",
       "3   Powell   Bently Powell  "
      ]
     },
     "execution_count": 28,
     "metadata": {},
     "output_type": "execute_result"
    }
   ],
   "source": [
    "# adding items from 2 columns to form a new one\n",
    "df['full_name_2'] = df['first'] + ' ' + df['last']\n",
    "df"
   ]
  },
  {
   "cell_type": "code",
   "execution_count": 29,
   "metadata": {
    "scrolled": true
   },
   "outputs": [
    {
     "data": {
      "text/html": [
       "<div>\n",
       "<style scoped>\n",
       "    .dataframe tbody tr th:only-of-type {\n",
       "        vertical-align: middle;\n",
       "    }\n",
       "\n",
       "    .dataframe tbody tr th {\n",
       "        vertical-align: top;\n",
       "    }\n",
       "\n",
       "    .dataframe thead th {\n",
       "        text-align: right;\n",
       "    }\n",
       "</style>\n",
       "<table border=\"1\" class=\"dataframe\">\n",
       "  <thead>\n",
       "    <tr style=\"text-align: right;\">\n",
       "      <th></th>\n",
       "      <th>email</th>\n",
       "      <th>city</th>\n",
       "      <th>phone</th>\n",
       "      <th>age</th>\n",
       "      <th>first</th>\n",
       "      <th>last</th>\n",
       "    </tr>\n",
       "  </thead>\n",
       "  <tbody>\n",
       "    <tr>\n",
       "      <th>0</th>\n",
       "      <td>SusanCalvin@email.com</td>\n",
       "      <td>London</td>\n",
       "      <td>056152358</td>\n",
       "      <td>28</td>\n",
       "      <td>Susan</td>\n",
       "      <td>Calvin</td>\n",
       "    </tr>\n",
       "    <tr>\n",
       "      <th>1</th>\n",
       "      <td>MDonovan@email.com</td>\n",
       "      <td>New Delhi</td>\n",
       "      <td>225896337</td>\n",
       "      <td>68</td>\n",
       "      <td>Mike</td>\n",
       "      <td>Donovan</td>\n",
       "    </tr>\n",
       "    <tr>\n",
       "      <th>2</th>\n",
       "      <td>GregP14@email.com</td>\n",
       "      <td>Moskow</td>\n",
       "      <td>895712365</td>\n",
       "      <td>66</td>\n",
       "      <td>Gregory</td>\n",
       "      <td>Powell</td>\n",
       "    </tr>\n",
       "    <tr>\n",
       "      <th>3</th>\n",
       "      <td>BentlyP@email.com</td>\n",
       "      <td>Kathmandu</td>\n",
       "      <td>096523995</td>\n",
       "      <td>42</td>\n",
       "      <td>Bently</td>\n",
       "      <td>Powell</td>\n",
       "    </tr>\n",
       "  </tbody>\n",
       "</table>\n",
       "</div>"
      ],
      "text/plain": [
       "                   email       city      phone age    first     last\n",
       "0  SusanCalvin@email.com     London  056152358  28    Susan   Calvin\n",
       "1     MDonovan@email.com  New Delhi  225896337  68     Mike  Donovan\n",
       "2      GregP14@email.com     Moskow  895712365  66  Gregory   Powell\n",
       "3      BentlyP@email.com  Kathmandu  096523995  42   Bently   Powell"
      ]
     },
     "execution_count": 29,
     "metadata": {},
     "output_type": "execute_result"
    }
   ],
   "source": [
    "# removing columns\n",
    "df.drop(columns=['full_name','full_name_2'], inplace=True)\n",
    "df"
   ]
  },
  {
   "cell_type": "code",
   "execution_count": 30,
   "metadata": {},
   "outputs": [
    {
     "data": {
      "text/html": [
       "<div>\n",
       "<style scoped>\n",
       "    .dataframe tbody tr th:only-of-type {\n",
       "        vertical-align: middle;\n",
       "    }\n",
       "\n",
       "    .dataframe tbody tr th {\n",
       "        vertical-align: top;\n",
       "    }\n",
       "\n",
       "    .dataframe thead th {\n",
       "        text-align: right;\n",
       "    }\n",
       "</style>\n",
       "<table border=\"1\" class=\"dataframe\">\n",
       "  <thead>\n",
       "    <tr style=\"text-align: right;\">\n",
       "      <th></th>\n",
       "      <th>email</th>\n",
       "      <th>city</th>\n",
       "      <th>phone</th>\n",
       "      <th>age</th>\n",
       "      <th>first</th>\n",
       "      <th>last</th>\n",
       "    </tr>\n",
       "  </thead>\n",
       "  <tbody>\n",
       "    <tr>\n",
       "      <th>0</th>\n",
       "      <td>SusanCalvin@email.com</td>\n",
       "      <td>London</td>\n",
       "      <td>056152358</td>\n",
       "      <td>28</td>\n",
       "      <td>Susan</td>\n",
       "      <td>Calvin</td>\n",
       "    </tr>\n",
       "    <tr>\n",
       "      <th>2</th>\n",
       "      <td>GregP14@email.com</td>\n",
       "      <td>Moskow</td>\n",
       "      <td>895712365</td>\n",
       "      <td>66</td>\n",
       "      <td>Gregory</td>\n",
       "      <td>Powell</td>\n",
       "    </tr>\n",
       "  </tbody>\n",
       "</table>\n",
       "</div>"
      ],
      "text/plain": [
       "                   email    city      phone age    first    last\n",
       "0  SusanCalvin@email.com  London  056152358  28    Susan  Calvin\n",
       "2      GregP14@email.com  Moskow  895712365  66  Gregory  Powell"
      ]
     },
     "execution_count": 30,
     "metadata": {},
     "output_type": "execute_result"
    }
   ],
   "source": [
    "# removing rows, to apply use inplace=True\n",
    "df.drop(index= [1, 3])"
   ]
  },
  {
   "cell_type": "markdown",
   "metadata": {},
   "source": [
    "### apply and applymap\n",
    "* apply() - applies a function to each column or row\n",
    "* applymap() - applies a function to every element of a DataFrame "
   ]
  },
  {
   "cell_type": "code",
   "execution_count": 31,
   "metadata": {},
   "outputs": [
    {
     "data": {
      "text/html": [
       "<div>\n",
       "<style scoped>\n",
       "    .dataframe tbody tr th:only-of-type {\n",
       "        vertical-align: middle;\n",
       "    }\n",
       "\n",
       "    .dataframe tbody tr th {\n",
       "        vertical-align: top;\n",
       "    }\n",
       "\n",
       "    .dataframe thead th {\n",
       "        text-align: right;\n",
       "    }\n",
       "</style>\n",
       "<table border=\"1\" class=\"dataframe\">\n",
       "  <thead>\n",
       "    <tr style=\"text-align: right;\">\n",
       "      <th></th>\n",
       "      <th>email</th>\n",
       "      <th>city</th>\n",
       "      <th>phone</th>\n",
       "      <th>age</th>\n",
       "      <th>first</th>\n",
       "      <th>last</th>\n",
       "    </tr>\n",
       "  </thead>\n",
       "  <tbody>\n",
       "    <tr>\n",
       "      <th>0</th>\n",
       "      <td>susancalvin@email.com</td>\n",
       "      <td>London</td>\n",
       "      <td>056152358</td>\n",
       "      <td>28</td>\n",
       "      <td>Susan</td>\n",
       "      <td>Calvin</td>\n",
       "    </tr>\n",
       "    <tr>\n",
       "      <th>1</th>\n",
       "      <td>mdonovan@email.com</td>\n",
       "      <td>New Delhi</td>\n",
       "      <td>225896337</td>\n",
       "      <td>68</td>\n",
       "      <td>Mike</td>\n",
       "      <td>Donovan</td>\n",
       "    </tr>\n",
       "    <tr>\n",
       "      <th>2</th>\n",
       "      <td>gregp14@email.com</td>\n",
       "      <td>Moskow</td>\n",
       "      <td>895712365</td>\n",
       "      <td>66</td>\n",
       "      <td>Gregory</td>\n",
       "      <td>Powell</td>\n",
       "    </tr>\n",
       "    <tr>\n",
       "      <th>3</th>\n",
       "      <td>bentlyp@email.com</td>\n",
       "      <td>Kathmandu</td>\n",
       "      <td>096523995</td>\n",
       "      <td>42</td>\n",
       "      <td>Bently</td>\n",
       "      <td>Powell</td>\n",
       "    </tr>\n",
       "  </tbody>\n",
       "</table>\n",
       "</div>"
      ],
      "text/plain": [
       "                   email       city      phone age    first     last\n",
       "0  susancalvin@email.com     London  056152358  28    Susan   Calvin\n",
       "1     mdonovan@email.com  New Delhi  225896337  68     Mike  Donovan\n",
       "2      gregp14@email.com     Moskow  895712365  66  Gregory   Powell\n",
       "3      bentlyp@email.com  Kathmandu  096523995  42   Bently   Powell"
      ]
     },
     "execution_count": 31,
     "metadata": {},
     "output_type": "execute_result"
    }
   ],
   "source": [
    "# lowering case of all emails usins apply. Notice the function has to be written withouth the end ()\n",
    "df['email'] = df['email'].apply(str.lower) \n",
    "df"
   ]
  },
  {
   "cell_type": "code",
   "execution_count": 32,
   "metadata": {},
   "outputs": [
    {
     "data": {
      "text/plain": [
       "0    21\n",
       "1    18\n",
       "2    17\n",
       "3    17\n",
       "Name: email, dtype: int64"
      ]
     },
     "execution_count": 32,
     "metadata": {},
     "output_type": "execute_result"
    }
   ],
   "source": [
    "df['email'].apply(len)"
   ]
  },
  {
   "cell_type": "code",
   "execution_count": 33,
   "metadata": {
    "scrolled": true
   },
   "outputs": [
    {
     "data": {
      "text/plain": [
       "0    SUSANCALVIN@EMAIL.COM\n",
       "1       MDONOVAN@EMAIL.COM\n",
       "2        GREGP14@EMAIL.COM\n",
       "3        BENTLYP@EMAIL.COM\n",
       "Name: email, dtype: object"
      ]
     },
     "execution_count": 33,
     "metadata": {},
     "output_type": "execute_result"
    }
   ],
   "source": [
    "# can also be used with lambda functions\n",
    "# https://realpython.com/python-lambda/\n",
    "df['email'].apply(lambda x: x.upper())"
   ]
  },
  {
   "cell_type": "code",
   "execution_count": 34,
   "metadata": {},
   "outputs": [
    {
     "data": {
      "text/html": [
       "<div>\n",
       "<style scoped>\n",
       "    .dataframe tbody tr th:only-of-type {\n",
       "        vertical-align: middle;\n",
       "    }\n",
       "\n",
       "    .dataframe tbody tr th {\n",
       "        vertical-align: top;\n",
       "    }\n",
       "\n",
       "    .dataframe thead th {\n",
       "        text-align: right;\n",
       "    }\n",
       "</style>\n",
       "<table border=\"1\" class=\"dataframe\">\n",
       "  <thead>\n",
       "    <tr style=\"text-align: right;\">\n",
       "      <th></th>\n",
       "      <th>email</th>\n",
       "      <th>city</th>\n",
       "      <th>phone</th>\n",
       "      <th>age</th>\n",
       "      <th>first</th>\n",
       "      <th>last</th>\n",
       "    </tr>\n",
       "  </thead>\n",
       "  <tbody>\n",
       "    <tr>\n",
       "      <th>0</th>\n",
       "      <td>21</td>\n",
       "      <td>6</td>\n",
       "      <td>9</td>\n",
       "      <td>2</td>\n",
       "      <td>5</td>\n",
       "      <td>6</td>\n",
       "    </tr>\n",
       "    <tr>\n",
       "      <th>1</th>\n",
       "      <td>18</td>\n",
       "      <td>9</td>\n",
       "      <td>9</td>\n",
       "      <td>2</td>\n",
       "      <td>4</td>\n",
       "      <td>7</td>\n",
       "    </tr>\n",
       "    <tr>\n",
       "      <th>2</th>\n",
       "      <td>17</td>\n",
       "      <td>6</td>\n",
       "      <td>9</td>\n",
       "      <td>2</td>\n",
       "      <td>7</td>\n",
       "      <td>6</td>\n",
       "    </tr>\n",
       "    <tr>\n",
       "      <th>3</th>\n",
       "      <td>17</td>\n",
       "      <td>9</td>\n",
       "      <td>9</td>\n",
       "      <td>2</td>\n",
       "      <td>6</td>\n",
       "      <td>6</td>\n",
       "    </tr>\n",
       "  </tbody>\n",
       "</table>\n",
       "</div>"
      ],
      "text/plain": [
       "   email  city  phone  age  first  last\n",
       "0     21     6      9    2      5     6\n",
       "1     18     9      9    2      4     7\n",
       "2     17     6      9    2      7     6\n",
       "3     17     9      9    2      6     6"
      ]
     },
     "execution_count": 34,
     "metadata": {},
     "output_type": "execute_result"
    }
   ],
   "source": [
    "df.applymap(len)"
   ]
  },
  {
   "cell_type": "markdown",
   "metadata": {},
   "source": [
    "### Filtering and  \"&, |, ~\" operations\n"
   ]
  },
  {
   "cell_type": "code",
   "execution_count": 35,
   "metadata": {},
   "outputs": [
    {
     "data": {
      "text/html": [
       "<div>\n",
       "<style scoped>\n",
       "    .dataframe tbody tr th:only-of-type {\n",
       "        vertical-align: middle;\n",
       "    }\n",
       "\n",
       "    .dataframe tbody tr th {\n",
       "        vertical-align: top;\n",
       "    }\n",
       "\n",
       "    .dataframe thead th {\n",
       "        text-align: right;\n",
       "    }\n",
       "</style>\n",
       "<table border=\"1\" class=\"dataframe\">\n",
       "  <thead>\n",
       "    <tr style=\"text-align: right;\">\n",
       "      <th></th>\n",
       "      <th>email</th>\n",
       "      <th>city</th>\n",
       "      <th>phone</th>\n",
       "      <th>age</th>\n",
       "      <th>first</th>\n",
       "      <th>last</th>\n",
       "    </tr>\n",
       "  </thead>\n",
       "  <tbody>\n",
       "    <tr>\n",
       "      <th>1</th>\n",
       "      <td>mdonovan@email.com</td>\n",
       "      <td>New Delhi</td>\n",
       "      <td>225896337</td>\n",
       "      <td>68</td>\n",
       "      <td>Mike</td>\n",
       "      <td>Donovan</td>\n",
       "    </tr>\n",
       "  </tbody>\n",
       "</table>\n",
       "</div>"
      ],
      "text/plain": [
       "                email       city      phone age first     last\n",
       "1  mdonovan@email.com  New Delhi  225896337  68  Mike  Donovan"
      ]
     },
     "execution_count": 35,
     "metadata": {},
     "output_type": "execute_result"
    }
   ],
   "source": [
    "flt_name = df['first'] == 'Mike'\n",
    "df.loc[flt_name]"
   ]
  },
  {
   "cell_type": "markdown",
   "metadata": {},
   "source": [
    "#### Pandas boolean operators:\n",
    "* and: &\n",
    "* or: |\n",
    "* not: ~"
   ]
  },
  {
   "cell_type": "code",
   "execution_count": 36,
   "metadata": {},
   "outputs": [
    {
     "data": {
      "text/html": [
       "<div>\n",
       "<style scoped>\n",
       "    .dataframe tbody tr th:only-of-type {\n",
       "        vertical-align: middle;\n",
       "    }\n",
       "\n",
       "    .dataframe tbody tr th {\n",
       "        vertical-align: top;\n",
       "    }\n",
       "\n",
       "    .dataframe thead th {\n",
       "        text-align: right;\n",
       "    }\n",
       "</style>\n",
       "<table border=\"1\" class=\"dataframe\">\n",
       "  <thead>\n",
       "    <tr style=\"text-align: right;\">\n",
       "      <th></th>\n",
       "      <th>email</th>\n",
       "      <th>city</th>\n",
       "      <th>phone</th>\n",
       "      <th>age</th>\n",
       "      <th>first</th>\n",
       "      <th>last</th>\n",
       "    </tr>\n",
       "  </thead>\n",
       "  <tbody>\n",
       "    <tr>\n",
       "      <th>0</th>\n",
       "      <td>susancalvin@email.com</td>\n",
       "      <td>London</td>\n",
       "      <td>056152358</td>\n",
       "      <td>28</td>\n",
       "      <td>Susan</td>\n",
       "      <td>Calvin</td>\n",
       "    </tr>\n",
       "    <tr>\n",
       "      <th>2</th>\n",
       "      <td>gregp14@email.com</td>\n",
       "      <td>Moskow</td>\n",
       "      <td>895712365</td>\n",
       "      <td>66</td>\n",
       "      <td>Gregory</td>\n",
       "      <td>Powell</td>\n",
       "    </tr>\n",
       "    <tr>\n",
       "      <th>3</th>\n",
       "      <td>bentlyp@email.com</td>\n",
       "      <td>Kathmandu</td>\n",
       "      <td>096523995</td>\n",
       "      <td>42</td>\n",
       "      <td>Bently</td>\n",
       "      <td>Powell</td>\n",
       "    </tr>\n",
       "  </tbody>\n",
       "</table>\n",
       "</div>"
      ],
      "text/plain": [
       "                   email       city      phone age    first    last\n",
       "0  susancalvin@email.com     London  056152358  28    Susan  Calvin\n",
       "2      gregp14@email.com     Moskow  895712365  66  Gregory  Powell\n",
       "3      bentlyp@email.com  Kathmandu  096523995  42   Bently  Powell"
      ]
     },
     "execution_count": 36,
     "metadata": {},
     "output_type": "execute_result"
    }
   ],
   "source": [
    "# Not operator\n",
    "df.loc[~flt_name]"
   ]
  },
  {
   "cell_type": "code",
   "execution_count": 37,
   "metadata": {},
   "outputs": [
    {
     "data": {
      "text/html": [
       "<div>\n",
       "<style scoped>\n",
       "    .dataframe tbody tr th:only-of-type {\n",
       "        vertical-align: middle;\n",
       "    }\n",
       "\n",
       "    .dataframe tbody tr th {\n",
       "        vertical-align: top;\n",
       "    }\n",
       "\n",
       "    .dataframe thead th {\n",
       "        text-align: right;\n",
       "    }\n",
       "</style>\n",
       "<table border=\"1\" class=\"dataframe\">\n",
       "  <thead>\n",
       "    <tr style=\"text-align: right;\">\n",
       "      <th></th>\n",
       "      <th>email</th>\n",
       "      <th>city</th>\n",
       "      <th>phone</th>\n",
       "      <th>age</th>\n",
       "      <th>first</th>\n",
       "      <th>last</th>\n",
       "    </tr>\n",
       "  </thead>\n",
       "  <tbody>\n",
       "  </tbody>\n",
       "</table>\n",
       "</div>"
      ],
      "text/plain": [
       "Empty DataFrame\n",
       "Columns: [email, city, phone, age, first, last]\n",
       "Index: []"
      ]
     },
     "execution_count": 37,
     "metadata": {},
     "output_type": "execute_result"
    }
   ],
   "source": [
    "flt = (df['first'] == 'Mike') & (df['city'] == 'Bangalore')\n",
    "df.loc[flt]"
   ]
  },
  {
   "cell_type": "code",
   "execution_count": 38,
   "metadata": {
    "scrolled": true
   },
   "outputs": [
    {
     "data": {
      "text/html": [
       "<div>\n",
       "<style scoped>\n",
       "    .dataframe tbody tr th:only-of-type {\n",
       "        vertical-align: middle;\n",
       "    }\n",
       "\n",
       "    .dataframe tbody tr th {\n",
       "        vertical-align: top;\n",
       "    }\n",
       "\n",
       "    .dataframe thead th {\n",
       "        text-align: right;\n",
       "    }\n",
       "</style>\n",
       "<table border=\"1\" class=\"dataframe\">\n",
       "  <thead>\n",
       "    <tr style=\"text-align: right;\">\n",
       "      <th></th>\n",
       "      <th>email</th>\n",
       "      <th>city</th>\n",
       "      <th>phone</th>\n",
       "      <th>age</th>\n",
       "      <th>first</th>\n",
       "      <th>last</th>\n",
       "    </tr>\n",
       "  </thead>\n",
       "  <tbody>\n",
       "    <tr>\n",
       "      <th>0</th>\n",
       "      <td>susancalvin@email.com</td>\n",
       "      <td>London</td>\n",
       "      <td>056152358</td>\n",
       "      <td>28</td>\n",
       "      <td>Susan</td>\n",
       "      <td>Calvin</td>\n",
       "    </tr>\n",
       "    <tr>\n",
       "      <th>1</th>\n",
       "      <td>mdonovan@email.com</td>\n",
       "      <td>New Delhi</td>\n",
       "      <td>225896337</td>\n",
       "      <td>68</td>\n",
       "      <td>Mike</td>\n",
       "      <td>Donovan</td>\n",
       "    </tr>\n",
       "  </tbody>\n",
       "</table>\n",
       "</div>"
      ],
      "text/plain": [
       "                   email       city      phone age  first     last\n",
       "0  susancalvin@email.com     London  056152358  28  Susan   Calvin\n",
       "1     mdonovan@email.com  New Delhi  225896337  68   Mike  Donovan"
      ]
     },
     "execution_count": 38,
     "metadata": {},
     "output_type": "execute_result"
    }
   ],
   "source": [
    "flt = (df['first'] == 'Mike') | (df['age'] == '28')\n",
    "df.loc[flt]"
   ]
  },
  {
   "cell_type": "code",
   "execution_count": 39,
   "metadata": {},
   "outputs": [
    {
     "data": {
      "text/plain": [
       "0    susancalvin@email.com\n",
       "1       mdonovan@email.com\n",
       "Name: email, dtype: object"
      ]
     },
     "execution_count": 39,
     "metadata": {},
     "output_type": "execute_result"
    }
   ],
   "source": [
    "# the properties of .loc continue to be valid\n",
    "df.loc[flt, 'email']"
   ]
  },
  {
   "cell_type": "markdown",
   "metadata": {},
   "source": [
    "### Concatenating"
   ]
  },
  {
   "cell_type": "code",
   "execution_count": 40,
   "metadata": {
    "scrolled": true
   },
   "outputs": [
    {
     "data": {
      "text/html": [
       "<div>\n",
       "<style scoped>\n",
       "    .dataframe tbody tr th:only-of-type {\n",
       "        vertical-align: middle;\n",
       "    }\n",
       "\n",
       "    .dataframe tbody tr th {\n",
       "        vertical-align: top;\n",
       "    }\n",
       "\n",
       "    .dataframe thead th {\n",
       "        text-align: right;\n",
       "    }\n",
       "</style>\n",
       "<table border=\"1\" class=\"dataframe\">\n",
       "  <thead>\n",
       "    <tr style=\"text-align: right;\">\n",
       "      <th></th>\n",
       "      <th>first</th>\n",
       "      <th>last</th>\n",
       "      <th>city</th>\n",
       "      <th>phone</th>\n",
       "      <th>age</th>\n",
       "      <th>email</th>\n",
       "    </tr>\n",
       "  </thead>\n",
       "  <tbody>\n",
       "    <tr>\n",
       "      <th>0</th>\n",
       "      <td>Gladia</td>\n",
       "      <td>Delmarre</td>\n",
       "      <td>London</td>\n",
       "      <td>558697243</td>\n",
       "      <td>35</td>\n",
       "      <td>GladiaDel@email.com</td>\n",
       "    </tr>\n",
       "    <tr>\n",
       "      <th>1</th>\n",
       "      <td>Cinda</td>\n",
       "      <td>Monay</td>\n",
       "      <td>London</td>\n",
       "      <td></td>\n",
       "      <td>40</td>\n",
       "      <td>CMonay@email.com</td>\n",
       "    </tr>\n",
       "    <tr>\n",
       "      <th>2</th>\n",
       "      <td>Harla</td>\n",
       "      <td>Branno</td>\n",
       "      <td>London</td>\n",
       "      <td>798866541</td>\n",
       "      <td>35</td>\n",
       "      <td>AngolaMilan@email.com</td>\n",
       "    </tr>\n",
       "  </tbody>\n",
       "</table>\n",
       "</div>"
      ],
      "text/plain": [
       "    first      last    city      phone age                  email\n",
       "0  Gladia  Delmarre  London  558697243  35    GladiaDel@email.com\n",
       "1   Cinda     Monay  London             40       CMonay@email.com\n",
       "2   Harla    Branno  London  798866541  35  AngolaMilan@email.com"
      ]
     },
     "execution_count": 40,
     "metadata": {},
     "output_type": "execute_result"
    }
   ],
   "source": [
    "contacts2 = {\n",
    "            'first': ['Gladia', 'Cinda', 'Harla'],\n",
    "            'last': ['Delmarre', 'Monay', 'Branno'],\n",
    "            #'full_name': ['Gladia Delmarre', 'Cinda Monay', 'Harla Branno'],\n",
    "            'city': ['London', 'London', 'London'],\n",
    "            'phone': ['558697243', '' , '798866541'],\n",
    "            'age' : ['35', '40', '35'],\n",
    "            'email': ['GladiaDel@email.com', 'CMonay@email.com', 'AngolaMilan@email.com']\n",
    "            }\n",
    "df2 = pd.DataFrame(contacts2)\n",
    "df2"
   ]
  },
  {
   "cell_type": "code",
   "execution_count": 41,
   "metadata": {
    "scrolled": true
   },
   "outputs": [
    {
     "data": {
      "text/html": [
       "<div>\n",
       "<style scoped>\n",
       "    .dataframe tbody tr th:only-of-type {\n",
       "        vertical-align: middle;\n",
       "    }\n",
       "\n",
       "    .dataframe tbody tr th {\n",
       "        vertical-align: top;\n",
       "    }\n",
       "\n",
       "    .dataframe thead th {\n",
       "        text-align: right;\n",
       "    }\n",
       "</style>\n",
       "<table border=\"1\" class=\"dataframe\">\n",
       "  <thead>\n",
       "    <tr style=\"text-align: right;\">\n",
       "      <th></th>\n",
       "      <th>email</th>\n",
       "      <th>city</th>\n",
       "      <th>phone</th>\n",
       "      <th>age</th>\n",
       "      <th>first</th>\n",
       "      <th>last</th>\n",
       "    </tr>\n",
       "  </thead>\n",
       "  <tbody>\n",
       "    <tr>\n",
       "      <th>0</th>\n",
       "      <td>susancalvin@email.com</td>\n",
       "      <td>London</td>\n",
       "      <td>056152358</td>\n",
       "      <td>28</td>\n",
       "      <td>Susan</td>\n",
       "      <td>Calvin</td>\n",
       "    </tr>\n",
       "    <tr>\n",
       "      <th>1</th>\n",
       "      <td>mdonovan@email.com</td>\n",
       "      <td>New Delhi</td>\n",
       "      <td>225896337</td>\n",
       "      <td>68</td>\n",
       "      <td>Mike</td>\n",
       "      <td>Donovan</td>\n",
       "    </tr>\n",
       "    <tr>\n",
       "      <th>2</th>\n",
       "      <td>gregp14@email.com</td>\n",
       "      <td>Moskow</td>\n",
       "      <td>895712365</td>\n",
       "      <td>66</td>\n",
       "      <td>Gregory</td>\n",
       "      <td>Powell</td>\n",
       "    </tr>\n",
       "    <tr>\n",
       "      <th>3</th>\n",
       "      <td>bentlyp@email.com</td>\n",
       "      <td>Kathmandu</td>\n",
       "      <td>096523995</td>\n",
       "      <td>42</td>\n",
       "      <td>Bently</td>\n",
       "      <td>Powell</td>\n",
       "    </tr>\n",
       "    <tr>\n",
       "      <th>0</th>\n",
       "      <td>GladiaDel@email.com</td>\n",
       "      <td>London</td>\n",
       "      <td>558697243</td>\n",
       "      <td>35</td>\n",
       "      <td>Gladia</td>\n",
       "      <td>Delmarre</td>\n",
       "    </tr>\n",
       "    <tr>\n",
       "      <th>1</th>\n",
       "      <td>CMonay@email.com</td>\n",
       "      <td>London</td>\n",
       "      <td></td>\n",
       "      <td>40</td>\n",
       "      <td>Cinda</td>\n",
       "      <td>Monay</td>\n",
       "    </tr>\n",
       "    <tr>\n",
       "      <th>2</th>\n",
       "      <td>AngolaMilan@email.com</td>\n",
       "      <td>London</td>\n",
       "      <td>798866541</td>\n",
       "      <td>35</td>\n",
       "      <td>Harla</td>\n",
       "      <td>Branno</td>\n",
       "    </tr>\n",
       "  </tbody>\n",
       "</table>\n",
       "</div>"
      ],
      "text/plain": [
       "                   email       city      phone age    first      last\n",
       "0  susancalvin@email.com     London  056152358  28    Susan    Calvin\n",
       "1     mdonovan@email.com  New Delhi  225896337  68     Mike   Donovan\n",
       "2      gregp14@email.com     Moskow  895712365  66  Gregory    Powell\n",
       "3      bentlyp@email.com  Kathmandu  096523995  42   Bently    Powell\n",
       "0    GladiaDel@email.com     London  558697243  35   Gladia  Delmarre\n",
       "1       CMonay@email.com     London             40    Cinda     Monay\n",
       "2  AngolaMilan@email.com     London  798866541  35    Harla    Branno"
      ]
     },
     "execution_count": 41,
     "metadata": {},
     "output_type": "execute_result"
    }
   ],
   "source": [
    "df = pd.concat([df, df2])\n",
    "df"
   ]
  },
  {
   "cell_type": "markdown",
   "metadata": {},
   "source": [
    "### Sorting"
   ]
  },
  {
   "cell_type": "code",
   "execution_count": 42,
   "metadata": {},
   "outputs": [
    {
     "data": {
      "text/html": [
       "<div>\n",
       "<style scoped>\n",
       "    .dataframe tbody tr th:only-of-type {\n",
       "        vertical-align: middle;\n",
       "    }\n",
       "\n",
       "    .dataframe tbody tr th {\n",
       "        vertical-align: top;\n",
       "    }\n",
       "\n",
       "    .dataframe thead th {\n",
       "        text-align: right;\n",
       "    }\n",
       "</style>\n",
       "<table border=\"1\" class=\"dataframe\">\n",
       "  <thead>\n",
       "    <tr style=\"text-align: right;\">\n",
       "      <th></th>\n",
       "      <th>email</th>\n",
       "      <th>city</th>\n",
       "      <th>phone</th>\n",
       "      <th>age</th>\n",
       "      <th>first</th>\n",
       "      <th>last</th>\n",
       "    </tr>\n",
       "  </thead>\n",
       "  <tbody>\n",
       "    <tr>\n",
       "      <th>0</th>\n",
       "      <td>susancalvin@email.com</td>\n",
       "      <td>London</td>\n",
       "      <td>056152358</td>\n",
       "      <td>28</td>\n",
       "      <td>Susan</td>\n",
       "      <td>Calvin</td>\n",
       "    </tr>\n",
       "    <tr>\n",
       "      <th>0</th>\n",
       "      <td>GladiaDel@email.com</td>\n",
       "      <td>London</td>\n",
       "      <td>558697243</td>\n",
       "      <td>35</td>\n",
       "      <td>Gladia</td>\n",
       "      <td>Delmarre</td>\n",
       "    </tr>\n",
       "    <tr>\n",
       "      <th>1</th>\n",
       "      <td>mdonovan@email.com</td>\n",
       "      <td>New Delhi</td>\n",
       "      <td>225896337</td>\n",
       "      <td>68</td>\n",
       "      <td>Mike</td>\n",
       "      <td>Donovan</td>\n",
       "    </tr>\n",
       "    <tr>\n",
       "      <th>1</th>\n",
       "      <td>CMonay@email.com</td>\n",
       "      <td>London</td>\n",
       "      <td></td>\n",
       "      <td>40</td>\n",
       "      <td>Cinda</td>\n",
       "      <td>Monay</td>\n",
       "    </tr>\n",
       "    <tr>\n",
       "      <th>2</th>\n",
       "      <td>gregp14@email.com</td>\n",
       "      <td>Moskow</td>\n",
       "      <td>895712365</td>\n",
       "      <td>66</td>\n",
       "      <td>Gregory</td>\n",
       "      <td>Powell</td>\n",
       "    </tr>\n",
       "    <tr>\n",
       "      <th>2</th>\n",
       "      <td>AngolaMilan@email.com</td>\n",
       "      <td>London</td>\n",
       "      <td>798866541</td>\n",
       "      <td>35</td>\n",
       "      <td>Harla</td>\n",
       "      <td>Branno</td>\n",
       "    </tr>\n",
       "    <tr>\n",
       "      <th>3</th>\n",
       "      <td>bentlyp@email.com</td>\n",
       "      <td>Kathmandu</td>\n",
       "      <td>096523995</td>\n",
       "      <td>42</td>\n",
       "      <td>Bently</td>\n",
       "      <td>Powell</td>\n",
       "    </tr>\n",
       "  </tbody>\n",
       "</table>\n",
       "</div>"
      ],
      "text/plain": [
       "                   email       city      phone age    first      last\n",
       "0  susancalvin@email.com     London  056152358  28    Susan    Calvin\n",
       "0    GladiaDel@email.com     London  558697243  35   Gladia  Delmarre\n",
       "1     mdonovan@email.com  New Delhi  225896337  68     Mike   Donovan\n",
       "1       CMonay@email.com     London             40    Cinda     Monay\n",
       "2      gregp14@email.com     Moskow  895712365  66  Gregory    Powell\n",
       "2  AngolaMilan@email.com     London  798866541  35    Harla    Branno\n",
       "3      bentlyp@email.com  Kathmandu  096523995  42   Bently    Powell"
      ]
     },
     "execution_count": 42,
     "metadata": {},
     "output_type": "execute_result"
    }
   ],
   "source": [
    "df.sort_index()"
   ]
  },
  {
   "cell_type": "code",
   "execution_count": 43,
   "metadata": {},
   "outputs": [
    {
     "data": {
      "text/html": [
       "<div>\n",
       "<style scoped>\n",
       "    .dataframe tbody tr th:only-of-type {\n",
       "        vertical-align: middle;\n",
       "    }\n",
       "\n",
       "    .dataframe tbody tr th {\n",
       "        vertical-align: top;\n",
       "    }\n",
       "\n",
       "    .dataframe thead th {\n",
       "        text-align: right;\n",
       "    }\n",
       "</style>\n",
       "<table border=\"1\" class=\"dataframe\">\n",
       "  <thead>\n",
       "    <tr style=\"text-align: right;\">\n",
       "      <th></th>\n",
       "      <th>email</th>\n",
       "      <th>city</th>\n",
       "      <th>phone</th>\n",
       "      <th>age</th>\n",
       "      <th>first</th>\n",
       "      <th>last</th>\n",
       "    </tr>\n",
       "  </thead>\n",
       "  <tbody>\n",
       "    <tr>\n",
       "      <th>2</th>\n",
       "      <td>AngolaMilan@email.com</td>\n",
       "      <td>London</td>\n",
       "      <td>798866541</td>\n",
       "      <td>35</td>\n",
       "      <td>Harla</td>\n",
       "      <td>Branno</td>\n",
       "    </tr>\n",
       "    <tr>\n",
       "      <th>1</th>\n",
       "      <td>CMonay@email.com</td>\n",
       "      <td>London</td>\n",
       "      <td></td>\n",
       "      <td>40</td>\n",
       "      <td>Cinda</td>\n",
       "      <td>Monay</td>\n",
       "    </tr>\n",
       "    <tr>\n",
       "      <th>0</th>\n",
       "      <td>GladiaDel@email.com</td>\n",
       "      <td>London</td>\n",
       "      <td>558697243</td>\n",
       "      <td>35</td>\n",
       "      <td>Gladia</td>\n",
       "      <td>Delmarre</td>\n",
       "    </tr>\n",
       "    <tr>\n",
       "      <th>3</th>\n",
       "      <td>bentlyp@email.com</td>\n",
       "      <td>Kathmandu</td>\n",
       "      <td>096523995</td>\n",
       "      <td>42</td>\n",
       "      <td>Bently</td>\n",
       "      <td>Powell</td>\n",
       "    </tr>\n",
       "    <tr>\n",
       "      <th>2</th>\n",
       "      <td>gregp14@email.com</td>\n",
       "      <td>Moskow</td>\n",
       "      <td>895712365</td>\n",
       "      <td>66</td>\n",
       "      <td>Gregory</td>\n",
       "      <td>Powell</td>\n",
       "    </tr>\n",
       "    <tr>\n",
       "      <th>1</th>\n",
       "      <td>mdonovan@email.com</td>\n",
       "      <td>New Delhi</td>\n",
       "      <td>225896337</td>\n",
       "      <td>68</td>\n",
       "      <td>Mike</td>\n",
       "      <td>Donovan</td>\n",
       "    </tr>\n",
       "    <tr>\n",
       "      <th>0</th>\n",
       "      <td>susancalvin@email.com</td>\n",
       "      <td>London</td>\n",
       "      <td>056152358</td>\n",
       "      <td>28</td>\n",
       "      <td>Susan</td>\n",
       "      <td>Calvin</td>\n",
       "    </tr>\n",
       "  </tbody>\n",
       "</table>\n",
       "</div>"
      ],
      "text/plain": [
       "                   email       city      phone age    first      last\n",
       "2  AngolaMilan@email.com     London  798866541  35    Harla    Branno\n",
       "1       CMonay@email.com     London             40    Cinda     Monay\n",
       "0    GladiaDel@email.com     London  558697243  35   Gladia  Delmarre\n",
       "3      bentlyp@email.com  Kathmandu  096523995  42   Bently    Powell\n",
       "2      gregp14@email.com     Moskow  895712365  66  Gregory    Powell\n",
       "1     mdonovan@email.com  New Delhi  225896337  68     Mike   Donovan\n",
       "0  susancalvin@email.com     London  056152358  28    Susan    Calvin"
      ]
     },
     "execution_count": 43,
     "metadata": {},
     "output_type": "execute_result"
    }
   ],
   "source": [
    "# sorting by email, ascending order is the default\n",
    "df.sort_values(['email'])"
   ]
  },
  {
   "cell_type": "code",
   "execution_count": 44,
   "metadata": {
    "scrolled": false
   },
   "outputs": [
    {
     "data": {
      "text/html": [
       "<div>\n",
       "<style scoped>\n",
       "    .dataframe tbody tr th:only-of-type {\n",
       "        vertical-align: middle;\n",
       "    }\n",
       "\n",
       "    .dataframe tbody tr th {\n",
       "        vertical-align: top;\n",
       "    }\n",
       "\n",
       "    .dataframe thead th {\n",
       "        text-align: right;\n",
       "    }\n",
       "</style>\n",
       "<table border=\"1\" class=\"dataframe\">\n",
       "  <thead>\n",
       "    <tr style=\"text-align: right;\">\n",
       "      <th></th>\n",
       "      <th>email</th>\n",
       "      <th>city</th>\n",
       "      <th>phone</th>\n",
       "      <th>age</th>\n",
       "      <th>first</th>\n",
       "      <th>last</th>\n",
       "    </tr>\n",
       "  </thead>\n",
       "  <tbody>\n",
       "    <tr>\n",
       "      <th>0</th>\n",
       "      <td>susancalvin@email.com</td>\n",
       "      <td>London</td>\n",
       "      <td>056152358</td>\n",
       "      <td>28</td>\n",
       "      <td>Susan</td>\n",
       "      <td>Calvin</td>\n",
       "    </tr>\n",
       "    <tr>\n",
       "      <th>1</th>\n",
       "      <td>mdonovan@email.com</td>\n",
       "      <td>New Delhi</td>\n",
       "      <td>225896337</td>\n",
       "      <td>68</td>\n",
       "      <td>Mike</td>\n",
       "      <td>Donovan</td>\n",
       "    </tr>\n",
       "    <tr>\n",
       "      <th>2</th>\n",
       "      <td>gregp14@email.com</td>\n",
       "      <td>Moskow</td>\n",
       "      <td>895712365</td>\n",
       "      <td>66</td>\n",
       "      <td>Gregory</td>\n",
       "      <td>Powell</td>\n",
       "    </tr>\n",
       "    <tr>\n",
       "      <th>3</th>\n",
       "      <td>bentlyp@email.com</td>\n",
       "      <td>Kathmandu</td>\n",
       "      <td>096523995</td>\n",
       "      <td>42</td>\n",
       "      <td>Bently</td>\n",
       "      <td>Powell</td>\n",
       "    </tr>\n",
       "    <tr>\n",
       "      <th>0</th>\n",
       "      <td>GladiaDel@email.com</td>\n",
       "      <td>London</td>\n",
       "      <td>558697243</td>\n",
       "      <td>35</td>\n",
       "      <td>Gladia</td>\n",
       "      <td>Delmarre</td>\n",
       "    </tr>\n",
       "    <tr>\n",
       "      <th>1</th>\n",
       "      <td>CMonay@email.com</td>\n",
       "      <td>London</td>\n",
       "      <td></td>\n",
       "      <td>40</td>\n",
       "      <td>Cinda</td>\n",
       "      <td>Monay</td>\n",
       "    </tr>\n",
       "    <tr>\n",
       "      <th>2</th>\n",
       "      <td>AngolaMilan@email.com</td>\n",
       "      <td>London</td>\n",
       "      <td>798866541</td>\n",
       "      <td>35</td>\n",
       "      <td>Harla</td>\n",
       "      <td>Branno</td>\n",
       "    </tr>\n",
       "  </tbody>\n",
       "</table>\n",
       "</div>"
      ],
      "text/plain": [
       "                   email       city      phone age    first      last\n",
       "0  susancalvin@email.com     London  056152358  28    Susan    Calvin\n",
       "1     mdonovan@email.com  New Delhi  225896337  68     Mike   Donovan\n",
       "2      gregp14@email.com     Moskow  895712365  66  Gregory    Powell\n",
       "3      bentlyp@email.com  Kathmandu  096523995  42   Bently    Powell\n",
       "0    GladiaDel@email.com     London  558697243  35   Gladia  Delmarre\n",
       "1       CMonay@email.com     London             40    Cinda     Monay\n",
       "2  AngolaMilan@email.com     London  798866541  35    Harla    Branno"
      ]
     },
     "execution_count": 44,
     "metadata": {},
     "output_type": "execute_result"
    }
   ],
   "source": [
    "# sorting by descending order\n",
    "df.sort_values(['email'], ascending=False)"
   ]
  },
  {
   "cell_type": "code",
   "execution_count": 45,
   "metadata": {
    "scrolled": true
   },
   "outputs": [
    {
     "data": {
      "text/html": [
       "<div>\n",
       "<style scoped>\n",
       "    .dataframe tbody tr th:only-of-type {\n",
       "        vertical-align: middle;\n",
       "    }\n",
       "\n",
       "    .dataframe tbody tr th {\n",
       "        vertical-align: top;\n",
       "    }\n",
       "\n",
       "    .dataframe thead th {\n",
       "        text-align: right;\n",
       "    }\n",
       "</style>\n",
       "<table border=\"1\" class=\"dataframe\">\n",
       "  <thead>\n",
       "    <tr style=\"text-align: right;\">\n",
       "      <th></th>\n",
       "      <th>email</th>\n",
       "      <th>city</th>\n",
       "      <th>phone</th>\n",
       "      <th>age</th>\n",
       "      <th>first</th>\n",
       "      <th>last</th>\n",
       "    </tr>\n",
       "  </thead>\n",
       "  <tbody>\n",
       "    <tr>\n",
       "      <th>2</th>\n",
       "      <td>AngolaMilan@email.com</td>\n",
       "      <td>London</td>\n",
       "      <td>798866541</td>\n",
       "      <td>35</td>\n",
       "      <td>Harla</td>\n",
       "      <td>Branno</td>\n",
       "    </tr>\n",
       "    <tr>\n",
       "      <th>0</th>\n",
       "      <td>susancalvin@email.com</td>\n",
       "      <td>London</td>\n",
       "      <td>056152358</td>\n",
       "      <td>28</td>\n",
       "      <td>Susan</td>\n",
       "      <td>Calvin</td>\n",
       "    </tr>\n",
       "    <tr>\n",
       "      <th>0</th>\n",
       "      <td>GladiaDel@email.com</td>\n",
       "      <td>London</td>\n",
       "      <td>558697243</td>\n",
       "      <td>35</td>\n",
       "      <td>Gladia</td>\n",
       "      <td>Delmarre</td>\n",
       "    </tr>\n",
       "    <tr>\n",
       "      <th>1</th>\n",
       "      <td>mdonovan@email.com</td>\n",
       "      <td>New Delhi</td>\n",
       "      <td>225896337</td>\n",
       "      <td>68</td>\n",
       "      <td>Mike</td>\n",
       "      <td>Donovan</td>\n",
       "    </tr>\n",
       "    <tr>\n",
       "      <th>1</th>\n",
       "      <td>CMonay@email.com</td>\n",
       "      <td>London</td>\n",
       "      <td></td>\n",
       "      <td>40</td>\n",
       "      <td>Cinda</td>\n",
       "      <td>Monay</td>\n",
       "    </tr>\n",
       "    <tr>\n",
       "      <th>2</th>\n",
       "      <td>gregp14@email.com</td>\n",
       "      <td>Moskow</td>\n",
       "      <td>895712365</td>\n",
       "      <td>66</td>\n",
       "      <td>Gregory</td>\n",
       "      <td>Powell</td>\n",
       "    </tr>\n",
       "    <tr>\n",
       "      <th>3</th>\n",
       "      <td>bentlyp@email.com</td>\n",
       "      <td>Kathmandu</td>\n",
       "      <td>096523995</td>\n",
       "      <td>42</td>\n",
       "      <td>Bently</td>\n",
       "      <td>Powell</td>\n",
       "    </tr>\n",
       "  </tbody>\n",
       "</table>\n",
       "</div>"
      ],
      "text/plain": [
       "                   email       city      phone age    first      last\n",
       "2  AngolaMilan@email.com     London  798866541  35    Harla    Branno\n",
       "0  susancalvin@email.com     London  056152358  28    Susan    Calvin\n",
       "0    GladiaDel@email.com     London  558697243  35   Gladia  Delmarre\n",
       "1     mdonovan@email.com  New Delhi  225896337  68     Mike   Donovan\n",
       "1       CMonay@email.com     London             40    Cinda     Monay\n",
       "2      gregp14@email.com     Moskow  895712365  66  Gregory    Powell\n",
       "3      bentlyp@email.com  Kathmandu  096523995  42   Bently    Powell"
      ]
     },
     "execution_count": 45,
     "metadata": {},
     "output_type": "execute_result"
    }
   ],
   "source": [
    "# sort according to the list order\n",
    "df.sort_values(['last', 'first'], ascending=[True, False], inplace=True)\n",
    "df"
   ]
  },
  {
   "cell_type": "code",
   "execution_count": 46,
   "metadata": {
    "scrolled": false
   },
   "outputs": [
    {
     "data": {
      "text/html": [
       "<div>\n",
       "<style scoped>\n",
       "    .dataframe tbody tr th:only-of-type {\n",
       "        vertical-align: middle;\n",
       "    }\n",
       "\n",
       "    .dataframe tbody tr th {\n",
       "        vertical-align: top;\n",
       "    }\n",
       "\n",
       "    .dataframe thead th {\n",
       "        text-align: right;\n",
       "    }\n",
       "</style>\n",
       "<table border=\"1\" class=\"dataframe\">\n",
       "  <thead>\n",
       "    <tr style=\"text-align: right;\">\n",
       "      <th></th>\n",
       "      <th>email</th>\n",
       "      <th>city</th>\n",
       "      <th>phone</th>\n",
       "      <th>age</th>\n",
       "      <th>first</th>\n",
       "      <th>last</th>\n",
       "    </tr>\n",
       "  </thead>\n",
       "  <tbody>\n",
       "    <tr>\n",
       "      <th>0</th>\n",
       "      <td>AngolaMilan@email.com</td>\n",
       "      <td>London</td>\n",
       "      <td>798866541</td>\n",
       "      <td>35</td>\n",
       "      <td>Harla</td>\n",
       "      <td>Branno</td>\n",
       "    </tr>\n",
       "    <tr>\n",
       "      <th>1</th>\n",
       "      <td>susancalvin@email.com</td>\n",
       "      <td>London</td>\n",
       "      <td>056152358</td>\n",
       "      <td>28</td>\n",
       "      <td>Susan</td>\n",
       "      <td>Calvin</td>\n",
       "    </tr>\n",
       "    <tr>\n",
       "      <th>2</th>\n",
       "      <td>GladiaDel@email.com</td>\n",
       "      <td>London</td>\n",
       "      <td>558697243</td>\n",
       "      <td>35</td>\n",
       "      <td>Gladia</td>\n",
       "      <td>Delmarre</td>\n",
       "    </tr>\n",
       "    <tr>\n",
       "      <th>3</th>\n",
       "      <td>mdonovan@email.com</td>\n",
       "      <td>New Delhi</td>\n",
       "      <td>225896337</td>\n",
       "      <td>68</td>\n",
       "      <td>Mike</td>\n",
       "      <td>Donovan</td>\n",
       "    </tr>\n",
       "    <tr>\n",
       "      <th>4</th>\n",
       "      <td>CMonay@email.com</td>\n",
       "      <td>London</td>\n",
       "      <td></td>\n",
       "      <td>40</td>\n",
       "      <td>Cinda</td>\n",
       "      <td>Monay</td>\n",
       "    </tr>\n",
       "    <tr>\n",
       "      <th>5</th>\n",
       "      <td>gregp14@email.com</td>\n",
       "      <td>Moskow</td>\n",
       "      <td>895712365</td>\n",
       "      <td>66</td>\n",
       "      <td>Gregory</td>\n",
       "      <td>Powell</td>\n",
       "    </tr>\n",
       "    <tr>\n",
       "      <th>6</th>\n",
       "      <td>bentlyp@email.com</td>\n",
       "      <td>Kathmandu</td>\n",
       "      <td>096523995</td>\n",
       "      <td>42</td>\n",
       "      <td>Bently</td>\n",
       "      <td>Powell</td>\n",
       "    </tr>\n",
       "  </tbody>\n",
       "</table>\n",
       "</div>"
      ],
      "text/plain": [
       "                   email       city      phone age    first      last\n",
       "0  AngolaMilan@email.com     London  798866541  35    Harla    Branno\n",
       "1  susancalvin@email.com     London  056152358  28    Susan    Calvin\n",
       "2    GladiaDel@email.com     London  558697243  35   Gladia  Delmarre\n",
       "3     mdonovan@email.com  New Delhi  225896337  68     Mike   Donovan\n",
       "4       CMonay@email.com     London             40    Cinda     Monay\n",
       "5      gregp14@email.com     Moskow  895712365  66  Gregory    Powell\n",
       "6      bentlyp@email.com  Kathmandu  096523995  42   Bently    Powell"
      ]
     },
     "execution_count": 46,
     "metadata": {},
     "output_type": "execute_result"
    }
   ],
   "source": [
    "# reseting index, drop=True don't save the previous index as a column\n",
    "df.reset_index(drop=True, inplace=True)\n",
    "df"
   ]
  },
  {
   "cell_type": "markdown",
   "metadata": {},
   "source": [
    "### Casting"
   ]
  },
  {
   "cell_type": "code",
   "execution_count": 47,
   "metadata": {},
   "outputs": [
    {
     "data": {
      "text/plain": [
       "email    object\n",
       "city     object\n",
       "phone    object\n",
       "age      object\n",
       "first    object\n",
       "last     object\n",
       "dtype: object"
      ]
     },
     "execution_count": 47,
     "metadata": {},
     "output_type": "execute_result"
    }
   ],
   "source": [
    "# notice that age is object type\n",
    "df.dtypes"
   ]
  },
  {
   "cell_type": "code",
   "execution_count": 48,
   "metadata": {},
   "outputs": [
    {
     "data": {
      "text/plain": [
       "email    object\n",
       "city     object\n",
       "phone    object\n",
       "age       int64\n",
       "first    object\n",
       "last     object\n",
       "dtype: object"
      ]
     },
     "execution_count": 48,
     "metadata": {},
     "output_type": "execute_result"
    }
   ],
   "source": [
    "df['age'] = df['age'].astype(int)\n",
    "df.dtypes"
   ]
  },
  {
   "cell_type": "code",
   "execution_count": 49,
   "metadata": {},
   "outputs": [
    {
     "data": {
      "text/plain": [
       "0    1225\n",
       "1     784\n",
       "2    1225\n",
       "3    4624\n",
       "4    1600\n",
       "5    4356\n",
       "6    1764\n",
       "Name: age, dtype: int64"
      ]
     },
     "execution_count": 49,
     "metadata": {},
     "output_type": "execute_result"
    }
   ],
   "source": [
    "# now apply can be used with numeric functions\n",
    "df['age'].apply(lambda x:  x**2)"
   ]
  },
  {
   "cell_type": "markdown",
   "metadata": {},
   "source": [
    "### groupby"
   ]
  },
  {
   "cell_type": "code",
   "execution_count": 50,
   "metadata": {},
   "outputs": [],
   "source": [
    "city_grp = df.groupby(['city'])"
   ]
  },
  {
   "cell_type": "code",
   "execution_count": 51,
   "metadata": {
    "scrolled": true
   },
   "outputs": [
    {
     "data": {
      "text/html": [
       "<div>\n",
       "<style scoped>\n",
       "    .dataframe tbody tr th:only-of-type {\n",
       "        vertical-align: middle;\n",
       "    }\n",
       "\n",
       "    .dataframe tbody tr th {\n",
       "        vertical-align: top;\n",
       "    }\n",
       "\n",
       "    .dataframe thead th {\n",
       "        text-align: right;\n",
       "    }\n",
       "</style>\n",
       "<table border=\"1\" class=\"dataframe\">\n",
       "  <thead>\n",
       "    <tr style=\"text-align: right;\">\n",
       "      <th></th>\n",
       "      <th>email</th>\n",
       "      <th>city</th>\n",
       "      <th>phone</th>\n",
       "      <th>age</th>\n",
       "      <th>first</th>\n",
       "      <th>last</th>\n",
       "    </tr>\n",
       "  </thead>\n",
       "  <tbody>\n",
       "    <tr>\n",
       "      <th>0</th>\n",
       "      <td>AngolaMilan@email.com</td>\n",
       "      <td>London</td>\n",
       "      <td>798866541</td>\n",
       "      <td>35</td>\n",
       "      <td>Harla</td>\n",
       "      <td>Branno</td>\n",
       "    </tr>\n",
       "    <tr>\n",
       "      <th>1</th>\n",
       "      <td>susancalvin@email.com</td>\n",
       "      <td>London</td>\n",
       "      <td>056152358</td>\n",
       "      <td>28</td>\n",
       "      <td>Susan</td>\n",
       "      <td>Calvin</td>\n",
       "    </tr>\n",
       "    <tr>\n",
       "      <th>2</th>\n",
       "      <td>GladiaDel@email.com</td>\n",
       "      <td>London</td>\n",
       "      <td>558697243</td>\n",
       "      <td>35</td>\n",
       "      <td>Gladia</td>\n",
       "      <td>Delmarre</td>\n",
       "    </tr>\n",
       "    <tr>\n",
       "      <th>4</th>\n",
       "      <td>CMonay@email.com</td>\n",
       "      <td>London</td>\n",
       "      <td></td>\n",
       "      <td>40</td>\n",
       "      <td>Cinda</td>\n",
       "      <td>Monay</td>\n",
       "    </tr>\n",
       "  </tbody>\n",
       "</table>\n",
       "</div>"
      ],
      "text/plain": [
       "                   email    city      phone  age   first      last\n",
       "0  AngolaMilan@email.com  London  798866541   35   Harla    Branno\n",
       "1  susancalvin@email.com  London  056152358   28   Susan    Calvin\n",
       "2    GladiaDel@email.com  London  558697243   35  Gladia  Delmarre\n",
       "4       CMonay@email.com  London              40   Cinda     Monay"
      ]
     },
     "execution_count": 51,
     "metadata": {},
     "output_type": "execute_result"
    }
   ],
   "source": [
    "city_grp.get_group('London')"
   ]
  },
  {
   "cell_type": "code",
   "execution_count": 52,
   "metadata": {},
   "outputs": [
    {
     "data": {
      "text/plain": [
       "city       age\n",
       "Kathmandu  42     1\n",
       "London     35     2\n",
       "           28     1\n",
       "           40     1\n",
       "Moskow     66     1\n",
       "New Delhi  68     1\n",
       "Name: age, dtype: int64"
      ]
     },
     "execution_count": 52,
     "metadata": {},
     "output_type": "execute_result"
    }
   ],
   "source": [
    "city_grp['age'].value_counts()"
   ]
  },
  {
   "cell_type": "code",
   "execution_count": 53,
   "metadata": {},
   "outputs": [
    {
     "data": {
      "text/plain": [
       "city\n",
       "New Delhi    68.0\n",
       "Moskow       66.0\n",
       "Kathmandu    42.0\n",
       "London       34.5\n",
       "Name: age, dtype: float64"
      ]
     },
     "execution_count": 53,
     "metadata": {},
     "output_type": "execute_result"
    }
   ],
   "source": [
    "city_grp['age'].mean().sort_values(ascending=False)"
   ]
  },
  {
   "cell_type": "code",
   "execution_count": 54,
   "metadata": {},
   "outputs": [
    {
     "data": {
      "text/plain": [
       "city\n",
       "London       35\n",
       "Kathmandu    42\n",
       "Moskow       66\n",
       "New Delhi    68\n",
       "Name: age, dtype: int64"
      ]
     },
     "execution_count": 54,
     "metadata": {},
     "output_type": "execute_result"
    }
   ],
   "source": [
    "city_grp['age'].median().sort_values()"
   ]
  },
  {
   "cell_type": "code",
   "execution_count": 55,
   "metadata": {},
   "outputs": [
    {
     "data": {
      "text/plain": [
       "city\n",
       "Kathmandu    42\n",
       "London       40\n",
       "Moskow       66\n",
       "New Delhi    68\n",
       "Name: age, dtype: int64"
      ]
     },
     "execution_count": 55,
     "metadata": {},
     "output_type": "execute_result"
    }
   ],
   "source": [
    "city_grp['age'].max()"
   ]
  },
  {
   "cell_type": "code",
   "execution_count": 56,
   "metadata": {
    "scrolled": true
   },
   "outputs": [
    {
     "data": {
      "text/plain": [
       "city\n",
       "Kathmandu    42\n",
       "London       28\n",
       "Moskow       66\n",
       "New Delhi    68\n",
       "Name: age, dtype: int64"
      ]
     },
     "execution_count": 56,
     "metadata": {},
     "output_type": "execute_result"
    }
   ],
   "source": [
    "city_grp['age'].min()"
   ]
  },
  {
   "cell_type": "code",
   "execution_count": 57,
   "metadata": {},
   "outputs": [
    {
     "data": {
      "text/html": [
       "<div>\n",
       "<style scoped>\n",
       "    .dataframe tbody tr th:only-of-type {\n",
       "        vertical-align: middle;\n",
       "    }\n",
       "\n",
       "    .dataframe tbody tr th {\n",
       "        vertical-align: top;\n",
       "    }\n",
       "\n",
       "    .dataframe thead th {\n",
       "        text-align: right;\n",
       "    }\n",
       "</style>\n",
       "<table border=\"1\" class=\"dataframe\">\n",
       "  <thead>\n",
       "    <tr style=\"text-align: right;\">\n",
       "      <th></th>\n",
       "      <th>median</th>\n",
       "      <th>mean</th>\n",
       "    </tr>\n",
       "    <tr>\n",
       "      <th>city</th>\n",
       "      <th></th>\n",
       "      <th></th>\n",
       "    </tr>\n",
       "  </thead>\n",
       "  <tbody>\n",
       "    <tr>\n",
       "      <th>Kathmandu</th>\n",
       "      <td>42</td>\n",
       "      <td>42.0</td>\n",
       "    </tr>\n",
       "    <tr>\n",
       "      <th>London</th>\n",
       "      <td>35</td>\n",
       "      <td>34.5</td>\n",
       "    </tr>\n",
       "    <tr>\n",
       "      <th>Moskow</th>\n",
       "      <td>66</td>\n",
       "      <td>66.0</td>\n",
       "    </tr>\n",
       "    <tr>\n",
       "      <th>New Delhi</th>\n",
       "      <td>68</td>\n",
       "      <td>68.0</td>\n",
       "    </tr>\n",
       "  </tbody>\n",
       "</table>\n",
       "</div>"
      ],
      "text/plain": [
       "           median  mean\n",
       "city                   \n",
       "Kathmandu      42  42.0\n",
       "London         35  34.5\n",
       "Moskow         66  66.0\n",
       "New Delhi      68  68.0"
      ]
     },
     "execution_count": 57,
     "metadata": {},
     "output_type": "execute_result"
    }
   ],
   "source": [
    "# agg applies more than one function to the data selected from the group\n",
    "city_grp['age'].agg(['median', 'mean'])"
   ]
  },
  {
   "cell_type": "code",
   "execution_count": 58,
   "metadata": {},
   "outputs": [
    {
     "data": {
      "text/plain": [
       "median    35.0\n",
       "mean      34.5\n",
       "Name: London, dtype: float64"
      ]
     },
     "execution_count": 58,
     "metadata": {},
     "output_type": "execute_result"
    }
   ],
   "source": [
    "city_grp['age'].agg(['median', 'mean']).loc['London']"
   ]
  },
  {
   "cell_type": "code",
   "execution_count": 59,
   "metadata": {},
   "outputs": [
    {
     "data": {
      "text/plain": [
       "city       age\n",
       "Kathmandu  42     1.00\n",
       "London     35     0.50\n",
       "           28     0.25\n",
       "           40     0.25\n",
       "Moskow     66     1.00\n",
       "New Delhi  68     1.00\n",
       "Name: age, dtype: float64"
      ]
     },
     "execution_count": 59,
     "metadata": {},
     "output_type": "execute_result"
    }
   ],
   "source": [
    "# normalize - If True then the object returned will contain the relative frequencies of the unique values.\n",
    "city_grp['age'].value_counts(normalize=True)"
   ]
  },
  {
   "cell_type": "markdown",
   "metadata": {},
   "source": [
    "### Pivot tables\n",
    "the default aggregate function is mean. \n",
    "<br>\n",
    "[more details]('https://pandas.pydata.org/pandas-docs/stable/reference/api/pandas.pivot_table.html')"
   ]
  },
  {
   "cell_type": "code",
   "execution_count": 60,
   "metadata": {},
   "outputs": [
    {
     "data": {
      "text/html": [
       "<div>\n",
       "<style scoped>\n",
       "    .dataframe tbody tr th:only-of-type {\n",
       "        vertical-align: middle;\n",
       "    }\n",
       "\n",
       "    .dataframe tbody tr th {\n",
       "        vertical-align: top;\n",
       "    }\n",
       "\n",
       "    .dataframe thead th {\n",
       "        text-align: right;\n",
       "    }\n",
       "</style>\n",
       "<table border=\"1\" class=\"dataframe\">\n",
       "  <thead>\n",
       "    <tr style=\"text-align: right;\">\n",
       "      <th></th>\n",
       "      <th>age</th>\n",
       "    </tr>\n",
       "    <tr>\n",
       "      <th>city</th>\n",
       "      <th></th>\n",
       "    </tr>\n",
       "  </thead>\n",
       "  <tbody>\n",
       "    <tr>\n",
       "      <th>Kathmandu</th>\n",
       "      <td>42.0</td>\n",
       "    </tr>\n",
       "    <tr>\n",
       "      <th>London</th>\n",
       "      <td>34.5</td>\n",
       "    </tr>\n",
       "    <tr>\n",
       "      <th>Moskow</th>\n",
       "      <td>66.0</td>\n",
       "    </tr>\n",
       "    <tr>\n",
       "      <th>New Delhi</th>\n",
       "      <td>68.0</td>\n",
       "    </tr>\n",
       "  </tbody>\n",
       "</table>\n",
       "</div>"
      ],
      "text/plain": [
       "            age\n",
       "city           \n",
       "Kathmandu  42.0\n",
       "London     34.5\n",
       "Moskow     66.0\n",
       "New Delhi  68.0"
      ]
     },
     "execution_count": 60,
     "metadata": {},
     "output_type": "execute_result"
    }
   ],
   "source": [
    "pd.pivot_table(df, index='city', values='age')"
   ]
  },
  {
   "cell_type": "markdown",
   "metadata": {},
   "source": [
    "### Other useful functions\n",
    "* tolist() - return a python list\n",
    "* to_dict() - return a python dictionary"
   ]
  },
  {
   "cell_type": "code",
   "execution_count": 61,
   "metadata": {},
   "outputs": [
    {
     "data": {
      "text/plain": [
       "{'median': {'Kathmandu': 42, 'London': 35, 'Moskow': 66, 'New Delhi': 68},\n",
       " 'mean': {'Kathmandu': 42.0,\n",
       "  'London': 34.5,\n",
       "  'Moskow': 66.0,\n",
       "  'New Delhi': 68.0}}"
      ]
     },
     "execution_count": 61,
     "metadata": {},
     "output_type": "execute_result"
    }
   ],
   "source": [
    "city_grp['age'].agg(['median', 'mean']).to_dict()"
   ]
  },
  {
   "cell_type": "code",
   "execution_count": 62,
   "metadata": {
    "scrolled": true
   },
   "outputs": [
    {
     "data": {
      "text/html": [
       "<div>\n",
       "<style scoped>\n",
       "    .dataframe tbody tr th:only-of-type {\n",
       "        vertical-align: middle;\n",
       "    }\n",
       "\n",
       "    .dataframe tbody tr th {\n",
       "        vertical-align: top;\n",
       "    }\n",
       "\n",
       "    .dataframe thead th {\n",
       "        text-align: right;\n",
       "    }\n",
       "</style>\n",
       "<table border=\"1\" class=\"dataframe\">\n",
       "  <thead>\n",
       "    <tr style=\"text-align: right;\">\n",
       "      <th></th>\n",
       "      <th>email</th>\n",
       "      <th>city</th>\n",
       "      <th>phone</th>\n",
       "      <th>age</th>\n",
       "      <th>first</th>\n",
       "      <th>last</th>\n",
       "    </tr>\n",
       "  </thead>\n",
       "  <tbody>\n",
       "    <tr>\n",
       "      <th>0</th>\n",
       "      <td>ANGOLAMILAN@EMAIL.COM</td>\n",
       "      <td>London</td>\n",
       "      <td>798866541</td>\n",
       "      <td>35</td>\n",
       "      <td>Harla</td>\n",
       "      <td>Branno</td>\n",
       "    </tr>\n",
       "    <tr>\n",
       "      <th>1</th>\n",
       "      <td>SUSANCALVIN@EMAIL.COM</td>\n",
       "      <td>London</td>\n",
       "      <td>056152358</td>\n",
       "      <td>28</td>\n",
       "      <td>Susan</td>\n",
       "      <td>Calvin</td>\n",
       "    </tr>\n",
       "    <tr>\n",
       "      <th>2</th>\n",
       "      <td>GLADIADEL@EMAIL.COM</td>\n",
       "      <td>London</td>\n",
       "      <td>558697243</td>\n",
       "      <td>35</td>\n",
       "      <td>Gladia</td>\n",
       "      <td>Delmarre</td>\n",
       "    </tr>\n",
       "    <tr>\n",
       "      <th>3</th>\n",
       "      <td>MDONOVAN@EMAIL.COM</td>\n",
       "      <td>New Delhi</td>\n",
       "      <td>225896337</td>\n",
       "      <td>68</td>\n",
       "      <td>Mike</td>\n",
       "      <td>Donovan</td>\n",
       "    </tr>\n",
       "    <tr>\n",
       "      <th>4</th>\n",
       "      <td>CMONAY@EMAIL.COM</td>\n",
       "      <td>London</td>\n",
       "      <td></td>\n",
       "      <td>40</td>\n",
       "      <td>Cinda</td>\n",
       "      <td>Monay</td>\n",
       "    </tr>\n",
       "    <tr>\n",
       "      <th>5</th>\n",
       "      <td>GREGP14@EMAIL.COM</td>\n",
       "      <td>Moskow</td>\n",
       "      <td>895712365</td>\n",
       "      <td>66</td>\n",
       "      <td>Gregory</td>\n",
       "      <td>Powell</td>\n",
       "    </tr>\n",
       "    <tr>\n",
       "      <th>6</th>\n",
       "      <td>BENTLYP@EMAIL.COM</td>\n",
       "      <td>Kathmandu</td>\n",
       "      <td>096523995</td>\n",
       "      <td>42</td>\n",
       "      <td>Bently</td>\n",
       "      <td>Powell</td>\n",
       "    </tr>\n",
       "  </tbody>\n",
       "</table>\n",
       "</div>"
      ],
      "text/plain": [
       "                   email       city      phone  age    first      last\n",
       "0  ANGOLAMILAN@EMAIL.COM     London  798866541   35    Harla    Branno\n",
       "1  SUSANCALVIN@EMAIL.COM     London  056152358   28    Susan    Calvin\n",
       "2    GLADIADEL@EMAIL.COM     London  558697243   35   Gladia  Delmarre\n",
       "3     MDONOVAN@EMAIL.COM  New Delhi  225896337   68     Mike   Donovan\n",
       "4       CMONAY@EMAIL.COM     London              40    Cinda     Monay\n",
       "5      GREGP14@EMAIL.COM     Moskow  895712365   66  Gregory    Powell\n",
       "6      BENTLYP@EMAIL.COM  Kathmandu  096523995   42   Bently    Powell"
      ]
     },
     "execution_count": 62,
     "metadata": {},
     "output_type": "execute_result"
    }
   ],
   "source": [
    "# str functions\n",
    "df['email'] = df['email'].str.upper() \n",
    "df"
   ]
  },
  {
   "cell_type": "code",
   "execution_count": 63,
   "metadata": {},
   "outputs": [
    {
     "data": {
      "text/html": [
       "<div>\n",
       "<style scoped>\n",
       "    .dataframe tbody tr th:only-of-type {\n",
       "        vertical-align: middle;\n",
       "    }\n",
       "\n",
       "    .dataframe tbody tr th {\n",
       "        vertical-align: top;\n",
       "    }\n",
       "\n",
       "    .dataframe thead th {\n",
       "        text-align: right;\n",
       "    }\n",
       "</style>\n",
       "<table border=\"1\" class=\"dataframe\">\n",
       "  <thead>\n",
       "    <tr style=\"text-align: right;\">\n",
       "      <th></th>\n",
       "      <th>email</th>\n",
       "      <th>city</th>\n",
       "      <th>phone</th>\n",
       "      <th>age</th>\n",
       "      <th>first</th>\n",
       "      <th>last</th>\n",
       "      <th>retired</th>\n",
       "    </tr>\n",
       "  </thead>\n",
       "  <tbody>\n",
       "    <tr>\n",
       "      <th>0</th>\n",
       "      <td>ANGOLAMILAN@EMAIL.COM</td>\n",
       "      <td>London</td>\n",
       "      <td>798866541</td>\n",
       "      <td>35</td>\n",
       "      <td>Harla</td>\n",
       "      <td>Branno</td>\n",
       "      <td>No</td>\n",
       "    </tr>\n",
       "    <tr>\n",
       "      <th>1</th>\n",
       "      <td>SUSANCALVIN@EMAIL.COM</td>\n",
       "      <td>London</td>\n",
       "      <td>056152358</td>\n",
       "      <td>28</td>\n",
       "      <td>Susan</td>\n",
       "      <td>Calvin</td>\n",
       "      <td>No</td>\n",
       "    </tr>\n",
       "    <tr>\n",
       "      <th>2</th>\n",
       "      <td>GLADIADEL@EMAIL.COM</td>\n",
       "      <td>London</td>\n",
       "      <td>558697243</td>\n",
       "      <td>35</td>\n",
       "      <td>Gladia</td>\n",
       "      <td>Delmarre</td>\n",
       "      <td>No</td>\n",
       "    </tr>\n",
       "    <tr>\n",
       "      <th>3</th>\n",
       "      <td>MDONOVAN@EMAIL.COM</td>\n",
       "      <td>New Delhi</td>\n",
       "      <td>225896337</td>\n",
       "      <td>68</td>\n",
       "      <td>Mike</td>\n",
       "      <td>Donovan</td>\n",
       "      <td>Yes</td>\n",
       "    </tr>\n",
       "    <tr>\n",
       "      <th>4</th>\n",
       "      <td>CMONAY@EMAIL.COM</td>\n",
       "      <td>London</td>\n",
       "      <td></td>\n",
       "      <td>40</td>\n",
       "      <td>Cinda</td>\n",
       "      <td>Monay</td>\n",
       "      <td>No</td>\n",
       "    </tr>\n",
       "    <tr>\n",
       "      <th>5</th>\n",
       "      <td>GREGP14@EMAIL.COM</td>\n",
       "      <td>Moskow</td>\n",
       "      <td>895712365</td>\n",
       "      <td>66</td>\n",
       "      <td>Gregory</td>\n",
       "      <td>Powell</td>\n",
       "      <td>Yes</td>\n",
       "    </tr>\n",
       "    <tr>\n",
       "      <th>6</th>\n",
       "      <td>BENTLYP@EMAIL.COM</td>\n",
       "      <td>Kathmandu</td>\n",
       "      <td>096523995</td>\n",
       "      <td>42</td>\n",
       "      <td>Bently</td>\n",
       "      <td>Powell</td>\n",
       "      <td>No</td>\n",
       "    </tr>\n",
       "  </tbody>\n",
       "</table>\n",
       "</div>"
      ],
      "text/plain": [
       "                   email       city      phone  age    first      last retired\n",
       "0  ANGOLAMILAN@EMAIL.COM     London  798866541   35    Harla    Branno      No\n",
       "1  SUSANCALVIN@EMAIL.COM     London  056152358   28    Susan    Calvin      No\n",
       "2    GLADIADEL@EMAIL.COM     London  558697243   35   Gladia  Delmarre      No\n",
       "3     MDONOVAN@EMAIL.COM  New Delhi  225896337   68     Mike   Donovan     Yes\n",
       "4       CMONAY@EMAIL.COM     London              40    Cinda     Monay      No\n",
       "5      GREGP14@EMAIL.COM     Moskow  895712365   66  Gregory    Powell     Yes\n",
       "6      BENTLYP@EMAIL.COM  Kathmandu  096523995   42   Bently    Powell      No"
      ]
     },
     "execution_count": 63,
     "metadata": {},
     "output_type": "execute_result"
    }
   ],
   "source": [
    "retirement = ['No', 'No', 'No', 'Yes', 'No', 'Yes', 'No']\n",
    "df['retired'] = retirement\n",
    "df"
   ]
  },
  {
   "cell_type": "code",
   "execution_count": 64,
   "metadata": {
    "scrolled": true
   },
   "outputs": [
    {
     "data": {
      "text/html": [
       "<div>\n",
       "<style scoped>\n",
       "    .dataframe tbody tr th:only-of-type {\n",
       "        vertical-align: middle;\n",
       "    }\n",
       "\n",
       "    .dataframe tbody tr th {\n",
       "        vertical-align: top;\n",
       "    }\n",
       "\n",
       "    .dataframe thead th {\n",
       "        text-align: right;\n",
       "    }\n",
       "</style>\n",
       "<table border=\"1\" class=\"dataframe\">\n",
       "  <thead>\n",
       "    <tr style=\"text-align: right;\">\n",
       "      <th></th>\n",
       "      <th>email</th>\n",
       "      <th>city</th>\n",
       "      <th>phone</th>\n",
       "      <th>age</th>\n",
       "      <th>first</th>\n",
       "      <th>last</th>\n",
       "      <th>retired</th>\n",
       "    </tr>\n",
       "  </thead>\n",
       "  <tbody>\n",
       "    <tr>\n",
       "      <th>0</th>\n",
       "      <td>ANGOLAMILAN@EMAIL.COM</td>\n",
       "      <td>London</td>\n",
       "      <td>798866541</td>\n",
       "      <td>35</td>\n",
       "      <td>Harla</td>\n",
       "      <td>Branno</td>\n",
       "      <td>False</td>\n",
       "    </tr>\n",
       "    <tr>\n",
       "      <th>1</th>\n",
       "      <td>SUSANCALVIN@EMAIL.COM</td>\n",
       "      <td>London</td>\n",
       "      <td>056152358</td>\n",
       "      <td>28</td>\n",
       "      <td>Susan</td>\n",
       "      <td>Calvin</td>\n",
       "      <td>False</td>\n",
       "    </tr>\n",
       "    <tr>\n",
       "      <th>2</th>\n",
       "      <td>GLADIADEL@EMAIL.COM</td>\n",
       "      <td>London</td>\n",
       "      <td>558697243</td>\n",
       "      <td>35</td>\n",
       "      <td>Gladia</td>\n",
       "      <td>Delmarre</td>\n",
       "      <td>False</td>\n",
       "    </tr>\n",
       "    <tr>\n",
       "      <th>3</th>\n",
       "      <td>MDONOVAN@EMAIL.COM</td>\n",
       "      <td>New Delhi</td>\n",
       "      <td>225896337</td>\n",
       "      <td>68</td>\n",
       "      <td>Mike</td>\n",
       "      <td>Donovan</td>\n",
       "      <td>True</td>\n",
       "    </tr>\n",
       "    <tr>\n",
       "      <th>4</th>\n",
       "      <td>CMONAY@EMAIL.COM</td>\n",
       "      <td>London</td>\n",
       "      <td></td>\n",
       "      <td>40</td>\n",
       "      <td>Cinda</td>\n",
       "      <td>Monay</td>\n",
       "      <td>False</td>\n",
       "    </tr>\n",
       "    <tr>\n",
       "      <th>5</th>\n",
       "      <td>GREGP14@EMAIL.COM</td>\n",
       "      <td>Moskow</td>\n",
       "      <td>895712365</td>\n",
       "      <td>66</td>\n",
       "      <td>Gregory</td>\n",
       "      <td>Powell</td>\n",
       "      <td>True</td>\n",
       "    </tr>\n",
       "    <tr>\n",
       "      <th>6</th>\n",
       "      <td>BENTLYP@EMAIL.COM</td>\n",
       "      <td>Kathmandu</td>\n",
       "      <td>096523995</td>\n",
       "      <td>42</td>\n",
       "      <td>Bently</td>\n",
       "      <td>Powell</td>\n",
       "      <td>False</td>\n",
       "    </tr>\n",
       "  </tbody>\n",
       "</table>\n",
       "</div>"
      ],
      "text/plain": [
       "                   email       city      phone  age    first      last  \\\n",
       "0  ANGOLAMILAN@EMAIL.COM     London  798866541   35    Harla    Branno   \n",
       "1  SUSANCALVIN@EMAIL.COM     London  056152358   28    Susan    Calvin   \n",
       "2    GLADIADEL@EMAIL.COM     London  558697243   35   Gladia  Delmarre   \n",
       "3     MDONOVAN@EMAIL.COM  New Delhi  225896337   68     Mike   Donovan   \n",
       "4       CMONAY@EMAIL.COM     London              40    Cinda     Monay   \n",
       "5      GREGP14@EMAIL.COM     Moskow  895712365   66  Gregory    Powell   \n",
       "6      BENTLYP@EMAIL.COM  Kathmandu  096523995   42   Bently    Powell   \n",
       "\n",
       "   retired  \n",
       "0    False  \n",
       "1    False  \n",
       "2    False  \n",
       "3     True  \n",
       "4    False  \n",
       "5     True  \n",
       "6    False  "
      ]
     },
     "execution_count": 64,
     "metadata": {},
     "output_type": "execute_result"
    }
   ],
   "source": [
    "# map function\n",
    "df['retired'] = df['retired'].map({'Yes': True, 'No': False})\n",
    "df"
   ]
  },
  {
   "cell_type": "code",
   "execution_count": 65,
   "metadata": {
    "scrolled": true
   },
   "outputs": [
    {
     "data": {
      "text/plain": [
       "email      object\n",
       "city       object\n",
       "phone      object\n",
       "age         int64\n",
       "first      object\n",
       "last       object\n",
       "retired      bool\n",
       "dtype: object"
      ]
     },
     "execution_count": 65,
     "metadata": {},
     "output_type": "execute_result"
    }
   ],
   "source": [
    "df.dtypes"
   ]
  },
  {
   "cell_type": "code",
   "execution_count": 66,
   "metadata": {},
   "outputs": [],
   "source": [
    "# isna() notna()"
   ]
  }
 ],
 "metadata": {
  "kernelspec": {
   "display_name": "Python 3",
   "language": "python",
   "name": "python3"
  },
  "language_info": {
   "codemirror_mode": {
    "name": "ipython",
    "version": 3
   },
   "file_extension": ".py",
   "mimetype": "text/x-python",
   "name": "python",
   "nbconvert_exporter": "python",
   "pygments_lexer": "ipython3",
   "version": "3.8.5"
  }
 },
 "nbformat": 4,
 "nbformat_minor": 4
}
