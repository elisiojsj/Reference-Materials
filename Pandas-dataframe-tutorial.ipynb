{
 "cells": [
  {
   "cell_type": "code",
   "execution_count": 110,
   "metadata": {},
   "outputs": [],
   "source": [
    "import pandas as pd"
   ]
  },
  {
   "cell_type": "code",
   "execution_count": 111,
   "metadata": {},
   "outputs": [],
   "source": [
    "contacts = {\n",
    "            'name': ['Susan Calvin', 'Bently Powell', 'Gregory Powell', 'Mike Donovan'],\n",
    "            'city': ['London', 'Kathmandu', 'Moskow', 'Bangalore'],\n",
    "            'phone': ['056152358', '096523995', '895712365', '886549702'],\n",
    "            'age' : ['28', '42', '66', '67'],\n",
    "            'e-mail': ['SusanCalvin@email.com', 'BentlyP@email.com', 'GregP14@email.com', 'MDonovan@email.com']\n",
    "            }"
   ]
  },
  {
   "cell_type": "code",
   "execution_count": 112,
   "metadata": {},
   "outputs": [],
   "source": [
    "# create a dataframe that can be worked with pandas\n",
    "df = pd.DataFrame(contacts)"
   ]
  },
  {
   "cell_type": "code",
   "execution_count": 113,
   "metadata": {},
   "outputs": [
    {
     "data": {
      "text/html": [
       "<div>\n",
       "<style scoped>\n",
       "    .dataframe tbody tr th:only-of-type {\n",
       "        vertical-align: middle;\n",
       "    }\n",
       "\n",
       "    .dataframe tbody tr th {\n",
       "        vertical-align: top;\n",
       "    }\n",
       "\n",
       "    .dataframe thead th {\n",
       "        text-align: right;\n",
       "    }\n",
       "</style>\n",
       "<table border=\"1\" class=\"dataframe\">\n",
       "  <thead>\n",
       "    <tr style=\"text-align: right;\">\n",
       "      <th></th>\n",
       "      <th>name</th>\n",
       "      <th>city</th>\n",
       "      <th>phone</th>\n",
       "      <th>age</th>\n",
       "      <th>e-mail</th>\n",
       "    </tr>\n",
       "  </thead>\n",
       "  <tbody>\n",
       "    <tr>\n",
       "      <th>0</th>\n",
       "      <td>Susan Calvin</td>\n",
       "      <td>London</td>\n",
       "      <td>056152358</td>\n",
       "      <td>28</td>\n",
       "      <td>SusanCalvin@email.com</td>\n",
       "    </tr>\n",
       "    <tr>\n",
       "      <th>1</th>\n",
       "      <td>Bently Powell</td>\n",
       "      <td>Kathmandu</td>\n",
       "      <td>096523995</td>\n",
       "      <td>42</td>\n",
       "      <td>BentlyP@email.com</td>\n",
       "    </tr>\n",
       "    <tr>\n",
       "      <th>2</th>\n",
       "      <td>Gregory Powell</td>\n",
       "      <td>Moskow</td>\n",
       "      <td>895712365</td>\n",
       "      <td>66</td>\n",
       "      <td>GregP14@email.com</td>\n",
       "    </tr>\n",
       "    <tr>\n",
       "      <th>3</th>\n",
       "      <td>Mike Donovan</td>\n",
       "      <td>Bangalore</td>\n",
       "      <td>886549702</td>\n",
       "      <td>67</td>\n",
       "      <td>MDonovan@email.com</td>\n",
       "    </tr>\n",
       "  </tbody>\n",
       "</table>\n",
       "</div>"
      ],
      "text/plain": [
       "             name       city      phone age                 e-mail\n",
       "0    Susan Calvin     London  056152358  28  SusanCalvin@email.com\n",
       "1   Bently Powell  Kathmandu  096523995  42      BentlyP@email.com\n",
       "2  Gregory Powell     Moskow  895712365  66      GregP14@email.com\n",
       "3    Mike Donovan  Bangalore  886549702  67     MDonovan@email.com"
      ]
     },
     "execution_count": 113,
     "metadata": {},
     "output_type": "execute_result"
    }
   ],
   "source": [
    "# print the dataframe, that's the best way to do so.\n",
    "df"
   ]
  },
  {
   "cell_type": "code",
   "execution_count": 114,
   "metadata": {},
   "outputs": [
    {
     "data": {
      "text/plain": [
       "(4, 5)"
      ]
     },
     "execution_count": 114,
     "metadata": {},
     "output_type": "execute_result"
    }
   ],
   "source": [
    "# shape of the df (rows, columns)\n",
    "df.shape"
   ]
  },
  {
   "cell_type": "code",
   "execution_count": 115,
   "metadata": {},
   "outputs": [
    {
     "data": {
      "text/plain": [
       "Index(['name', 'city', 'phone', 'age', 'e-mail'], dtype='object')"
      ]
     },
     "execution_count": 115,
     "metadata": {},
     "output_type": "execute_result"
    }
   ],
   "source": [
    "df.columns"
   ]
  },
  {
   "cell_type": "markdown",
   "metadata": {},
   "source": [
    "### Working with columns"
   ]
  },
  {
   "cell_type": "code",
   "execution_count": 116,
   "metadata": {},
   "outputs": [
    {
     "data": {
      "text/plain": [
       "0      Susan Calvin\n",
       "1     Bently Powell\n",
       "2    Gregory Powell\n",
       "3      Mike Donovan\n",
       "Name: name, dtype: object"
      ]
     },
     "execution_count": 116,
     "metadata": {},
     "output_type": "execute_result"
    }
   ],
   "source": [
    "# select a column\n",
    "df['name']"
   ]
  },
  {
   "cell_type": "code",
   "execution_count": 117,
   "metadata": {},
   "outputs": [
    {
     "data": {
      "text/html": [
       "<div>\n",
       "<style scoped>\n",
       "    .dataframe tbody tr th:only-of-type {\n",
       "        vertical-align: middle;\n",
       "    }\n",
       "\n",
       "    .dataframe tbody tr th {\n",
       "        vertical-align: top;\n",
       "    }\n",
       "\n",
       "    .dataframe thead th {\n",
       "        text-align: right;\n",
       "    }\n",
       "</style>\n",
       "<table border=\"1\" class=\"dataframe\">\n",
       "  <thead>\n",
       "    <tr style=\"text-align: right;\">\n",
       "      <th></th>\n",
       "      <th>name</th>\n",
       "      <th>city</th>\n",
       "    </tr>\n",
       "  </thead>\n",
       "  <tbody>\n",
       "    <tr>\n",
       "      <th>0</th>\n",
       "      <td>Susan Calvin</td>\n",
       "      <td>London</td>\n",
       "    </tr>\n",
       "    <tr>\n",
       "      <th>1</th>\n",
       "      <td>Bently Powell</td>\n",
       "      <td>Kathmandu</td>\n",
       "    </tr>\n",
       "    <tr>\n",
       "      <th>2</th>\n",
       "      <td>Gregory Powell</td>\n",
       "      <td>Moskow</td>\n",
       "    </tr>\n",
       "    <tr>\n",
       "      <th>3</th>\n",
       "      <td>Mike Donovan</td>\n",
       "      <td>Bangalore</td>\n",
       "    </tr>\n",
       "  </tbody>\n",
       "</table>\n",
       "</div>"
      ],
      "text/plain": [
       "             name       city\n",
       "0    Susan Calvin     London\n",
       "1   Bently Powell  Kathmandu\n",
       "2  Gregory Powell     Moskow\n",
       "3    Mike Donovan  Bangalore"
      ]
     },
     "execution_count": 117,
     "metadata": {},
     "output_type": "execute_result"
    }
   ],
   "source": [
    "# selecting 2 or more columns, notice the extra braket\n",
    "df[['name', 'city']]"
   ]
  },
  {
   "cell_type": "code",
   "execution_count": 118,
   "metadata": {},
   "outputs": [
    {
     "data": {
      "text/plain": [
       "'BentlyP@email.com'"
      ]
     },
     "execution_count": 118,
     "metadata": {},
     "output_type": "execute_result"
    }
   ],
   "source": [
    "# select an entry on a given column\n",
    "df['e-mail'][1]"
   ]
  },
  {
   "cell_type": "markdown",
   "metadata": {},
   "source": [
    "### Renaming columns"
   ]
  },
  {
   "cell_type": "code",
   "execution_count": 119,
   "metadata": {},
   "outputs": [
    {
     "data": {
      "text/plain": [
       "Index(['name', 'city', 'phone', 'age', 'e-mail'], dtype='object')"
      ]
     },
     "execution_count": 119,
     "metadata": {},
     "output_type": "execute_result"
    }
   ],
   "source": [
    "# observe that it's a list\n",
    "df.columns"
   ]
  },
  {
   "cell_type": "code",
   "execution_count": 120,
   "metadata": {},
   "outputs": [
    {
     "data": {
      "text/html": [
       "<div>\n",
       "<style scoped>\n",
       "    .dataframe tbody tr th:only-of-type {\n",
       "        vertical-align: middle;\n",
       "    }\n",
       "\n",
       "    .dataframe tbody tr th {\n",
       "        vertical-align: top;\n",
       "    }\n",
       "\n",
       "    .dataframe thead th {\n",
       "        text-align: right;\n",
       "    }\n",
       "</style>\n",
       "<table border=\"1\" class=\"dataframe\">\n",
       "  <thead>\n",
       "    <tr style=\"text-align: right;\">\n",
       "      <th></th>\n",
       "      <th>NAME</th>\n",
       "      <th>CITY</th>\n",
       "      <th>PHONE</th>\n",
       "      <th>AGE</th>\n",
       "      <th>E-MAIL</th>\n",
       "    </tr>\n",
       "  </thead>\n",
       "  <tbody>\n",
       "    <tr>\n",
       "      <th>0</th>\n",
       "      <td>Susan Calvin</td>\n",
       "      <td>London</td>\n",
       "      <td>056152358</td>\n",
       "      <td>28</td>\n",
       "      <td>SusanCalvin@email.com</td>\n",
       "    </tr>\n",
       "    <tr>\n",
       "      <th>1</th>\n",
       "      <td>Bently Powell</td>\n",
       "      <td>Kathmandu</td>\n",
       "      <td>096523995</td>\n",
       "      <td>42</td>\n",
       "      <td>BentlyP@email.com</td>\n",
       "    </tr>\n",
       "    <tr>\n",
       "      <th>2</th>\n",
       "      <td>Gregory Powell</td>\n",
       "      <td>Moskow</td>\n",
       "      <td>895712365</td>\n",
       "      <td>66</td>\n",
       "      <td>GregP14@email.com</td>\n",
       "    </tr>\n",
       "    <tr>\n",
       "      <th>3</th>\n",
       "      <td>Mike Donovan</td>\n",
       "      <td>Bangalore</td>\n",
       "      <td>886549702</td>\n",
       "      <td>67</td>\n",
       "      <td>MDonovan@email.com</td>\n",
       "    </tr>\n",
       "  </tbody>\n",
       "</table>\n",
       "</div>"
      ],
      "text/plain": [
       "             NAME       CITY      PHONE AGE                 E-MAIL\n",
       "0    Susan Calvin     London  056152358  28  SusanCalvin@email.com\n",
       "1   Bently Powell  Kathmandu  096523995  42      BentlyP@email.com\n",
       "2  Gregory Powell     Moskow  895712365  66      GregP14@email.com\n",
       "3    Mike Donovan  Bangalore  886549702  67     MDonovan@email.com"
      ]
     },
     "execution_count": 120,
     "metadata": {},
     "output_type": "execute_result"
    }
   ],
   "source": [
    "# renaming all at once\n",
    "df.columns = ['NAME', 'CITY', 'PHONE', 'AGE', 'E-MAIL']\n",
    "df"
   ]
  },
  {
   "cell_type": "code",
   "execution_count": 121,
   "metadata": {},
   "outputs": [
    {
     "data": {
      "text/html": [
       "<div>\n",
       "<style scoped>\n",
       "    .dataframe tbody tr th:only-of-type {\n",
       "        vertical-align: middle;\n",
       "    }\n",
       "\n",
       "    .dataframe tbody tr th {\n",
       "        vertical-align: top;\n",
       "    }\n",
       "\n",
       "    .dataframe thead th {\n",
       "        text-align: right;\n",
       "    }\n",
       "</style>\n",
       "<table border=\"1\" class=\"dataframe\">\n",
       "  <thead>\n",
       "    <tr style=\"text-align: right;\">\n",
       "      <th></th>\n",
       "      <th>name</th>\n",
       "      <th>city</th>\n",
       "      <th>phone</th>\n",
       "      <th>age</th>\n",
       "      <th>e-mail</th>\n",
       "    </tr>\n",
       "  </thead>\n",
       "  <tbody>\n",
       "    <tr>\n",
       "      <th>0</th>\n",
       "      <td>Susan Calvin</td>\n",
       "      <td>London</td>\n",
       "      <td>056152358</td>\n",
       "      <td>28</td>\n",
       "      <td>SusanCalvin@email.com</td>\n",
       "    </tr>\n",
       "    <tr>\n",
       "      <th>1</th>\n",
       "      <td>Bently Powell</td>\n",
       "      <td>Kathmandu</td>\n",
       "      <td>096523995</td>\n",
       "      <td>42</td>\n",
       "      <td>BentlyP@email.com</td>\n",
       "    </tr>\n",
       "    <tr>\n",
       "      <th>2</th>\n",
       "      <td>Gregory Powell</td>\n",
       "      <td>Moskow</td>\n",
       "      <td>895712365</td>\n",
       "      <td>66</td>\n",
       "      <td>GregP14@email.com</td>\n",
       "    </tr>\n",
       "    <tr>\n",
       "      <th>3</th>\n",
       "      <td>Mike Donovan</td>\n",
       "      <td>Bangalore</td>\n",
       "      <td>886549702</td>\n",
       "      <td>67</td>\n",
       "      <td>MDonovan@email.com</td>\n",
       "    </tr>\n",
       "  </tbody>\n",
       "</table>\n",
       "</div>"
      ],
      "text/plain": [
       "             name       city      phone age                 e-mail\n",
       "0    Susan Calvin     London  056152358  28  SusanCalvin@email.com\n",
       "1   Bently Powell  Kathmandu  096523995  42      BentlyP@email.com\n",
       "2  Gregory Powell     Moskow  895712365  66      GregP14@email.com\n",
       "3    Mike Donovan  Bangalore  886549702  67     MDonovan@email.com"
      ]
     },
     "execution_count": 121,
     "metadata": {},
     "output_type": "execute_result"
    }
   ],
   "source": [
    "# using list comprehension\n",
    "df.columns = [x.lower() for x in df.columns]\n",
    "df"
   ]
  },
  {
   "cell_type": "code",
   "execution_count": 122,
   "metadata": {},
   "outputs": [
    {
     "data": {
      "text/html": [
       "<div>\n",
       "<style scoped>\n",
       "    .dataframe tbody tr th:only-of-type {\n",
       "        vertical-align: middle;\n",
       "    }\n",
       "\n",
       "    .dataframe tbody tr th {\n",
       "        vertical-align: top;\n",
       "    }\n",
       "\n",
       "    .dataframe thead th {\n",
       "        text-align: right;\n",
       "    }\n",
       "</style>\n",
       "<table border=\"1\" class=\"dataframe\">\n",
       "  <thead>\n",
       "    <tr style=\"text-align: right;\">\n",
       "      <th></th>\n",
       "      <th>full_name</th>\n",
       "      <th>city</th>\n",
       "      <th>phone</th>\n",
       "      <th>age</th>\n",
       "      <th>email</th>\n",
       "    </tr>\n",
       "  </thead>\n",
       "  <tbody>\n",
       "    <tr>\n",
       "      <th>0</th>\n",
       "      <td>Susan Calvin</td>\n",
       "      <td>London</td>\n",
       "      <td>056152358</td>\n",
       "      <td>28</td>\n",
       "      <td>SusanCalvin@email.com</td>\n",
       "    </tr>\n",
       "    <tr>\n",
       "      <th>1</th>\n",
       "      <td>Bently Powell</td>\n",
       "      <td>Kathmandu</td>\n",
       "      <td>096523995</td>\n",
       "      <td>42</td>\n",
       "      <td>BentlyP@email.com</td>\n",
       "    </tr>\n",
       "    <tr>\n",
       "      <th>2</th>\n",
       "      <td>Gregory Powell</td>\n",
       "      <td>Moskow</td>\n",
       "      <td>895712365</td>\n",
       "      <td>66</td>\n",
       "      <td>GregP14@email.com</td>\n",
       "    </tr>\n",
       "    <tr>\n",
       "      <th>3</th>\n",
       "      <td>Mike Donovan</td>\n",
       "      <td>Bangalore</td>\n",
       "      <td>886549702</td>\n",
       "      <td>67</td>\n",
       "      <td>MDonovan@email.com</td>\n",
       "    </tr>\n",
       "  </tbody>\n",
       "</table>\n",
       "</div>"
      ],
      "text/plain": [
       "        full_name       city      phone age                  email\n",
       "0    Susan Calvin     London  056152358  28  SusanCalvin@email.com\n",
       "1   Bently Powell  Kathmandu  096523995  42      BentlyP@email.com\n",
       "2  Gregory Powell     Moskow  895712365  66      GregP14@email.com\n",
       "3    Mike Donovan  Bangalore  886549702  67     MDonovan@email.com"
      ]
     },
     "execution_count": 122,
     "metadata": {},
     "output_type": "execute_result"
    }
   ],
   "source": [
    "# item by item\n",
    "df.rename(columns = {'name': 'full_name', 'e-mail': 'email'}, inplace=True)\n",
    "df"
   ]
  },
  {
   "cell_type": "markdown",
   "metadata": {},
   "source": [
    "### Working with rows\n",
    "The most common way to access rows are from 2 comands **iloc** and **loc**.\n",
    "* iloc uses numbered index to access items.\n",
    "* loc can use column labels to access items and it gives more options."
   ]
  },
  {
   "cell_type": "code",
   "execution_count": 123,
   "metadata": {},
   "outputs": [
    {
     "data": {
      "text/plain": [
       "full_name          Mike Donovan\n",
       "city                  Bangalore\n",
       "phone                 886549702\n",
       "age                          67\n",
       "email        MDonovan@email.com\n",
       "Name: 3, dtype: object"
      ]
     },
     "execution_count": 123,
     "metadata": {},
     "output_type": "execute_result"
    }
   ],
   "source": [
    "df.iloc[3]"
   ]
  },
  {
   "cell_type": "code",
   "execution_count": 124,
   "metadata": {},
   "outputs": [
    {
     "data": {
      "text/html": [
       "<div>\n",
       "<style scoped>\n",
       "    .dataframe tbody tr th:only-of-type {\n",
       "        vertical-align: middle;\n",
       "    }\n",
       "\n",
       "    .dataframe tbody tr th {\n",
       "        vertical-align: top;\n",
       "    }\n",
       "\n",
       "    .dataframe thead th {\n",
       "        text-align: right;\n",
       "    }\n",
       "</style>\n",
       "<table border=\"1\" class=\"dataframe\">\n",
       "  <thead>\n",
       "    <tr style=\"text-align: right;\">\n",
       "      <th></th>\n",
       "      <th>full_name</th>\n",
       "      <th>email</th>\n",
       "    </tr>\n",
       "  </thead>\n",
       "  <tbody>\n",
       "    <tr>\n",
       "      <th>1</th>\n",
       "      <td>Bently Powell</td>\n",
       "      <td>BentlyP@email.com</td>\n",
       "    </tr>\n",
       "    <tr>\n",
       "      <th>3</th>\n",
       "      <td>Mike Donovan</td>\n",
       "      <td>MDonovan@email.com</td>\n",
       "    </tr>\n",
       "    <tr>\n",
       "      <th>0</th>\n",
       "      <td>Susan Calvin</td>\n",
       "      <td>SusanCalvin@email.com</td>\n",
       "    </tr>\n",
       "  </tbody>\n",
       "</table>\n",
       "</div>"
      ],
      "text/plain": [
       "       full_name                  email\n",
       "1  Bently Powell      BentlyP@email.com\n",
       "3   Mike Donovan     MDonovan@email.com\n",
       "0   Susan Calvin  SusanCalvin@email.com"
      ]
     },
     "execution_count": 124,
     "metadata": {},
     "output_type": "execute_result"
    }
   ],
   "source": [
    "# to access more than one column or row use the brakets\n",
    "df.loc[[1,3,0], ['full_name', 'email']]"
   ]
  },
  {
   "cell_type": "code",
   "execution_count": 125,
   "metadata": {
    "scrolled": false
   },
   "outputs": [
    {
     "data": {
      "text/html": [
       "<div>\n",
       "<style scoped>\n",
       "    .dataframe tbody tr th:only-of-type {\n",
       "        vertical-align: middle;\n",
       "    }\n",
       "\n",
       "    .dataframe tbody tr th {\n",
       "        vertical-align: top;\n",
       "    }\n",
       "\n",
       "    .dataframe thead th {\n",
       "        text-align: right;\n",
       "    }\n",
       "</style>\n",
       "<table border=\"1\" class=\"dataframe\">\n",
       "  <thead>\n",
       "    <tr style=\"text-align: right;\">\n",
       "      <th></th>\n",
       "      <th>full_name</th>\n",
       "      <th>city</th>\n",
       "      <th>phone</th>\n",
       "    </tr>\n",
       "  </thead>\n",
       "  <tbody>\n",
       "    <tr>\n",
       "      <th>1</th>\n",
       "      <td>Bently Powell</td>\n",
       "      <td>Kathmandu</td>\n",
       "      <td>096523995</td>\n",
       "    </tr>\n",
       "    <tr>\n",
       "      <th>2</th>\n",
       "      <td>Gregory Powell</td>\n",
       "      <td>Moskow</td>\n",
       "      <td>895712365</td>\n",
       "    </tr>\n",
       "    <tr>\n",
       "      <th>3</th>\n",
       "      <td>Mike Donovan</td>\n",
       "      <td>Bangalore</td>\n",
       "      <td>886549702</td>\n",
       "    </tr>\n",
       "  </tbody>\n",
       "</table>\n",
       "</div>"
      ],
      "text/plain": [
       "        full_name       city      phone\n",
       "1   Bently Powell  Kathmandu  096523995\n",
       "2  Gregory Powell     Moskow  895712365\n",
       "3    Mike Donovan  Bangalore  886549702"
      ]
     },
     "execution_count": 125,
     "metadata": {},
     "output_type": "execute_result"
    }
   ],
   "source": [
    "# no brakets needed to slicing, differently to the python standard the stop index is inclusive\n",
    "# [row, column]\n",
    "df.loc[1:3, 'full_name':'phone']"
   ]
  },
  {
   "cell_type": "markdown",
   "metadata": {},
   "source": [
    "### Updating rows"
   ]
  },
  {
   "cell_type": "code",
   "execution_count": 126,
   "metadata": {
    "scrolled": true
   },
   "outputs": [
    {
     "data": {
      "text/plain": [
       "full_name          Mike Donovan\n",
       "city                  Bangalore\n",
       "phone                 886549702\n",
       "age                          67\n",
       "email        MDonovan@email.com\n",
       "Name: 3, dtype: object"
      ]
     },
     "execution_count": 126,
     "metadata": {},
     "output_type": "execute_result"
    }
   ],
   "source": [
    "df.loc[3]"
   ]
  },
  {
   "cell_type": "code",
   "execution_count": 127,
   "metadata": {
    "scrolled": false
   },
   "outputs": [
    {
     "data": {
      "text/html": [
       "<div>\n",
       "<style scoped>\n",
       "    .dataframe tbody tr th:only-of-type {\n",
       "        vertical-align: middle;\n",
       "    }\n",
       "\n",
       "    .dataframe tbody tr th {\n",
       "        vertical-align: top;\n",
       "    }\n",
       "\n",
       "    .dataframe thead th {\n",
       "        text-align: right;\n",
       "    }\n",
       "</style>\n",
       "<table border=\"1\" class=\"dataframe\">\n",
       "  <thead>\n",
       "    <tr style=\"text-align: right;\">\n",
       "      <th></th>\n",
       "      <th>full_name</th>\n",
       "      <th>city</th>\n",
       "      <th>phone</th>\n",
       "      <th>age</th>\n",
       "      <th>email</th>\n",
       "    </tr>\n",
       "  </thead>\n",
       "  <tbody>\n",
       "    <tr>\n",
       "      <th>0</th>\n",
       "      <td>Susan Calvin</td>\n",
       "      <td>London</td>\n",
       "      <td>056152358</td>\n",
       "      <td>28</td>\n",
       "      <td>SusanCalvin@email.com</td>\n",
       "    </tr>\n",
       "    <tr>\n",
       "      <th>1</th>\n",
       "      <td>Bently Powell</td>\n",
       "      <td>Kathmandu</td>\n",
       "      <td>096523995</td>\n",
       "      <td>42</td>\n",
       "      <td>BentlyP@email.com</td>\n",
       "    </tr>\n",
       "    <tr>\n",
       "      <th>2</th>\n",
       "      <td>Gregory Powell</td>\n",
       "      <td>Moskow</td>\n",
       "      <td>895712365</td>\n",
       "      <td>66</td>\n",
       "      <td>GregP14@email.com</td>\n",
       "    </tr>\n",
       "    <tr>\n",
       "      <th>3</th>\n",
       "      <td>Mike Howard</td>\n",
       "      <td>New Delhi</td>\n",
       "      <td>225896337</td>\n",
       "      <td>68</td>\n",
       "      <td>MHoward@email.com</td>\n",
       "    </tr>\n",
       "  </tbody>\n",
       "</table>\n",
       "</div>"
      ],
      "text/plain": [
       "        full_name       city      phone age                  email\n",
       "0    Susan Calvin     London  056152358  28  SusanCalvin@email.com\n",
       "1   Bently Powell  Kathmandu  096523995  42      BentlyP@email.com\n",
       "2  Gregory Powell     Moskow  895712365  66      GregP14@email.com\n",
       "3     Mike Howard  New Delhi  225896337  68      MHoward@email.com"
      ]
     },
     "execution_count": 127,
     "metadata": {},
     "output_type": "execute_result"
    }
   ],
   "source": [
    "# updating all items\n",
    "df.loc[3] = ['Mike Howard', 'New Delhi', '225896337', '68', 'MHoward@email.com']\n",
    "df"
   ]
  },
  {
   "cell_type": "code",
   "execution_count": 128,
   "metadata": {},
   "outputs": [
    {
     "data": {
      "text/html": [
       "<div>\n",
       "<style scoped>\n",
       "    .dataframe tbody tr th:only-of-type {\n",
       "        vertical-align: middle;\n",
       "    }\n",
       "\n",
       "    .dataframe tbody tr th {\n",
       "        vertical-align: top;\n",
       "    }\n",
       "\n",
       "    .dataframe thead th {\n",
       "        text-align: right;\n",
       "    }\n",
       "</style>\n",
       "<table border=\"1\" class=\"dataframe\">\n",
       "  <thead>\n",
       "    <tr style=\"text-align: right;\">\n",
       "      <th></th>\n",
       "      <th>full_name</th>\n",
       "      <th>city</th>\n",
       "      <th>phone</th>\n",
       "      <th>age</th>\n",
       "      <th>email</th>\n",
       "    </tr>\n",
       "  </thead>\n",
       "  <tbody>\n",
       "    <tr>\n",
       "      <th>0</th>\n",
       "      <td>Susan Calvin</td>\n",
       "      <td>London</td>\n",
       "      <td>056152358</td>\n",
       "      <td>28</td>\n",
       "      <td>SusanCalvin@email.com</td>\n",
       "    </tr>\n",
       "    <tr>\n",
       "      <th>1</th>\n",
       "      <td>Bently Powell</td>\n",
       "      <td>Kathmandu</td>\n",
       "      <td>096523995</td>\n",
       "      <td>42</td>\n",
       "      <td>BentlyP@email.com</td>\n",
       "    </tr>\n",
       "    <tr>\n",
       "      <th>2</th>\n",
       "      <td>Gregory Powell</td>\n",
       "      <td>Moskow</td>\n",
       "      <td>895712365</td>\n",
       "      <td>66</td>\n",
       "      <td>GregP14@email.com</td>\n",
       "    </tr>\n",
       "    <tr>\n",
       "      <th>3</th>\n",
       "      <td>Mike Donovan</td>\n",
       "      <td>New Delhi</td>\n",
       "      <td>225896337</td>\n",
       "      <td>68</td>\n",
       "      <td>MDonovan@email.com</td>\n",
       "    </tr>\n",
       "  </tbody>\n",
       "</table>\n",
       "</div>"
      ],
      "text/plain": [
       "        full_name       city      phone age                  email\n",
       "0    Susan Calvin     London  056152358  28  SusanCalvin@email.com\n",
       "1   Bently Powell  Kathmandu  096523995  42      BentlyP@email.com\n",
       "2  Gregory Powell     Moskow  895712365  66      GregP14@email.com\n",
       "3    Mike Donovan  New Delhi  225896337  68     MDonovan@email.com"
      ]
     },
     "execution_count": 128,
     "metadata": {},
     "output_type": "execute_result"
    }
   ],
   "source": [
    "# updating selected items\n",
    "df.loc[3, ['full_name', 'email']] = ['Mike Donovan', 'MDonovan@email.com']\n",
    "df"
   ]
  },
  {
   "cell_type": "markdown",
   "metadata": {},
   "source": [
    "### Indexing"
   ]
  },
  {
   "cell_type": "code",
   "execution_count": 129,
   "metadata": {},
   "outputs": [
    {
     "data": {
      "text/html": [
       "<div>\n",
       "<style scoped>\n",
       "    .dataframe tbody tr th:only-of-type {\n",
       "        vertical-align: middle;\n",
       "    }\n",
       "\n",
       "    .dataframe tbody tr th {\n",
       "        vertical-align: top;\n",
       "    }\n",
       "\n",
       "    .dataframe thead th {\n",
       "        text-align: right;\n",
       "    }\n",
       "</style>\n",
       "<table border=\"1\" class=\"dataframe\">\n",
       "  <thead>\n",
       "    <tr style=\"text-align: right;\">\n",
       "      <th></th>\n",
       "      <th>full_name</th>\n",
       "      <th>city</th>\n",
       "      <th>phone</th>\n",
       "      <th>age</th>\n",
       "    </tr>\n",
       "    <tr>\n",
       "      <th>email</th>\n",
       "      <th></th>\n",
       "      <th></th>\n",
       "      <th></th>\n",
       "      <th></th>\n",
       "    </tr>\n",
       "  </thead>\n",
       "  <tbody>\n",
       "    <tr>\n",
       "      <th>SusanCalvin@email.com</th>\n",
       "      <td>Susan Calvin</td>\n",
       "      <td>London</td>\n",
       "      <td>056152358</td>\n",
       "      <td>28</td>\n",
       "    </tr>\n",
       "    <tr>\n",
       "      <th>BentlyP@email.com</th>\n",
       "      <td>Bently Powell</td>\n",
       "      <td>Kathmandu</td>\n",
       "      <td>096523995</td>\n",
       "      <td>42</td>\n",
       "    </tr>\n",
       "    <tr>\n",
       "      <th>GregP14@email.com</th>\n",
       "      <td>Gregory Powell</td>\n",
       "      <td>Moskow</td>\n",
       "      <td>895712365</td>\n",
       "      <td>66</td>\n",
       "    </tr>\n",
       "    <tr>\n",
       "      <th>MDonovan@email.com</th>\n",
       "      <td>Mike Donovan</td>\n",
       "      <td>New Delhi</td>\n",
       "      <td>225896337</td>\n",
       "      <td>68</td>\n",
       "    </tr>\n",
       "  </tbody>\n",
       "</table>\n",
       "</div>"
      ],
      "text/plain": [
       "                            full_name       city      phone age\n",
       "email                                                          \n",
       "SusanCalvin@email.com    Susan Calvin     London  056152358  28\n",
       "BentlyP@email.com       Bently Powell  Kathmandu  096523995  42\n",
       "GregP14@email.com      Gregory Powell     Moskow  895712365  66\n",
       "MDonovan@email.com       Mike Donovan  New Delhi  225896337  68"
      ]
     },
     "execution_count": 129,
     "metadata": {},
     "output_type": "execute_result"
    }
   ],
   "source": [
    "# set email column as index. To apply the change inplace must be True.\n",
    "df.set_index('email', inplace=True)\n",
    "df"
   ]
  },
  {
   "cell_type": "code",
   "execution_count": 130,
   "metadata": {},
   "outputs": [
    {
     "data": {
      "text/plain": [
       "full_name    Gregory Powell\n",
       "city                 Moskow\n",
       "phone             895712365\n",
       "age                      66\n",
       "Name: GregP14@email.com, dtype: object"
      ]
     },
     "execution_count": 130,
     "metadata": {},
     "output_type": "execute_result"
    }
   ],
   "source": [
    "# now the email is used as the index and loc cannot use the index numbers anymore \n",
    "df.loc['GregP14@email.com']"
   ]
  },
  {
   "cell_type": "code",
   "execution_count": 131,
   "metadata": {},
   "outputs": [
    {
     "data": {
      "text/plain": [
       "full_name    Mike Donovan\n",
       "phone           225896337\n",
       "Name: MDonovan@email.com, dtype: object"
      ]
     },
     "execution_count": 131,
     "metadata": {},
     "output_type": "execute_result"
    }
   ],
   "source": [
    "df.loc['MDonovan@email.com', ['full_name', 'phone']]"
   ]
  },
  {
   "cell_type": "code",
   "execution_count": 132,
   "metadata": {},
   "outputs": [
    {
     "data": {
      "text/plain": [
       "full_name    Bently Powell\n",
       "city             Kathmandu\n",
       "phone            096523995\n",
       "age                     42\n",
       "Name: BentlyP@email.com, dtype: object"
      ]
     },
     "execution_count": 132,
     "metadata": {},
     "output_type": "execute_result"
    }
   ],
   "source": [
    "# iloc can still be used with the index number\n",
    "df.iloc[1]"
   ]
  },
  {
   "cell_type": "code",
   "execution_count": 133,
   "metadata": {},
   "outputs": [
    {
     "data": {
      "text/html": [
       "<div>\n",
       "<style scoped>\n",
       "    .dataframe tbody tr th:only-of-type {\n",
       "        vertical-align: middle;\n",
       "    }\n",
       "\n",
       "    .dataframe tbody tr th {\n",
       "        vertical-align: top;\n",
       "    }\n",
       "\n",
       "    .dataframe thead th {\n",
       "        text-align: right;\n",
       "    }\n",
       "</style>\n",
       "<table border=\"1\" class=\"dataframe\">\n",
       "  <thead>\n",
       "    <tr style=\"text-align: right;\">\n",
       "      <th></th>\n",
       "      <th>full_name</th>\n",
       "      <th>city</th>\n",
       "      <th>phone</th>\n",
       "      <th>age</th>\n",
       "    </tr>\n",
       "    <tr>\n",
       "      <th>email</th>\n",
       "      <th></th>\n",
       "      <th></th>\n",
       "      <th></th>\n",
       "      <th></th>\n",
       "    </tr>\n",
       "  </thead>\n",
       "  <tbody>\n",
       "    <tr>\n",
       "      <th>BentlyP@email.com</th>\n",
       "      <td>Bently Powell</td>\n",
       "      <td>Kathmandu</td>\n",
       "      <td>096523995</td>\n",
       "      <td>42</td>\n",
       "    </tr>\n",
       "    <tr>\n",
       "      <th>GregP14@email.com</th>\n",
       "      <td>Gregory Powell</td>\n",
       "      <td>Moskow</td>\n",
       "      <td>895712365</td>\n",
       "      <td>66</td>\n",
       "    </tr>\n",
       "    <tr>\n",
       "      <th>MDonovan@email.com</th>\n",
       "      <td>Mike Donovan</td>\n",
       "      <td>New Delhi</td>\n",
       "      <td>225896337</td>\n",
       "      <td>68</td>\n",
       "    </tr>\n",
       "    <tr>\n",
       "      <th>SusanCalvin@email.com</th>\n",
       "      <td>Susan Calvin</td>\n",
       "      <td>London</td>\n",
       "      <td>056152358</td>\n",
       "      <td>28</td>\n",
       "    </tr>\n",
       "  </tbody>\n",
       "</table>\n",
       "</div>"
      ],
      "text/plain": [
       "                            full_name       city      phone age\n",
       "email                                                          \n",
       "BentlyP@email.com       Bently Powell  Kathmandu  096523995  42\n",
       "GregP14@email.com      Gregory Powell     Moskow  895712365  66\n",
       "MDonovan@email.com       Mike Donovan  New Delhi  225896337  68\n",
       "SusanCalvin@email.com    Susan Calvin     London  056152358  28"
      ]
     },
     "execution_count": 133,
     "metadata": {},
     "output_type": "execute_result"
    }
   ],
   "source": [
    "# sorting the index, ascending order is the default\n",
    "df.sort_index(inplace=True)\n",
    "df"
   ]
  },
  {
   "cell_type": "code",
   "execution_count": 134,
   "metadata": {},
   "outputs": [
    {
     "data": {
      "text/html": [
       "<div>\n",
       "<style scoped>\n",
       "    .dataframe tbody tr th:only-of-type {\n",
       "        vertical-align: middle;\n",
       "    }\n",
       "\n",
       "    .dataframe tbody tr th {\n",
       "        vertical-align: top;\n",
       "    }\n",
       "\n",
       "    .dataframe thead th {\n",
       "        text-align: right;\n",
       "    }\n",
       "</style>\n",
       "<table border=\"1\" class=\"dataframe\">\n",
       "  <thead>\n",
       "    <tr style=\"text-align: right;\">\n",
       "      <th></th>\n",
       "      <th>full_name</th>\n",
       "      <th>city</th>\n",
       "      <th>phone</th>\n",
       "      <th>age</th>\n",
       "    </tr>\n",
       "    <tr>\n",
       "      <th>email</th>\n",
       "      <th></th>\n",
       "      <th></th>\n",
       "      <th></th>\n",
       "      <th></th>\n",
       "    </tr>\n",
       "  </thead>\n",
       "  <tbody>\n",
       "    <tr>\n",
       "      <th>SusanCalvin@email.com</th>\n",
       "      <td>Susan Calvin</td>\n",
       "      <td>London</td>\n",
       "      <td>056152358</td>\n",
       "      <td>28</td>\n",
       "    </tr>\n",
       "    <tr>\n",
       "      <th>MDonovan@email.com</th>\n",
       "      <td>Mike Donovan</td>\n",
       "      <td>New Delhi</td>\n",
       "      <td>225896337</td>\n",
       "      <td>68</td>\n",
       "    </tr>\n",
       "    <tr>\n",
       "      <th>GregP14@email.com</th>\n",
       "      <td>Gregory Powell</td>\n",
       "      <td>Moskow</td>\n",
       "      <td>895712365</td>\n",
       "      <td>66</td>\n",
       "    </tr>\n",
       "    <tr>\n",
       "      <th>BentlyP@email.com</th>\n",
       "      <td>Bently Powell</td>\n",
       "      <td>Kathmandu</td>\n",
       "      <td>096523995</td>\n",
       "      <td>42</td>\n",
       "    </tr>\n",
       "  </tbody>\n",
       "</table>\n",
       "</div>"
      ],
      "text/plain": [
       "                            full_name       city      phone age\n",
       "email                                                          \n",
       "SusanCalvin@email.com    Susan Calvin     London  056152358  28\n",
       "MDonovan@email.com       Mike Donovan  New Delhi  225896337  68\n",
       "GregP14@email.com      Gregory Powell     Moskow  895712365  66\n",
       "BentlyP@email.com       Bently Powell  Kathmandu  096523995  42"
      ]
     },
     "execution_count": 134,
     "metadata": {},
     "output_type": "execute_result"
    }
   ],
   "source": [
    "# sorting the index in the descent order \n",
    "df.sort_index(ascending=False, inplace=True)\n",
    "df"
   ]
  },
  {
   "cell_type": "code",
   "execution_count": 135,
   "metadata": {},
   "outputs": [
    {
     "data": {
      "text/html": [
       "<div>\n",
       "<style scoped>\n",
       "    .dataframe tbody tr th:only-of-type {\n",
       "        vertical-align: middle;\n",
       "    }\n",
       "\n",
       "    .dataframe tbody tr th {\n",
       "        vertical-align: top;\n",
       "    }\n",
       "\n",
       "    .dataframe thead th {\n",
       "        text-align: right;\n",
       "    }\n",
       "</style>\n",
       "<table border=\"1\" class=\"dataframe\">\n",
       "  <thead>\n",
       "    <tr style=\"text-align: right;\">\n",
       "      <th></th>\n",
       "      <th>email</th>\n",
       "      <th>full_name</th>\n",
       "      <th>city</th>\n",
       "      <th>phone</th>\n",
       "      <th>age</th>\n",
       "    </tr>\n",
       "  </thead>\n",
       "  <tbody>\n",
       "    <tr>\n",
       "      <th>0</th>\n",
       "      <td>SusanCalvin@email.com</td>\n",
       "      <td>Susan Calvin</td>\n",
       "      <td>London</td>\n",
       "      <td>056152358</td>\n",
       "      <td>28</td>\n",
       "    </tr>\n",
       "    <tr>\n",
       "      <th>1</th>\n",
       "      <td>MDonovan@email.com</td>\n",
       "      <td>Mike Donovan</td>\n",
       "      <td>New Delhi</td>\n",
       "      <td>225896337</td>\n",
       "      <td>68</td>\n",
       "    </tr>\n",
       "    <tr>\n",
       "      <th>2</th>\n",
       "      <td>GregP14@email.com</td>\n",
       "      <td>Gregory Powell</td>\n",
       "      <td>Moskow</td>\n",
       "      <td>895712365</td>\n",
       "      <td>66</td>\n",
       "    </tr>\n",
       "    <tr>\n",
       "      <th>3</th>\n",
       "      <td>BentlyP@email.com</td>\n",
       "      <td>Bently Powell</td>\n",
       "      <td>Kathmandu</td>\n",
       "      <td>096523995</td>\n",
       "      <td>42</td>\n",
       "    </tr>\n",
       "  </tbody>\n",
       "</table>\n",
       "</div>"
      ],
      "text/plain": [
       "                   email       full_name       city      phone age\n",
       "0  SusanCalvin@email.com    Susan Calvin     London  056152358  28\n",
       "1     MDonovan@email.com    Mike Donovan  New Delhi  225896337  68\n",
       "2      GregP14@email.com  Gregory Powell     Moskow  895712365  66\n",
       "3      BentlyP@email.com   Bently Powell  Kathmandu  096523995  42"
      ]
     },
     "execution_count": 135,
     "metadata": {},
     "output_type": "execute_result"
    }
   ],
   "source": [
    "# to reset the index\n",
    "df.reset_index(inplace=True)\n",
    "df"
   ]
  },
  {
   "cell_type": "markdown",
   "metadata": {},
   "source": [
    "### Adding/removing Columns and rows"
   ]
  },
  {
   "cell_type": "code",
   "execution_count": 136,
   "metadata": {
    "scrolled": true
   },
   "outputs": [
    {
     "data": {
      "text/html": [
       "<div>\n",
       "<style scoped>\n",
       "    .dataframe tbody tr th:only-of-type {\n",
       "        vertical-align: middle;\n",
       "    }\n",
       "\n",
       "    .dataframe tbody tr th {\n",
       "        vertical-align: top;\n",
       "    }\n",
       "\n",
       "    .dataframe thead th {\n",
       "        text-align: right;\n",
       "    }\n",
       "</style>\n",
       "<table border=\"1\" class=\"dataframe\">\n",
       "  <thead>\n",
       "    <tr style=\"text-align: right;\">\n",
       "      <th></th>\n",
       "      <th>email</th>\n",
       "      <th>full_name</th>\n",
       "      <th>city</th>\n",
       "      <th>phone</th>\n",
       "      <th>age</th>\n",
       "      <th>first</th>\n",
       "      <th>last</th>\n",
       "    </tr>\n",
       "  </thead>\n",
       "  <tbody>\n",
       "    <tr>\n",
       "      <th>0</th>\n",
       "      <td>SusanCalvin@email.com</td>\n",
       "      <td>Susan Calvin</td>\n",
       "      <td>London</td>\n",
       "      <td>056152358</td>\n",
       "      <td>28</td>\n",
       "      <td>Susan</td>\n",
       "      <td>Calvin</td>\n",
       "    </tr>\n",
       "    <tr>\n",
       "      <th>1</th>\n",
       "      <td>MDonovan@email.com</td>\n",
       "      <td>Mike Donovan</td>\n",
       "      <td>New Delhi</td>\n",
       "      <td>225896337</td>\n",
       "      <td>68</td>\n",
       "      <td>Mike</td>\n",
       "      <td>Donovan</td>\n",
       "    </tr>\n",
       "    <tr>\n",
       "      <th>2</th>\n",
       "      <td>GregP14@email.com</td>\n",
       "      <td>Gregory Powell</td>\n",
       "      <td>Moskow</td>\n",
       "      <td>895712365</td>\n",
       "      <td>66</td>\n",
       "      <td>Gregory</td>\n",
       "      <td>Powell</td>\n",
       "    </tr>\n",
       "    <tr>\n",
       "      <th>3</th>\n",
       "      <td>BentlyP@email.com</td>\n",
       "      <td>Bently Powell</td>\n",
       "      <td>Kathmandu</td>\n",
       "      <td>096523995</td>\n",
       "      <td>42</td>\n",
       "      <td>Bently</td>\n",
       "      <td>Powell</td>\n",
       "    </tr>\n",
       "  </tbody>\n",
       "</table>\n",
       "</div>"
      ],
      "text/plain": [
       "                   email       full_name       city      phone age    first  \\\n",
       "0  SusanCalvin@email.com    Susan Calvin     London  056152358  28    Susan   \n",
       "1     MDonovan@email.com    Mike Donovan  New Delhi  225896337  68     Mike   \n",
       "2      GregP14@email.com  Gregory Powell     Moskow  895712365  66  Gregory   \n",
       "3      BentlyP@email.com   Bently Powell  Kathmandu  096523995  42   Bently   \n",
       "\n",
       "      last  \n",
       "0   Calvin  \n",
       "1  Donovan  \n",
       "2   Powell  \n",
       "3   Powell  "
      ]
     },
     "execution_count": 136,
     "metadata": {},
     "output_type": "execute_result"
    }
   ],
   "source": [
    "# splitting column full_name into 2 new columns: first and last\n",
    "# expand: Boolean value, returns a data frame with different value in different columns if True. Else it returns a series with list of strings.\n",
    "# https://www.geeksforgeeks.org/python-pandas-split-strings-into-two-list-columns-using-str-split/\n",
    "\n",
    "df[['first', 'last']] = df['full_name'].str.split(' ', expand=True)\n",
    "df"
   ]
  },
  {
   "cell_type": "code",
   "execution_count": 137,
   "metadata": {},
   "outputs": [
    {
     "data": {
      "text/html": [
       "<div>\n",
       "<style scoped>\n",
       "    .dataframe tbody tr th:only-of-type {\n",
       "        vertical-align: middle;\n",
       "    }\n",
       "\n",
       "    .dataframe tbody tr th {\n",
       "        vertical-align: top;\n",
       "    }\n",
       "\n",
       "    .dataframe thead th {\n",
       "        text-align: right;\n",
       "    }\n",
       "</style>\n",
       "<table border=\"1\" class=\"dataframe\">\n",
       "  <thead>\n",
       "    <tr style=\"text-align: right;\">\n",
       "      <th></th>\n",
       "      <th>email</th>\n",
       "      <th>full_name</th>\n",
       "      <th>city</th>\n",
       "      <th>phone</th>\n",
       "      <th>age</th>\n",
       "      <th>first</th>\n",
       "      <th>last</th>\n",
       "      <th>full_name_2</th>\n",
       "    </tr>\n",
       "  </thead>\n",
       "  <tbody>\n",
       "    <tr>\n",
       "      <th>0</th>\n",
       "      <td>SusanCalvin@email.com</td>\n",
       "      <td>Susan Calvin</td>\n",
       "      <td>London</td>\n",
       "      <td>056152358</td>\n",
       "      <td>28</td>\n",
       "      <td>Susan</td>\n",
       "      <td>Calvin</td>\n",
       "      <td>Susan Calvin</td>\n",
       "    </tr>\n",
       "    <tr>\n",
       "      <th>1</th>\n",
       "      <td>MDonovan@email.com</td>\n",
       "      <td>Mike Donovan</td>\n",
       "      <td>New Delhi</td>\n",
       "      <td>225896337</td>\n",
       "      <td>68</td>\n",
       "      <td>Mike</td>\n",
       "      <td>Donovan</td>\n",
       "      <td>Mike Donovan</td>\n",
       "    </tr>\n",
       "    <tr>\n",
       "      <th>2</th>\n",
       "      <td>GregP14@email.com</td>\n",
       "      <td>Gregory Powell</td>\n",
       "      <td>Moskow</td>\n",
       "      <td>895712365</td>\n",
       "      <td>66</td>\n",
       "      <td>Gregory</td>\n",
       "      <td>Powell</td>\n",
       "      <td>Gregory Powell</td>\n",
       "    </tr>\n",
       "    <tr>\n",
       "      <th>3</th>\n",
       "      <td>BentlyP@email.com</td>\n",
       "      <td>Bently Powell</td>\n",
       "      <td>Kathmandu</td>\n",
       "      <td>096523995</td>\n",
       "      <td>42</td>\n",
       "      <td>Bently</td>\n",
       "      <td>Powell</td>\n",
       "      <td>Bently Powell</td>\n",
       "    </tr>\n",
       "  </tbody>\n",
       "</table>\n",
       "</div>"
      ],
      "text/plain": [
       "                   email       full_name       city      phone age    first  \\\n",
       "0  SusanCalvin@email.com    Susan Calvin     London  056152358  28    Susan   \n",
       "1     MDonovan@email.com    Mike Donovan  New Delhi  225896337  68     Mike   \n",
       "2      GregP14@email.com  Gregory Powell     Moskow  895712365  66  Gregory   \n",
       "3      BentlyP@email.com   Bently Powell  Kathmandu  096523995  42   Bently   \n",
       "\n",
       "      last     full_name_2  \n",
       "0   Calvin    Susan Calvin  \n",
       "1  Donovan    Mike Donovan  \n",
       "2   Powell  Gregory Powell  \n",
       "3   Powell   Bently Powell  "
      ]
     },
     "execution_count": 137,
     "metadata": {},
     "output_type": "execute_result"
    }
   ],
   "source": [
    "# adding items from 2 columns to form a new one\n",
    "df['full_name_2'] = df['first'] + ' ' + df['last']\n",
    "df"
   ]
  },
  {
   "cell_type": "code",
   "execution_count": 138,
   "metadata": {
    "scrolled": true
   },
   "outputs": [
    {
     "data": {
      "text/html": [
       "<div>\n",
       "<style scoped>\n",
       "    .dataframe tbody tr th:only-of-type {\n",
       "        vertical-align: middle;\n",
       "    }\n",
       "\n",
       "    .dataframe tbody tr th {\n",
       "        vertical-align: top;\n",
       "    }\n",
       "\n",
       "    .dataframe thead th {\n",
       "        text-align: right;\n",
       "    }\n",
       "</style>\n",
       "<table border=\"1\" class=\"dataframe\">\n",
       "  <thead>\n",
       "    <tr style=\"text-align: right;\">\n",
       "      <th></th>\n",
       "      <th>email</th>\n",
       "      <th>city</th>\n",
       "      <th>phone</th>\n",
       "      <th>age</th>\n",
       "      <th>first</th>\n",
       "      <th>last</th>\n",
       "    </tr>\n",
       "  </thead>\n",
       "  <tbody>\n",
       "    <tr>\n",
       "      <th>0</th>\n",
       "      <td>SusanCalvin@email.com</td>\n",
       "      <td>London</td>\n",
       "      <td>056152358</td>\n",
       "      <td>28</td>\n",
       "      <td>Susan</td>\n",
       "      <td>Calvin</td>\n",
       "    </tr>\n",
       "    <tr>\n",
       "      <th>1</th>\n",
       "      <td>MDonovan@email.com</td>\n",
       "      <td>New Delhi</td>\n",
       "      <td>225896337</td>\n",
       "      <td>68</td>\n",
       "      <td>Mike</td>\n",
       "      <td>Donovan</td>\n",
       "    </tr>\n",
       "    <tr>\n",
       "      <th>2</th>\n",
       "      <td>GregP14@email.com</td>\n",
       "      <td>Moskow</td>\n",
       "      <td>895712365</td>\n",
       "      <td>66</td>\n",
       "      <td>Gregory</td>\n",
       "      <td>Powell</td>\n",
       "    </tr>\n",
       "    <tr>\n",
       "      <th>3</th>\n",
       "      <td>BentlyP@email.com</td>\n",
       "      <td>Kathmandu</td>\n",
       "      <td>096523995</td>\n",
       "      <td>42</td>\n",
       "      <td>Bently</td>\n",
       "      <td>Powell</td>\n",
       "    </tr>\n",
       "  </tbody>\n",
       "</table>\n",
       "</div>"
      ],
      "text/plain": [
       "                   email       city      phone age    first     last\n",
       "0  SusanCalvin@email.com     London  056152358  28    Susan   Calvin\n",
       "1     MDonovan@email.com  New Delhi  225896337  68     Mike  Donovan\n",
       "2      GregP14@email.com     Moskow  895712365  66  Gregory   Powell\n",
       "3      BentlyP@email.com  Kathmandu  096523995  42   Bently   Powell"
      ]
     },
     "execution_count": 138,
     "metadata": {},
     "output_type": "execute_result"
    }
   ],
   "source": [
    "# removing columns\n",
    "df.drop(columns=['full_name','full_name_2'], inplace=True)\n",
    "df"
   ]
  },
  {
   "cell_type": "code",
   "execution_count": 139,
   "metadata": {},
   "outputs": [
    {
     "data": {
      "text/html": [
       "<div>\n",
       "<style scoped>\n",
       "    .dataframe tbody tr th:only-of-type {\n",
       "        vertical-align: middle;\n",
       "    }\n",
       "\n",
       "    .dataframe tbody tr th {\n",
       "        vertical-align: top;\n",
       "    }\n",
       "\n",
       "    .dataframe thead th {\n",
       "        text-align: right;\n",
       "    }\n",
       "</style>\n",
       "<table border=\"1\" class=\"dataframe\">\n",
       "  <thead>\n",
       "    <tr style=\"text-align: right;\">\n",
       "      <th></th>\n",
       "      <th>email</th>\n",
       "      <th>city</th>\n",
       "      <th>phone</th>\n",
       "      <th>age</th>\n",
       "      <th>first</th>\n",
       "      <th>last</th>\n",
       "    </tr>\n",
       "  </thead>\n",
       "  <tbody>\n",
       "    <tr>\n",
       "      <th>0</th>\n",
       "      <td>SusanCalvin@email.com</td>\n",
       "      <td>London</td>\n",
       "      <td>056152358</td>\n",
       "      <td>28</td>\n",
       "      <td>Susan</td>\n",
       "      <td>Calvin</td>\n",
       "    </tr>\n",
       "    <tr>\n",
       "      <th>2</th>\n",
       "      <td>GregP14@email.com</td>\n",
       "      <td>Moskow</td>\n",
       "      <td>895712365</td>\n",
       "      <td>66</td>\n",
       "      <td>Gregory</td>\n",
       "      <td>Powell</td>\n",
       "    </tr>\n",
       "  </tbody>\n",
       "</table>\n",
       "</div>"
      ],
      "text/plain": [
       "                   email    city      phone age    first    last\n",
       "0  SusanCalvin@email.com  London  056152358  28    Susan  Calvin\n",
       "2      GregP14@email.com  Moskow  895712365  66  Gregory  Powell"
      ]
     },
     "execution_count": 139,
     "metadata": {},
     "output_type": "execute_result"
    }
   ],
   "source": [
    "# removing rows, to apply use inplace=True\n",
    "df.drop(index= [1, 3])"
   ]
  },
  {
   "cell_type": "code",
   "execution_count": 140,
   "metadata": {},
   "outputs": [],
   "source": [
    "### Updating rows"
   ]
  },
  {
   "cell_type": "markdown",
   "metadata": {},
   "source": [
    "### apply\n",
    "apply() - applies a function to the selected row or column"
   ]
  },
  {
   "cell_type": "code",
   "execution_count": 146,
   "metadata": {},
   "outputs": [
    {
     "data": {
      "text/html": [
       "<div>\n",
       "<style scoped>\n",
       "    .dataframe tbody tr th:only-of-type {\n",
       "        vertical-align: middle;\n",
       "    }\n",
       "\n",
       "    .dataframe tbody tr th {\n",
       "        vertical-align: top;\n",
       "    }\n",
       "\n",
       "    .dataframe thead th {\n",
       "        text-align: right;\n",
       "    }\n",
       "</style>\n",
       "<table border=\"1\" class=\"dataframe\">\n",
       "  <thead>\n",
       "    <tr style=\"text-align: right;\">\n",
       "      <th></th>\n",
       "      <th>email</th>\n",
       "      <th>city</th>\n",
       "      <th>phone</th>\n",
       "      <th>age</th>\n",
       "      <th>first</th>\n",
       "      <th>last</th>\n",
       "    </tr>\n",
       "  </thead>\n",
       "  <tbody>\n",
       "    <tr>\n",
       "      <th>0</th>\n",
       "      <td>SUSANCALVIN@EMAIL.COM</td>\n",
       "      <td>London</td>\n",
       "      <td>056152358</td>\n",
       "      <td>28</td>\n",
       "      <td>Susan</td>\n",
       "      <td>Calvin</td>\n",
       "    </tr>\n",
       "    <tr>\n",
       "      <th>1</th>\n",
       "      <td>MDONOVAN@EMAIL.COM</td>\n",
       "      <td>New Delhi</td>\n",
       "      <td>225896337</td>\n",
       "      <td>68</td>\n",
       "      <td>Mike</td>\n",
       "      <td>Donovan</td>\n",
       "    </tr>\n",
       "    <tr>\n",
       "      <th>2</th>\n",
       "      <td>GREGP14@EMAIL.COM</td>\n",
       "      <td>Moskow</td>\n",
       "      <td>895712365</td>\n",
       "      <td>66</td>\n",
       "      <td>Gregory</td>\n",
       "      <td>Powell</td>\n",
       "    </tr>\n",
       "    <tr>\n",
       "      <th>3</th>\n",
       "      <td>BENTLYP@EMAIL.COM</td>\n",
       "      <td>Kathmandu</td>\n",
       "      <td>096523995</td>\n",
       "      <td>42</td>\n",
       "      <td>Bently</td>\n",
       "      <td>Powell</td>\n",
       "    </tr>\n",
       "  </tbody>\n",
       "</table>\n",
       "</div>"
      ],
      "text/plain": [
       "                   email       city      phone age    first     last\n",
       "0  SUSANCALVIN@EMAIL.COM     London  056152358  28    Susan   Calvin\n",
       "1     MDONOVAN@EMAIL.COM  New Delhi  225896337  68     Mike  Donovan\n",
       "2      GREGP14@EMAIL.COM     Moskow  895712365  66  Gregory   Powell\n",
       "3      BENTLYP@EMAIL.COM  Kathmandu  096523995  42   Bently   Powell"
      ]
     },
     "execution_count": 146,
     "metadata": {},
     "output_type": "execute_result"
    }
   ],
   "source": [
    "# with auxiliary function str\n",
    "df['email'] = df['email'].str.upper() \n",
    "df"
   ]
  },
  {
   "cell_type": "code",
   "execution_count": 147,
   "metadata": {},
   "outputs": [
    {
     "data": {
      "text/html": [
       "<div>\n",
       "<style scoped>\n",
       "    .dataframe tbody tr th:only-of-type {\n",
       "        vertical-align: middle;\n",
       "    }\n",
       "\n",
       "    .dataframe tbody tr th {\n",
       "        vertical-align: top;\n",
       "    }\n",
       "\n",
       "    .dataframe thead th {\n",
       "        text-align: right;\n",
       "    }\n",
       "</style>\n",
       "<table border=\"1\" class=\"dataframe\">\n",
       "  <thead>\n",
       "    <tr style=\"text-align: right;\">\n",
       "      <th></th>\n",
       "      <th>email</th>\n",
       "      <th>city</th>\n",
       "      <th>phone</th>\n",
       "      <th>age</th>\n",
       "      <th>first</th>\n",
       "      <th>last</th>\n",
       "    </tr>\n",
       "  </thead>\n",
       "  <tbody>\n",
       "    <tr>\n",
       "      <th>0</th>\n",
       "      <td>susancalvin@email.com</td>\n",
       "      <td>London</td>\n",
       "      <td>056152358</td>\n",
       "      <td>28</td>\n",
       "      <td>Susan</td>\n",
       "      <td>Calvin</td>\n",
       "    </tr>\n",
       "    <tr>\n",
       "      <th>1</th>\n",
       "      <td>mdonovan@email.com</td>\n",
       "      <td>New Delhi</td>\n",
       "      <td>225896337</td>\n",
       "      <td>68</td>\n",
       "      <td>Mike</td>\n",
       "      <td>Donovan</td>\n",
       "    </tr>\n",
       "    <tr>\n",
       "      <th>2</th>\n",
       "      <td>gregp14@email.com</td>\n",
       "      <td>Moskow</td>\n",
       "      <td>895712365</td>\n",
       "      <td>66</td>\n",
       "      <td>Gregory</td>\n",
       "      <td>Powell</td>\n",
       "    </tr>\n",
       "    <tr>\n",
       "      <th>3</th>\n",
       "      <td>bentlyp@email.com</td>\n",
       "      <td>Kathmandu</td>\n",
       "      <td>096523995</td>\n",
       "      <td>42</td>\n",
       "      <td>Bently</td>\n",
       "      <td>Powell</td>\n",
       "    </tr>\n",
       "  </tbody>\n",
       "</table>\n",
       "</div>"
      ],
      "text/plain": [
       "                   email       city      phone age    first     last\n",
       "0  susancalvin@email.com     London  056152358  28    Susan   Calvin\n",
       "1     mdonovan@email.com  New Delhi  225896337  68     Mike  Donovan\n",
       "2      gregp14@email.com     Moskow  895712365  66  Gregory   Powell\n",
       "3      bentlyp@email.com  Kathmandu  096523995  42   Bently   Powell"
      ]
     },
     "execution_count": 147,
     "metadata": {},
     "output_type": "execute_result"
    }
   ],
   "source": [
    "# lowering case of all emails usins apply. Notice the function has to be written withouth the end ()\n",
    "df['email'] = df['email'].apply(str.lower) \n",
    "df"
   ]
  },
  {
   "cell_type": "code",
   "execution_count": 148,
   "metadata": {},
   "outputs": [
    {
     "data": {
      "text/plain": [
       "0    21\n",
       "1    18\n",
       "2    17\n",
       "3    17\n",
       "Name: email, dtype: int64"
      ]
     },
     "execution_count": 148,
     "metadata": {},
     "output_type": "execute_result"
    }
   ],
   "source": [
    "df['email'].apply(len)"
   ]
  },
  {
   "cell_type": "markdown",
   "metadata": {},
   "source": [
    "### Filtering"
   ]
  },
  {
   "cell_type": "markdown",
   "metadata": {},
   "source": [
    "### Concatenating"
   ]
  },
  {
   "cell_type": "code",
   "execution_count": null,
   "metadata": {},
   "outputs": [],
   "source": []
  },
  {
   "cell_type": "code",
   "execution_count": null,
   "metadata": {},
   "outputs": [],
   "source": []
  }
 ],
 "metadata": {
  "kernelspec": {
   "display_name": "Python 3",
   "language": "python",
   "name": "python3"
  },
  "language_info": {
   "codemirror_mode": {
    "name": "ipython",
    "version": 3
   },
   "file_extension": ".py",
   "mimetype": "text/x-python",
   "name": "python",
   "nbconvert_exporter": "python",
   "pygments_lexer": "ipython3",
   "version": "3.7.4"
  }
 },
 "nbformat": 4,
 "nbformat_minor": 4
}
